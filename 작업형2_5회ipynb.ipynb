{
  "nbformat": 4,
  "nbformat_minor": 0,
  "metadata": {
    "colab": {
      "provenance": [],
      "authorship_tag": "ABX9TyM1PDwhDfJyYx+FzuFdRmZa",
      "include_colab_link": true
    },
    "kernelspec": {
      "name": "python3",
      "display_name": "Python 3"
    },
    "language_info": {
      "name": "python"
    }
  },
  "cells": [
    {
      "cell_type": "markdown",
      "metadata": {
        "id": "view-in-github",
        "colab_type": "text"
      },
      "source": [
        "<a href=\"https://colab.research.google.com/github/Adeonthebeat/BigDataCert/blob/main/%EC%9E%91%EC%97%85%ED%98%952_5%ED%9A%8Cipynb.ipynb\" target=\"_parent\"><img src=\"https://colab.research.google.com/assets/colab-badge.svg\" alt=\"Open In Colab\"/></a>"
      ]
    },
    {
      "cell_type": "code",
      "execution_count": null,
      "metadata": {
        "colab": {
          "base_uri": "https://localhost:8080/"
        },
        "id": "Pd1D9mputmUl",
        "outputId": "77476aab-c277-441a-ce55-74570a002bf2"
      },
      "outputs": [
        {
          "output_type": "stream",
          "name": "stdout",
          "text": [
            "Cloning into 'yemoonsaBigdata'...\n",
            "remote: Enumerating objects: 637, done.\u001b[K\n",
            "remote: Counting objects: 100% (274/274), done.\u001b[K\n",
            "remote: Compressing objects: 100% (165/165), done.\u001b[K\n",
            "remote: Total 637 (delta 136), reused 184 (delta 109), pack-reused 363\u001b[K\n",
            "Receiving objects: 100% (637/637), 10.76 MiB | 21.15 MiB/s, done.\n",
            "Resolving deltas: 100% (321/321), done.\n"
          ]
        }
      ],
      "source": [
        "'''\n",
        "다음은 Used car 데이터 세트다.\n",
        "주어진 훈련 데이터 세트를 활용하여 중고차의 판매가격을 예측하고 해당 예측결과를 csv파일로 제출하시오.\n",
        "'''\n",
        "# rmse\n",
        "!git clone https://github.com/AnalyticsKnight/yemoonsaBigdata/\n",
        "\n"
      ]
    },
    {
      "cell_type": "code",
      "source": [
        "import pandas as pd\n",
        "\n",
        "# Data read\n",
        "x_test = pd.read_csv('/content/yemoonsaBigdata/datasets/Part3/504_x_test.csv')\n",
        "x_train = pd.read_csv('/content/yemoonsaBigdata/datasets/Part3/504_x_train.csv')\n",
        "y_train = pd.read_csv('/content/yemoonsaBigdata/datasets/Part3/504_y_train.csv')\n"
      ],
      "metadata": {
        "id": "YC7ofjvIulOJ"
      },
      "execution_count": null,
      "outputs": []
    },
    {
      "cell_type": "code",
      "source": [
        "print(x_test.head())"
      ],
      "metadata": {
        "colab": {
          "base_uri": "https://localhost:8080/"
        },
        "id": "-fSM0QNtvK3K",
        "outputId": "8cbb0c74-1650-43cd-c5d5-c86f242e1c07"
      },
      "execution_count": null,
      "outputs": [
        {
          "output_type": "stream",
          "name": "stdout",
          "text": [
            "     id model  year transmission  mileage fuelType  tax   mpg  engineSize\n",
            "0  7469    A4  2020    Semi-Auto     4000   Diesel  145  54.3         3.0\n",
            "1  7470    A6  2016       Manual    31300   Diesel   30  61.4         2.0\n",
            "2  7471    Q5  2019    Semi-Auto    11296   Diesel  150  38.2         2.0\n",
            "3  7472    A1  2018       Manual     6500   Petrol  145  55.4         1.4\n",
            "4  7473    A3  2016       Manual    31524   Petrol   30  60.1         1.4\n"
          ]
        }
      ]
    },
    {
      "cell_type": "code",
      "source": [
        "print(x_train.head())"
      ],
      "metadata": {
        "colab": {
          "base_uri": "https://localhost:8080/"
        },
        "id": "PunYCqiyvNz5",
        "outputId": "035e5118-38f6-4422-8527-b71556385013"
      },
      "execution_count": null,
      "outputs": [
        {
          "output_type": "stream",
          "name": "stdout",
          "text": [
            "   id model  year transmission  mileage fuelType  tax   mpg  engineSize\n",
            "0   1    A1  2019    Automatic     3500   Petrol  145  40.9         2.0\n",
            "1   2   RS4  2020    Semi-Auto     2500   Petrol  145  28.8         2.9\n",
            "2   3    A8  2019    Semi-Auto      500   Diesel  145  40.4         3.0\n",
            "3   4    Q5  2019    Semi-Auto     5089   Diesel  150  38.2         2.0\n",
            "4   5    A5  2020    Semi-Auto     4951   Diesel  145  51.4         2.0\n"
          ]
        }
      ]
    },
    {
      "cell_type": "code",
      "source": [
        "print(y_train.head())"
      ],
      "metadata": {
        "colab": {
          "base_uri": "https://localhost:8080/"
        },
        "id": "Lp6Fgsdwvef3",
        "outputId": "fdb4ff31-4c45-4e99-8ae1-92c557856d6c"
      },
      "execution_count": null,
      "outputs": [
        {
          "output_type": "stream",
          "name": "stdout",
          "text": [
            "   id  price\n",
            "0   1  21350\n",
            "1   2  69691\n",
            "2   3  42950\n",
            "3   4  31470\n",
            "4   5  27495\n"
          ]
        }
      ]
    },
    {
      "cell_type": "code",
      "source": [
        "print(x_test.info())"
      ],
      "metadata": {
        "colab": {
          "base_uri": "https://localhost:8080/"
        },
        "id": "Z1zLph7Ivhw6",
        "outputId": "75e23cc7-d556-4c6b-b643-19c398ab7d57"
      },
      "execution_count": null,
      "outputs": [
        {
          "output_type": "stream",
          "name": "stdout",
          "text": [
            "<class 'pandas.core.frame.DataFrame'>\n",
            "RangeIndex: 3200 entries, 0 to 3199\n",
            "Data columns (total 9 columns):\n",
            " #   Column        Non-Null Count  Dtype  \n",
            "---  ------        --------------  -----  \n",
            " 0   id            3200 non-null   int64  \n",
            " 1   model         3200 non-null   object \n",
            " 2   year          3200 non-null   int64  \n",
            " 3   transmission  3200 non-null   object \n",
            " 4   mileage       3200 non-null   int64  \n",
            " 5   fuelType      3200 non-null   object \n",
            " 6   tax           3200 non-null   int64  \n",
            " 7   mpg           3200 non-null   float64\n",
            " 8   engineSize    3200 non-null   float64\n",
            "dtypes: float64(2), int64(4), object(3)\n",
            "memory usage: 225.1+ KB\n",
            "None\n"
          ]
        }
      ]
    },
    {
      "cell_type": "code",
      "source": [
        "print(x_train.info())"
      ],
      "metadata": {
        "colab": {
          "base_uri": "https://localhost:8080/"
        },
        "id": "7swJD70vvlbI",
        "outputId": "31ab66f6-2db1-48a6-ec93-4684d798fc1a"
      },
      "execution_count": null,
      "outputs": [
        {
          "output_type": "stream",
          "name": "stdout",
          "text": [
            "<class 'pandas.core.frame.DataFrame'>\n",
            "RangeIndex: 7468 entries, 0 to 7467\n",
            "Data columns (total 9 columns):\n",
            " #   Column        Non-Null Count  Dtype  \n",
            "---  ------        --------------  -----  \n",
            " 0   id            7468 non-null   int64  \n",
            " 1   model         7468 non-null   object \n",
            " 2   year          7468 non-null   int64  \n",
            " 3   transmission  7468 non-null   object \n",
            " 4   mileage       7468 non-null   int64  \n",
            " 5   fuelType      7468 non-null   object \n",
            " 6   tax           7468 non-null   int64  \n",
            " 7   mpg           7468 non-null   float64\n",
            " 8   engineSize    7468 non-null   float64\n",
            "dtypes: float64(2), int64(4), object(3)\n",
            "memory usage: 525.2+ KB\n",
            "None\n"
          ]
        }
      ]
    },
    {
      "cell_type": "code",
      "source": [
        "print(y_train.info())"
      ],
      "metadata": {
        "colab": {
          "base_uri": "https://localhost:8080/"
        },
        "id": "tYfkoDObvoTp",
        "outputId": "9fc4a571-9c3f-4095-89b1-07e51adaa336"
      },
      "execution_count": null,
      "outputs": [
        {
          "output_type": "stream",
          "name": "stdout",
          "text": [
            "<class 'pandas.core.frame.DataFrame'>\n",
            "RangeIndex: 7468 entries, 0 to 7467\n",
            "Data columns (total 2 columns):\n",
            " #   Column  Non-Null Count  Dtype\n",
            "---  ------  --------------  -----\n",
            " 0   id      7468 non-null   int64\n",
            " 1   price   7468 non-null   int64\n",
            "dtypes: int64(2)\n",
            "memory usage: 116.8 KB\n",
            "None\n"
          ]
        }
      ]
    },
    {
      "cell_type": "code",
      "source": [
        "x_train.isnull().sum()"
      ],
      "metadata": {
        "colab": {
          "base_uri": "https://localhost:8080/"
        },
        "id": "2aEymIFRvrAo",
        "outputId": "17bbacbc-a888-4a13-bd9a-364a568e671d"
      },
      "execution_count": null,
      "outputs": [
        {
          "output_type": "execute_result",
          "data": {
            "text/plain": [
              "id              0\n",
              "model           0\n",
              "year            0\n",
              "transmission    0\n",
              "mileage         0\n",
              "fuelType        0\n",
              "tax             0\n",
              "mpg             0\n",
              "engineSize      0\n",
              "dtype: int64"
            ]
          },
          "metadata": {},
          "execution_count": 9
        }
      ]
    },
    {
      "cell_type": "code",
      "source": [
        "# x_test.isnull().sum()\n",
        "print(x_test.head())"
      ],
      "metadata": {
        "colab": {
          "base_uri": "https://localhost:8080/"
        },
        "id": "IOVs1BY3vv3Q",
        "outputId": "f2fb5c77-24c8-4fbd-93ea-8c7f3b36c773"
      },
      "execution_count": null,
      "outputs": [
        {
          "output_type": "stream",
          "name": "stdout",
          "text": [
            "     id model  year transmission  mileage fuelType  tax   mpg  engineSize\n",
            "0  7469    A4  2020    Semi-Auto     4000   Diesel  145  54.3         3.0\n",
            "1  7470    A6  2016       Manual    31300   Diesel   30  61.4         2.0\n",
            "2  7471    Q5  2019    Semi-Auto    11296   Diesel  150  38.2         2.0\n",
            "3  7472    A1  2018       Manual     6500   Petrol  145  55.4         1.4\n",
            "4  7473    A3  2016       Manual    31524   Petrol   30  60.1         1.4\n"
          ]
        }
      ]
    },
    {
      "cell_type": "code",
      "source": [
        "# id model  year transmission  mileage fuelType  tax   mpg  engineSize\n",
        "# 불필요 변수  : id\n",
        "# 범주형 변수  : model / transmission / fuelType\n",
        "# 수치형 변수  : year / mileage / tax / mpg / engineSize\n",
        "\n",
        "COL_DEL = ['id']\n",
        "COL_CAT = ['model', 'transmission', 'fuelType']\n",
        "COL_NUM = ['year', 'mileage', 'tax', 'mpg', 'engineSize']\n",
        "COL_Y = ['price']\n"
      ],
      "metadata": {
        "id": "YmN5biobvx-J"
      },
      "execution_count": null,
      "outputs": []
    },
    {
      "cell_type": "code",
      "source": [
        "# 데이터 분리\n",
        "from sklearn.model_selection import train_test_split\n",
        "\n",
        "x_tr, x_val, y_tr, y_val = train_test_split(x_train[COL_NUM + COL_CAT]\n",
        "                                           ,y_train[COL_Y].values.ravel()\n",
        "                                           ,test_size = 0.3)"
      ],
      "metadata": {
        "id": "meTjwdkxw25J"
      },
      "execution_count": null,
      "outputs": []
    },
    {
      "cell_type": "code",
      "source": [
        "print(x_tr.head())"
      ],
      "metadata": {
        "colab": {
          "base_uri": "https://localhost:8080/"
        },
        "id": "CWuXOerCxXLh",
        "outputId": "4016f6f5-ecf8-4e32-ee1b-d7b09c6096a3"
      },
      "execution_count": null,
      "outputs": [
        {
          "output_type": "stream",
          "name": "stdout",
          "text": [
            "      year  mileage  tax   mpg  engineSize model transmission fuelType\n",
            "1738  2016    49458   30  61.4         2.0    A6    Semi-Auto   Diesel\n",
            "4573  2016    34359  125  52.3         1.4    A3       Manual   Petrol\n",
            "4189  2016    46553   30  61.4         2.0    Q3       Manual   Diesel\n",
            "6250  2017     7800  150  57.6         1.4    A1       Manual   Petrol\n",
            "4205  2016    32011  145  49.6         1.4    Q3       Manual   Petrol\n"
          ]
        }
      ]
    },
    {
      "cell_type": "code",
      "source": [
        "print(y_tr)"
      ],
      "metadata": {
        "colab": {
          "base_uri": "https://localhost:8080/"
        },
        "id": "KybddTvtxhSb",
        "outputId": "a9caf79d-0158-43a6-d3c8-35190e9f7bd2"
      },
      "execution_count": null,
      "outputs": [
        {
          "output_type": "stream",
          "name": "stdout",
          "text": [
            "[14498 14222 13849 ... 35995 18798 20880]\n"
          ]
        }
      ]
    },
    {
      "cell_type": "code",
      "source": [
        "# 스케일링\n",
        "from sklearn.preprocessing import StandardScaler\n",
        "\n",
        "scaler = StandardScaler()\n",
        "scaler.fit(x_tr[COL_NUM])\n",
        "\n",
        "# 필수 모든 데이터 스케일링 필요\n",
        "x_tr[COL_NUM] = scaler.transform(x_tr[COL_NUM])\n",
        "x_val[COL_NUM] = scaler.transform(x_val[COL_NUM])\n",
        "x_test[COL_NUM] = scaler.transform(x_test[COL_NUM])\n",
        "\n",
        "print(x_tr[COL_NUM].head())"
      ],
      "metadata": {
        "colab": {
          "base_uri": "https://localhost:8080/"
        },
        "id": "4nUzZwjpxlVM",
        "outputId": "125676ec-4ea7-4318-efad-c81cb2e43128"
      },
      "execution_count": null,
      "outputs": [
        {
          "output_type": "stream",
          "name": "stdout",
          "text": [
            "          year   mileage       tax       mpg  engineSize\n",
            "1738 -0.516489  1.040286 -1.426713  0.812395    0.131166\n",
            "4573 -0.516489  0.398489 -0.003096  0.102389   -0.886053\n",
            "4189 -0.516489  0.916806 -1.426713  0.812395    0.131166\n",
            "6250 -0.045668 -0.730426  0.371540  0.515909   -0.886053\n",
            "4205 -0.516489  0.298685  0.296613 -0.108272   -0.886053\n"
          ]
        }
      ]
    },
    {
      "cell_type": "code",
      "source": [
        "# 범주형 변수 데이터 인코딩\n",
        "from sklearn.preprocessing import LabelEncoder\n",
        "\n",
        "x = pd.concat([x_train[COL_CAT], x_test[COL_CAT]])\n",
        "\n",
        "for col in COL_CAT:\n",
        "  le = LabelEncoder()\n",
        "  le.fit(x[col])\n",
        "  x_tr[col] = le.transform(x_tr[col])\n",
        "  x_val[col] = le.transform(x_val[col])\n",
        "  x_test[col] = le.transform(x_test[col])\n",
        "\n",
        "  print(col)\n",
        "  print(le.classes_)\n",
        "  print('\\n')"
      ],
      "metadata": {
        "colab": {
          "base_uri": "https://localhost:8080/"
        },
        "id": "74XEf04fybBP",
        "outputId": "8538cd7e-0502-416a-acb5-5df190a6cf96"
      },
      "execution_count": null,
      "outputs": [
        {
          "output_type": "stream",
          "name": "stdout",
          "text": [
            "model\n",
            "[' A1' ' A2' ' A3' ' A4' ' A5' ' A6' ' A7' ' A8' ' Q2' ' Q3' ' Q5' ' Q7'\n",
            " ' Q8' ' R8' ' RS3' ' RS4' ' RS5' ' RS6' ' RS7' ' S3' ' S4' ' S5' ' S8'\n",
            " ' SQ5' ' SQ7' ' TT']\n",
            "\n",
            "\n",
            "transmission\n",
            "['Automatic' 'Manual' 'Semi-Auto']\n",
            "\n",
            "\n",
            "fuelType\n",
            "['Diesel' 'Hybrid' 'Petrol']\n",
            "\n",
            "\n"
          ]
        }
      ]
    },
    {
      "cell_type": "code",
      "source": [
        "print(x_tr[COL_CAT].head())"
      ],
      "metadata": {
        "colab": {
          "base_uri": "https://localhost:8080/"
        },
        "id": "ZFE-LPK3zPt-",
        "outputId": "6f9eb773-317e-4692-d6fc-a21ea243e891"
      },
      "execution_count": null,
      "outputs": [
        {
          "output_type": "stream",
          "name": "stdout",
          "text": [
            "      model  transmission  fuelType\n",
            "1738      5             2         0\n",
            "4573      2             1         2\n",
            "4189      9             1         0\n",
            "6250      0             1         2\n",
            "4205      9             1         2\n"
          ]
        }
      ]
    },
    {
      "cell_type": "code",
      "source": [
        "# 랜덤 포레스트\n",
        "from sklearn.ensemble import RandomForestRegressor\n",
        "model_rf = RandomForestRegressor(random_state=123)\n",
        "model_rf.fit(x_tr, y_tr)\n",
        "\n",
        "# XGBoost\n",
        "from xgboost import XGBRegressor\n",
        "model_xgb = XGBRegressor(random_state=123)\n",
        "model_xgb.fit(x_tr, y_tr)"
      ],
      "metadata": {
        "colab": {
          "base_uri": "https://localhost:8080/",
          "height": 248
        },
        "id": "9Guu31O90BKu",
        "outputId": "4f412226-a825-4d6d-8a29-5369228a91eb"
      },
      "execution_count": null,
      "outputs": [
        {
          "output_type": "execute_result",
          "data": {
            "text/plain": [
              "XGBRegressor(base_score=None, booster=None, callbacks=None,\n",
              "             colsample_bylevel=None, colsample_bynode=None,\n",
              "             colsample_bytree=None, device=None, early_stopping_rounds=None,\n",
              "             enable_categorical=False, eval_metric=None, feature_types=None,\n",
              "             gamma=None, grow_policy=None, importance_type=None,\n",
              "             interaction_constraints=None, learning_rate=None, max_bin=None,\n",
              "             max_cat_threshold=None, max_cat_to_onehot=None,\n",
              "             max_delta_step=None, max_depth=None, max_leaves=None,\n",
              "             min_child_weight=None, missing=nan, monotone_constraints=None,\n",
              "             multi_strategy=None, n_estimators=None, n_jobs=None,\n",
              "             num_parallel_tree=None, random_state=123, ...)"
            ],
            "text/html": [
              "<style>#sk-container-id-1 {color: black;background-color: white;}#sk-container-id-1 pre{padding: 0;}#sk-container-id-1 div.sk-toggleable {background-color: white;}#sk-container-id-1 label.sk-toggleable__label {cursor: pointer;display: block;width: 100%;margin-bottom: 0;padding: 0.3em;box-sizing: border-box;text-align: center;}#sk-container-id-1 label.sk-toggleable__label-arrow:before {content: \"▸\";float: left;margin-right: 0.25em;color: #696969;}#sk-container-id-1 label.sk-toggleable__label-arrow:hover:before {color: black;}#sk-container-id-1 div.sk-estimator:hover label.sk-toggleable__label-arrow:before {color: black;}#sk-container-id-1 div.sk-toggleable__content {max-height: 0;max-width: 0;overflow: hidden;text-align: left;background-color: #f0f8ff;}#sk-container-id-1 div.sk-toggleable__content pre {margin: 0.2em;color: black;border-radius: 0.25em;background-color: #f0f8ff;}#sk-container-id-1 input.sk-toggleable__control:checked~div.sk-toggleable__content {max-height: 200px;max-width: 100%;overflow: auto;}#sk-container-id-1 input.sk-toggleable__control:checked~label.sk-toggleable__label-arrow:before {content: \"▾\";}#sk-container-id-1 div.sk-estimator input.sk-toggleable__control:checked~label.sk-toggleable__label {background-color: #d4ebff;}#sk-container-id-1 div.sk-label input.sk-toggleable__control:checked~label.sk-toggleable__label {background-color: #d4ebff;}#sk-container-id-1 input.sk-hidden--visually {border: 0;clip: rect(1px 1px 1px 1px);clip: rect(1px, 1px, 1px, 1px);height: 1px;margin: -1px;overflow: hidden;padding: 0;position: absolute;width: 1px;}#sk-container-id-1 div.sk-estimator {font-family: monospace;background-color: #f0f8ff;border: 1px dotted black;border-radius: 0.25em;box-sizing: border-box;margin-bottom: 0.5em;}#sk-container-id-1 div.sk-estimator:hover {background-color: #d4ebff;}#sk-container-id-1 div.sk-parallel-item::after {content: \"\";width: 100%;border-bottom: 1px solid gray;flex-grow: 1;}#sk-container-id-1 div.sk-label:hover label.sk-toggleable__label {background-color: #d4ebff;}#sk-container-id-1 div.sk-serial::before {content: \"\";position: absolute;border-left: 1px solid gray;box-sizing: border-box;top: 0;bottom: 0;left: 50%;z-index: 0;}#sk-container-id-1 div.sk-serial {display: flex;flex-direction: column;align-items: center;background-color: white;padding-right: 0.2em;padding-left: 0.2em;position: relative;}#sk-container-id-1 div.sk-item {position: relative;z-index: 1;}#sk-container-id-1 div.sk-parallel {display: flex;align-items: stretch;justify-content: center;background-color: white;position: relative;}#sk-container-id-1 div.sk-item::before, #sk-container-id-1 div.sk-parallel-item::before {content: \"\";position: absolute;border-left: 1px solid gray;box-sizing: border-box;top: 0;bottom: 0;left: 50%;z-index: -1;}#sk-container-id-1 div.sk-parallel-item {display: flex;flex-direction: column;z-index: 1;position: relative;background-color: white;}#sk-container-id-1 div.sk-parallel-item:first-child::after {align-self: flex-end;width: 50%;}#sk-container-id-1 div.sk-parallel-item:last-child::after {align-self: flex-start;width: 50%;}#sk-container-id-1 div.sk-parallel-item:only-child::after {width: 0;}#sk-container-id-1 div.sk-dashed-wrapped {border: 1px dashed gray;margin: 0 0.4em 0.5em 0.4em;box-sizing: border-box;padding-bottom: 0.4em;background-color: white;}#sk-container-id-1 div.sk-label label {font-family: monospace;font-weight: bold;display: inline-block;line-height: 1.2em;}#sk-container-id-1 div.sk-label-container {text-align: center;}#sk-container-id-1 div.sk-container {/* jupyter's `normalize.less` sets `[hidden] { display: none; }` but bootstrap.min.css set `[hidden] { display: none !important; }` so we also need the `!important` here to be able to override the default hidden behavior on the sphinx rendered scikit-learn.org. See: https://github.com/scikit-learn/scikit-learn/issues/21755 */display: inline-block !important;position: relative;}#sk-container-id-1 div.sk-text-repr-fallback {display: none;}</style><div id=\"sk-container-id-1\" class=\"sk-top-container\"><div class=\"sk-text-repr-fallback\"><pre>XGBRegressor(base_score=None, booster=None, callbacks=None,\n",
              "             colsample_bylevel=None, colsample_bynode=None,\n",
              "             colsample_bytree=None, device=None, early_stopping_rounds=None,\n",
              "             enable_categorical=False, eval_metric=None, feature_types=None,\n",
              "             gamma=None, grow_policy=None, importance_type=None,\n",
              "             interaction_constraints=None, learning_rate=None, max_bin=None,\n",
              "             max_cat_threshold=None, max_cat_to_onehot=None,\n",
              "             max_delta_step=None, max_depth=None, max_leaves=None,\n",
              "             min_child_weight=None, missing=nan, monotone_constraints=None,\n",
              "             multi_strategy=None, n_estimators=None, n_jobs=None,\n",
              "             num_parallel_tree=None, random_state=123, ...)</pre><b>In a Jupyter environment, please rerun this cell to show the HTML representation or trust the notebook. <br />On GitHub, the HTML representation is unable to render, please try loading this page with nbviewer.org.</b></div><div class=\"sk-container\" hidden><div class=\"sk-item\"><div class=\"sk-estimator sk-toggleable\"><input class=\"sk-toggleable__control sk-hidden--visually\" id=\"sk-estimator-id-1\" type=\"checkbox\" checked><label for=\"sk-estimator-id-1\" class=\"sk-toggleable__label sk-toggleable__label-arrow\">XGBRegressor</label><div class=\"sk-toggleable__content\"><pre>XGBRegressor(base_score=None, booster=None, callbacks=None,\n",
              "             colsample_bylevel=None, colsample_bynode=None,\n",
              "             colsample_bytree=None, device=None, early_stopping_rounds=None,\n",
              "             enable_categorical=False, eval_metric=None, feature_types=None,\n",
              "             gamma=None, grow_policy=None, importance_type=None,\n",
              "             interaction_constraints=None, learning_rate=None, max_bin=None,\n",
              "             max_cat_threshold=None, max_cat_to_onehot=None,\n",
              "             max_delta_step=None, max_depth=None, max_leaves=None,\n",
              "             min_child_weight=None, missing=nan, monotone_constraints=None,\n",
              "             multi_strategy=None, n_estimators=None, n_jobs=None,\n",
              "             num_parallel_tree=None, random_state=123, ...)</pre></div></div></div></div></div>"
            ]
          },
          "metadata": {},
          "execution_count": 22
        }
      ]
    },
    {
      "cell_type": "code",
      "source": [
        "y_val_rf = model_rf.predict(x_val)\n",
        "y_val_xgb = model_xgb.predict(x_val)"
      ],
      "metadata": {
        "id": "pugPOH0Z4QyX"
      },
      "execution_count": null,
      "outputs": []
    },
    {
      "cell_type": "code",
      "source": [
        "# 답안 제출 기준 RMSE\n",
        "from sklearn.metrics import mean_squared_error\n",
        "import numpy as np\n",
        "\n",
        "def cal_rmse(actual, pred):\n",
        "  return np.sqrt(mean_squared_error(actual, pred))\n",
        "\n",
        "score_rf = cal_rmse(y_val, y_val_rf)\n",
        "score_xgb = cal_rmse(y_val, y_val_xgb)\n",
        "\n",
        "print('RANDOM FOREST : ', score_rf)\n",
        "print('XGBOOST       : ', score_xgb)"
      ],
      "metadata": {
        "colab": {
          "base_uri": "https://localhost:8080/"
        },
        "id": "rggR6MSt4cXb",
        "outputId": "91fb003d-013b-41eb-88be-2352b7b81741"
      },
      "execution_count": null,
      "outputs": [
        {
          "output_type": "stream",
          "name": "stdout",
          "text": [
            "RANDOM FOREST :  2384.3535549113235\n",
            "XGBOOST       :  2312.8880559395307\n"
          ]
        }
      ]
    },
    {
      "cell_type": "code",
      "source": [
        "pred = model_xgb.predict(x_test[COL_NUM + COL_CAT])\n",
        "result = pd.DataFrame({'id' : x_test.id, 'price' :pred})\n",
        "print(result.head())"
      ],
      "metadata": {
        "colab": {
          "base_uri": "https://localhost:8080/"
        },
        "id": "F-V5yJvf6Hy5",
        "outputId": "429a65c1-0b92-40f7-adb7-4d75ae439d39"
      },
      "execution_count": null,
      "outputs": [
        {
          "output_type": "stream",
          "name": "stdout",
          "text": [
            "     id         price\n",
            "0  7469  29707.900391\n",
            "1  7470  16958.250000\n",
            "2  7471  34561.476562\n",
            "3  7472  15710.848633\n",
            "4  7473  15458.408203\n"
          ]
        }
      ]
    },
    {
      "cell_type": "code",
      "source": [
        "result.to_csv('223008_001.csv', index=False)"
      ],
      "metadata": {
        "id": "ZgP9tvlf6_33"
      },
      "execution_count": null,
      "outputs": []
    },
    {
      "cell_type": "code",
      "source": [],
      "metadata": {
        "id": "piA1cT_57Fxu"
      },
      "execution_count": null,
      "outputs": []
    }
  ]
}