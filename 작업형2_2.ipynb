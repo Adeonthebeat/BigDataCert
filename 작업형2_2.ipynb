{
  "nbformat": 4,
  "nbformat_minor": 0,
  "metadata": {
    "colab": {
      "provenance": [],
      "authorship_tag": "ABX9TyNtsRgixD5vIq51gxlTpwln",
      "include_colab_link": true
    },
    "kernelspec": {
      "name": "python3",
      "display_name": "Python 3"
    },
    "language_info": {
      "name": "python"
    }
  },
  "cells": [
    {
      "cell_type": "markdown",
      "metadata": {
        "id": "view-in-github",
        "colab_type": "text"
      },
      "source": [
        "<a href=\"https://colab.research.google.com/github/Adeonthebeat/BigDataCert/blob/main/%EC%9E%91%EC%97%85%ED%98%952_2.ipynb\" target=\"_parent\"><img src=\"https://colab.research.google.com/assets/colab-badge.svg\" alt=\"Open In Colab\"/></a>"
      ]
    },
    {
      "cell_type": "code",
      "execution_count": null,
      "metadata": {
        "colab": {
          "base_uri": "https://localhost:8080/"
        },
        "id": "k2cPD6VFbNRE",
        "outputId": "ea96ba5b-7bd4-4d96-b498-a010ca26e647"
      },
      "outputs": [
        {
          "output_type": "stream",
          "name": "stdout",
          "text": [
            "Cloning into 'yemoonsaBigdata'...\n",
            "remote: Enumerating objects: 637, done.\u001b[K\n",
            "remote: Counting objects: 100% (274/274), done.\u001b[K\n",
            "remote: Compressing objects: 100% (165/165), done.\u001b[K\n",
            "remote: Total 637 (delta 136), reused 184 (delta 109), pack-reused 363\u001b[K\n",
            "Receiving objects: 100% (637/637), 10.76 MiB | 19.61 MiB/s, done.\n",
            "Resolving deltas: 100% (321/321), done.\n"
          ]
        }
      ],
      "source": [
        "'''\n",
        "다음은 E-commerce Shipping 데이터 세트다. 주어진 훈련 데이터 세트를 활용하여 고객이 주문한 물품의\n",
        "도착여부를 예측하고 해당 예측 결과를 csv 파일로 제출하시오.\n",
        "'''\n",
        "# ROC_AUC\n",
        "!git clone https://github.com/AnalyticsKnight/yemoonsaBigdata/"
      ]
    },
    {
      "cell_type": "code",
      "source": [
        "import pandas as pd\n",
        "\n",
        "x_test = pd.read_csv('/content/yemoonsaBigdata/datasets/Part3/204_x_test.csv')\n",
        "x_train = pd.read_csv('/content/yemoonsaBigdata/datasets/Part3/204_x_train.csv')\n",
        "y_train = pd.read_csv('/content/yemoonsaBigdata/datasets/Part3/204_y_train.csv')"
      ],
      "metadata": {
        "id": "PMQl_UGDc_y6"
      },
      "execution_count": null,
      "outputs": []
    },
    {
      "cell_type": "code",
      "source": [
        "print(x_test.head())"
      ],
      "metadata": {
        "colab": {
          "base_uri": "https://localhost:8080/"
        },
        "id": "NEUFQks1dZ5J",
        "outputId": "98b712e6-da8e-4f3c-c516-c07587c60e90"
      },
      "execution_count": null,
      "outputs": [
        {
          "output_type": "stream",
          "name": "stdout",
          "text": [
            "      ID Warehouse_block Mode_of_Shipment  Customer_care_calls  \\\n",
            "0   7007               C             Ship                    4   \n",
            "1   9793               D             Ship                    4   \n",
            "2   6593               C           Flight                    7   \n",
            "3  10527               A             Road                    4   \n",
            "4   6914               F             Ship                    5   \n",
            "\n",
            "   Customer_rating  Cost_of_the_Product  Prior_purchases Product_importance  \\\n",
            "0                1                  238                3               high   \n",
            "1                2                  245                3             medium   \n",
            "2                4                  272                4                low   \n",
            "3                1                  204                6                low   \n",
            "4                5                  256                5             medium   \n",
            "\n",
            "  Gender  Discount_offered  Weight_in_gms  \n",
            "0      F                 4           4910  \n",
            "1      M                 1           4731  \n",
            "2      M                 3           1805  \n",
            "3      M                 1           4943  \n",
            "4      M                 2           1693  \n"
          ]
        }
      ]
    },
    {
      "cell_type": "code",
      "source": [
        "print(x_train.head())"
      ],
      "metadata": {
        "colab": {
          "base_uri": "https://localhost:8080/"
        },
        "id": "oyzFAs3Pdc4A",
        "outputId": "28ee2e0f-38aa-4ea6-8140-43d0f487a9ff"
      },
      "execution_count": null,
      "outputs": [
        {
          "output_type": "stream",
          "name": "stdout",
          "text": [
            "      ID Warehouse_block Mode_of_Shipment  Customer_care_calls  \\\n",
            "0   9902               F             Ship                    3   \n",
            "1   9501               A             Ship                    4   \n",
            "2   6111               A             Ship                    4   \n",
            "3    588               F             Ship                    3   \n",
            "4  10806               F             Road                    5   \n",
            "\n",
            "   Customer_rating  Cost_of_the_Product  Prior_purchases Product_importance  \\\n",
            "0                5                  214                2             medium   \n",
            "1                2                  201                3             medium   \n",
            "2                2                  264                3                low   \n",
            "3                5                  194                2             medium   \n",
            "4                5                  269                5             medium   \n",
            "\n",
            "  Gender  Discount_offered  Weight_in_gms  \n",
            "0      F                 6           4578  \n",
            "1      F                 4           4613  \n",
            "2      M                10           5137  \n",
            "3      M                 4           3496  \n",
            "4      F                 3           1120  \n"
          ]
        }
      ]
    },
    {
      "cell_type": "code",
      "source": [
        "print(y_train.head())"
      ],
      "metadata": {
        "colab": {
          "base_uri": "https://localhost:8080/"
        },
        "id": "0_myFA_Dde69",
        "outputId": "6afce034-61c2-4e37-b451-bf9161999e7c"
      },
      "execution_count": null,
      "outputs": [
        {
          "output_type": "stream",
          "name": "stdout",
          "text": [
            "      ID  Reached.on.Time_Y.N\n",
            "0   9902                    0\n",
            "1   9501                    0\n",
            "2   6111                    1\n",
            "3    588                    1\n",
            "4  10806                    0\n"
          ]
        }
      ]
    },
    {
      "cell_type": "code",
      "source": [
        "print(x_train.info())"
      ],
      "metadata": {
        "colab": {
          "base_uri": "https://localhost:8080/"
        },
        "id": "6jQVprvydgjm",
        "outputId": "f9c2cf37-4245-4286-ef5d-6584023f190f"
      },
      "execution_count": null,
      "outputs": [
        {
          "output_type": "stream",
          "name": "stdout",
          "text": [
            "<class 'pandas.core.frame.DataFrame'>\n",
            "RangeIndex: 6599 entries, 0 to 6598\n",
            "Data columns (total 11 columns):\n",
            " #   Column               Non-Null Count  Dtype \n",
            "---  ------               --------------  ----- \n",
            " 0   ID                   6599 non-null   int64 \n",
            " 1   Warehouse_block      6599 non-null   object\n",
            " 2   Mode_of_Shipment     6599 non-null   object\n",
            " 3   Customer_care_calls  6599 non-null   int64 \n",
            " 4   Customer_rating      6599 non-null   int64 \n",
            " 5   Cost_of_the_Product  6599 non-null   int64 \n",
            " 6   Prior_purchases      6599 non-null   int64 \n",
            " 7   Product_importance   6599 non-null   object\n",
            " 8   Gender               6599 non-null   object\n",
            " 9   Discount_offered     6599 non-null   int64 \n",
            " 10  Weight_in_gms        6599 non-null   int64 \n",
            "dtypes: int64(7), object(4)\n",
            "memory usage: 567.2+ KB\n",
            "None\n"
          ]
        }
      ]
    },
    {
      "cell_type": "code",
      "source": [
        "print(y_train.info())"
      ],
      "metadata": {
        "colab": {
          "base_uri": "https://localhost:8080/"
        },
        "id": "ecK0qscHdj96",
        "outputId": "3758d3da-76e7-4024-e522-6579a28e04e4"
      },
      "execution_count": null,
      "outputs": [
        {
          "output_type": "stream",
          "name": "stdout",
          "text": [
            "<class 'pandas.core.frame.DataFrame'>\n",
            "RangeIndex: 6599 entries, 0 to 6598\n",
            "Data columns (total 2 columns):\n",
            " #   Column               Non-Null Count  Dtype\n",
            "---  ------               --------------  -----\n",
            " 0   ID                   6599 non-null   int64\n",
            " 1   Reached.on.Time_Y.N  6599 non-null   int64\n",
            "dtypes: int64(2)\n",
            "memory usage: 103.2 KB\n",
            "None\n"
          ]
        }
      ]
    },
    {
      "cell_type": "code",
      "source": [
        "print(x_test.info())"
      ],
      "metadata": {
        "colab": {
          "base_uri": "https://localhost:8080/"
        },
        "id": "NNCNuGUNdmaQ",
        "outputId": "e88b51e8-0d18-40e0-8548-e4b6ddebe3b9"
      },
      "execution_count": null,
      "outputs": [
        {
          "output_type": "stream",
          "name": "stdout",
          "text": [
            "<class 'pandas.core.frame.DataFrame'>\n",
            "RangeIndex: 4400 entries, 0 to 4399\n",
            "Data columns (total 11 columns):\n",
            " #   Column               Non-Null Count  Dtype \n",
            "---  ------               --------------  ----- \n",
            " 0   ID                   4400 non-null   int64 \n",
            " 1   Warehouse_block      4400 non-null   object\n",
            " 2   Mode_of_Shipment     4400 non-null   object\n",
            " 3   Customer_care_calls  4400 non-null   int64 \n",
            " 4   Customer_rating      4400 non-null   int64 \n",
            " 5   Cost_of_the_Product  4400 non-null   int64 \n",
            " 6   Prior_purchases      4400 non-null   int64 \n",
            " 7   Product_importance   4400 non-null   object\n",
            " 8   Gender               4400 non-null   object\n",
            " 9   Discount_offered     4400 non-null   int64 \n",
            " 10  Weight_in_gms        4400 non-null   int64 \n",
            "dtypes: int64(7), object(4)\n",
            "memory usage: 378.2+ KB\n",
            "None\n"
          ]
        }
      ]
    },
    {
      "cell_type": "code",
      "source": [
        "print(x_train.isnull().sum())"
      ],
      "metadata": {
        "colab": {
          "base_uri": "https://localhost:8080/"
        },
        "id": "PBnjaTNBdo7G",
        "outputId": "e0dc5452-aea5-4bd0-9d0e-162e7bcf0e49"
      },
      "execution_count": null,
      "outputs": [
        {
          "output_type": "stream",
          "name": "stdout",
          "text": [
            "ID                     0\n",
            "Warehouse_block        0\n",
            "Mode_of_Shipment       0\n",
            "Customer_care_calls    0\n",
            "Customer_rating        0\n",
            "Cost_of_the_Product    0\n",
            "Prior_purchases        0\n",
            "Product_importance     0\n",
            "Gender                 0\n",
            "Discount_offered       0\n",
            "Weight_in_gms          0\n",
            "dtype: int64\n"
          ]
        }
      ]
    },
    {
      "cell_type": "code",
      "source": [
        "print(x_test.isnull().sum())"
      ],
      "metadata": {
        "colab": {
          "base_uri": "https://localhost:8080/"
        },
        "id": "y9OyG4zadrnk",
        "outputId": "b411e0c2-9df1-4e59-d4c0-68c4bf849c21"
      },
      "execution_count": null,
      "outputs": [
        {
          "output_type": "stream",
          "name": "stdout",
          "text": [
            "ID                     0\n",
            "Warehouse_block        0\n",
            "Mode_of_Shipment       0\n",
            "Customer_care_calls    0\n",
            "Customer_rating        0\n",
            "Cost_of_the_Product    0\n",
            "Prior_purchases        0\n",
            "Product_importance     0\n",
            "Gender                 0\n",
            "Discount_offered       0\n",
            "Weight_in_gms          0\n",
            "dtype: int64\n"
          ]
        }
      ]
    },
    {
      "cell_type": "code",
      "source": [
        "print(y_train.isnull().sum())"
      ],
      "metadata": {
        "colab": {
          "base_uri": "https://localhost:8080/"
        },
        "id": "gPXfcvRudtQ2",
        "outputId": "d64d08e3-372a-4ee8-bfab-1adeae79dc09"
      },
      "execution_count": null,
      "outputs": [
        {
          "output_type": "stream",
          "name": "stdout",
          "text": [
            "ID                     0\n",
            "Reached.on.Time_Y.N    0\n",
            "dtype: int64\n"
          ]
        }
      ]
    },
    {
      "cell_type": "code",
      "source": [
        "print(x_train.head())"
      ],
      "metadata": {
        "colab": {
          "base_uri": "https://localhost:8080/"
        },
        "id": "cDRHo5cRd13o",
        "outputId": "410918dd-f71f-4f2f-9f8a-130c538a448c"
      },
      "execution_count": null,
      "outputs": [
        {
          "output_type": "stream",
          "name": "stdout",
          "text": [
            "      ID Warehouse_block Mode_of_Shipment  Customer_care_calls  \\\n",
            "0   9902               F             Ship                    3   \n",
            "1   9501               A             Ship                    4   \n",
            "2   6111               A             Ship                    4   \n",
            "3    588               F             Ship                    3   \n",
            "4  10806               F             Road                    5   \n",
            "\n",
            "   Customer_rating  Cost_of_the_Product  Prior_purchases Product_importance  \\\n",
            "0                5                  214                2             medium   \n",
            "1                2                  201                3             medium   \n",
            "2                2                  264                3                low   \n",
            "3                5                  194                2             medium   \n",
            "4                5                  269                5             medium   \n",
            "\n",
            "  Gender  Discount_offered  Weight_in_gms  \n",
            "0      F                 6           4578  \n",
            "1      F                 4           4613  \n",
            "2      M                10           5137  \n",
            "3      M                 4           3496  \n",
            "4      F                 3           1120  \n"
          ]
        }
      ]
    },
    {
      "cell_type": "code",
      "source": [
        "# 변수 정리\n",
        "COL_DEL = ['ID']\n",
        "COL_CAT = ['Warehouse_block', 'Mode_of_Shipment', 'Product_importance', 'Gender']\n",
        "COL_NUM = ['Customer_care_calls', 'Customer_rating', 'Cost_of_the_Product', 'Prior_purchases', 'Discount_offered', 'Weight_in_gms']\n",
        "COL_Y = ['Reached.on.Time_Y.N']"
      ],
      "metadata": {
        "id": "X02V_RkAdvT0"
      },
      "execution_count": null,
      "outputs": []
    },
    {
      "cell_type": "code",
      "source": [
        "# 데이터 분할\n",
        "from sklearn.model_selection import train_test_split\n",
        "\n",
        "x_tr, x_val, y_tr, y_val = train_test_split(x_train[COL_NUM + COL_CAT]\n",
        "                                          , y_train[COL_Y].values.ravel()\n",
        "                                          , test_size = 0.3\n",
        "                                          , stratify = y_train[COL_Y].values.ravel())"
      ],
      "metadata": {
        "id": "JyYKwhepgpNC"
      },
      "execution_count": null,
      "outputs": []
    },
    {
      "cell_type": "code",
      "source": [
        "print(x_tr)"
      ],
      "metadata": {
        "colab": {
          "base_uri": "https://localhost:8080/"
        },
        "id": "PxeI8b8ghOJj",
        "outputId": "ddcf4657-6209-4f39-f36c-3d53bf9da357"
      },
      "execution_count": null,
      "outputs": [
        {
          "output_type": "stream",
          "name": "stdout",
          "text": [
            "      Customer_care_calls  Customer_rating  Cost_of_the_Product  \\\n",
            "5342                    4                3                  246   \n",
            "3668                    4                3                  245   \n",
            "76                      6                4                  279   \n",
            "5678                    5                4                  165   \n",
            "2807                    4                5                  162   \n",
            "...                   ...              ...                  ...   \n",
            "539                     4                1                  228   \n",
            "2050                    4                5                  161   \n",
            "3577                    4                4                  259   \n",
            "1097                    3                4                  284   \n",
            "6139                    5                2                  263   \n",
            "\n",
            "      Prior_purchases  Discount_offered  Weight_in_gms Warehouse_block  \\\n",
            "5342                2                60           2086               F   \n",
            "3668                6                 3           1155               B   \n",
            "76                  4                 1           1246               B   \n",
            "5678                3                48           1240               C   \n",
            "2807                2                64           1918               D   \n",
            "...               ...               ...            ...             ...   \n",
            "539                 2                 9           4091               C   \n",
            "2050                3                 2           5378               F   \n",
            "3577                2                 6           4308               F   \n",
            "1097               10                 8           4562               F   \n",
            "6139                5                10           1059               B   \n",
            "\n",
            "     Mode_of_Shipment Product_importance Gender  \n",
            "5342           Flight                low      M  \n",
            "3668             Ship                low      F  \n",
            "76               Ship                low      F  \n",
            "5678             Ship             medium      F  \n",
            "2807             Ship             medium      M  \n",
            "...               ...                ...    ...  \n",
            "539              Ship             medium      F  \n",
            "2050             Ship             medium      F  \n",
            "3577             Ship                low      M  \n",
            "1097             Road                low      M  \n",
            "6139             Ship             medium      F  \n",
            "\n",
            "[4619 rows x 10 columns]\n"
          ]
        }
      ]
    },
    {
      "cell_type": "code",
      "source": [
        "print(y_tr)"
      ],
      "metadata": {
        "colab": {
          "base_uri": "https://localhost:8080/"
        },
        "id": "Is-F0U15hPxB",
        "outputId": "61870a6e-9b04-47af-f0f3-a01acd2c5478"
      },
      "execution_count": null,
      "outputs": [
        {
          "output_type": "stream",
          "name": "stdout",
          "text": [
            "[1 0 1 ... 1 1 0]\n"
          ]
        }
      ]
    },
    {
      "cell_type": "code",
      "source": [
        "from sklearn.preprocessing import StandardScaler\n",
        "scaler = StandardScaler()\n",
        "scaler.fit(x_tr[COL_NUM])\n",
        "\n",
        "x_tr[COL_NUM] = scaler.transform(x_tr[COL_NUM])\n",
        "x_val[COL_NUM] = scaler.transform(x_val[COL_NUM])\n",
        "x_test[COL_NUM] = scaler.transform(x_test[COL_NUM])"
      ],
      "metadata": {
        "id": "0wGQ8iC_hTZq"
      },
      "execution_count": null,
      "outputs": []
    },
    {
      "cell_type": "code",
      "source": [
        "print(x_tr[COL_NUM].head())"
      ],
      "metadata": {
        "colab": {
          "base_uri": "https://localhost:8080/"
        },
        "id": "okTlEHpMhqLz",
        "outputId": "f296379b-ac74-4599-ea31-a93f5a671b5d"
      },
      "execution_count": null,
      "outputs": [
        {
          "output_type": "stream",
          "name": "stdout",
          "text": [
            "      Customer_care_calls  Customer_rating  Cost_of_the_Product  \\\n",
            "5342            -0.060956          0.01456             0.773096   \n",
            "3668            -0.060956          0.01456             0.752418   \n",
            "76               1.709840          0.72247             1.455475   \n",
            "5678             0.824442          0.72247            -0.901834   \n",
            "2807            -0.060956          1.43038            -0.963869   \n",
            "\n",
            "      Prior_purchases  Discount_offered  Weight_in_gms  \n",
            "5342        -1.010024          2.925185      -0.950235  \n",
            "3668         1.566423         -0.641570      -1.521316  \n",
            "76           0.278199         -0.766719      -1.465496  \n",
            "5678        -0.365912          2.174289      -1.469177  \n",
            "2807        -1.010024          3.175484      -1.053288  \n"
          ]
        }
      ]
    },
    {
      "cell_type": "code",
      "source": [
        "from sklearn.preprocessing import LabelEncoder\n",
        "\n",
        "\n",
        "\n",
        "x = pd.concat([x_train[COL_CAT], x_test[COL_CAT]])\n",
        "\n",
        "for col in COL_CAT:\n",
        "  le = LabelEncoder()\n",
        "  le.fit(x[col])\n",
        "  x_tr[col] = le.transform(x_tr[col])\n",
        "  x_val[col] = le.transform(x_val[col])\n",
        "  x_test[col] = le.transform(x_test[col])\n",
        "\n",
        "  print(col)\n",
        "  print(le.classes_)\n",
        "  print('\\n')"
      ],
      "metadata": {
        "colab": {
          "base_uri": "https://localhost:8080/"
        },
        "id": "lKjDLqoQhscF",
        "outputId": "3826948b-b9d1-47fd-bba0-30b7aae84df5"
      },
      "execution_count": null,
      "outputs": [
        {
          "output_type": "stream",
          "name": "stdout",
          "text": [
            "Warehouse_block\n",
            "['A' 'B' 'C' 'D' 'F']\n",
            "\n",
            "\n",
            "Mode_of_Shipment\n",
            "['Flight' 'Road' 'Ship']\n",
            "\n",
            "\n",
            "Product_importance\n",
            "['high' 'low' 'medium']\n",
            "\n",
            "\n",
            "Gender\n",
            "['F' 'M']\n",
            "\n",
            "\n"
          ]
        }
      ]
    },
    {
      "cell_type": "code",
      "source": [
        "# 모형 학습\n",
        "from sklearn.ensemble import RandomForestClassifier\n",
        "model_rf = RandomForestClassifier(random_state=123)\n",
        "model_rf.fit(x_tr, y_tr)\n",
        "\n",
        "from xgboost import XGBClassifier\n",
        "model_xgb = XGBClassifier(random_state=123)\n",
        "model_xgb.fit(x_tr, y_tr)"
      ],
      "metadata": {
        "colab": {
          "base_uri": "https://localhost:8080/",
          "height": 248
        },
        "id": "Uv3__2ZgiQCB",
        "outputId": "7a614a70-6dba-43ff-bc19-8c54d4b284f7"
      },
      "execution_count": null,
      "outputs": [
        {
          "output_type": "execute_result",
          "data": {
            "text/plain": [
              "XGBClassifier(base_score=None, booster=None, callbacks=None,\n",
              "              colsample_bylevel=None, colsample_bynode=None,\n",
              "              colsample_bytree=None, device=None, early_stopping_rounds=None,\n",
              "              enable_categorical=False, eval_metric=None, feature_types=None,\n",
              "              gamma=None, grow_policy=None, importance_type=None,\n",
              "              interaction_constraints=None, learning_rate=None, max_bin=None,\n",
              "              max_cat_threshold=None, max_cat_to_onehot=None,\n",
              "              max_delta_step=None, max_depth=None, max_leaves=None,\n",
              "              min_child_weight=None, missing=nan, monotone_constraints=None,\n",
              "              multi_strategy=None, n_estimators=None, n_jobs=None,\n",
              "              num_parallel_tree=None, random_state=123, ...)"
            ],
            "text/html": [
              "<style>#sk-container-id-1 {color: black;background-color: white;}#sk-container-id-1 pre{padding: 0;}#sk-container-id-1 div.sk-toggleable {background-color: white;}#sk-container-id-1 label.sk-toggleable__label {cursor: pointer;display: block;width: 100%;margin-bottom: 0;padding: 0.3em;box-sizing: border-box;text-align: center;}#sk-container-id-1 label.sk-toggleable__label-arrow:before {content: \"▸\";float: left;margin-right: 0.25em;color: #696969;}#sk-container-id-1 label.sk-toggleable__label-arrow:hover:before {color: black;}#sk-container-id-1 div.sk-estimator:hover label.sk-toggleable__label-arrow:before {color: black;}#sk-container-id-1 div.sk-toggleable__content {max-height: 0;max-width: 0;overflow: hidden;text-align: left;background-color: #f0f8ff;}#sk-container-id-1 div.sk-toggleable__content pre {margin: 0.2em;color: black;border-radius: 0.25em;background-color: #f0f8ff;}#sk-container-id-1 input.sk-toggleable__control:checked~div.sk-toggleable__content {max-height: 200px;max-width: 100%;overflow: auto;}#sk-container-id-1 input.sk-toggleable__control:checked~label.sk-toggleable__label-arrow:before {content: \"▾\";}#sk-container-id-1 div.sk-estimator input.sk-toggleable__control:checked~label.sk-toggleable__label {background-color: #d4ebff;}#sk-container-id-1 div.sk-label input.sk-toggleable__control:checked~label.sk-toggleable__label {background-color: #d4ebff;}#sk-container-id-1 input.sk-hidden--visually {border: 0;clip: rect(1px 1px 1px 1px);clip: rect(1px, 1px, 1px, 1px);height: 1px;margin: -1px;overflow: hidden;padding: 0;position: absolute;width: 1px;}#sk-container-id-1 div.sk-estimator {font-family: monospace;background-color: #f0f8ff;border: 1px dotted black;border-radius: 0.25em;box-sizing: border-box;margin-bottom: 0.5em;}#sk-container-id-1 div.sk-estimator:hover {background-color: #d4ebff;}#sk-container-id-1 div.sk-parallel-item::after {content: \"\";width: 100%;border-bottom: 1px solid gray;flex-grow: 1;}#sk-container-id-1 div.sk-label:hover label.sk-toggleable__label {background-color: #d4ebff;}#sk-container-id-1 div.sk-serial::before {content: \"\";position: absolute;border-left: 1px solid gray;box-sizing: border-box;top: 0;bottom: 0;left: 50%;z-index: 0;}#sk-container-id-1 div.sk-serial {display: flex;flex-direction: column;align-items: center;background-color: white;padding-right: 0.2em;padding-left: 0.2em;position: relative;}#sk-container-id-1 div.sk-item {position: relative;z-index: 1;}#sk-container-id-1 div.sk-parallel {display: flex;align-items: stretch;justify-content: center;background-color: white;position: relative;}#sk-container-id-1 div.sk-item::before, #sk-container-id-1 div.sk-parallel-item::before {content: \"\";position: absolute;border-left: 1px solid gray;box-sizing: border-box;top: 0;bottom: 0;left: 50%;z-index: -1;}#sk-container-id-1 div.sk-parallel-item {display: flex;flex-direction: column;z-index: 1;position: relative;background-color: white;}#sk-container-id-1 div.sk-parallel-item:first-child::after {align-self: flex-end;width: 50%;}#sk-container-id-1 div.sk-parallel-item:last-child::after {align-self: flex-start;width: 50%;}#sk-container-id-1 div.sk-parallel-item:only-child::after {width: 0;}#sk-container-id-1 div.sk-dashed-wrapped {border: 1px dashed gray;margin: 0 0.4em 0.5em 0.4em;box-sizing: border-box;padding-bottom: 0.4em;background-color: white;}#sk-container-id-1 div.sk-label label {font-family: monospace;font-weight: bold;display: inline-block;line-height: 1.2em;}#sk-container-id-1 div.sk-label-container {text-align: center;}#sk-container-id-1 div.sk-container {/* jupyter's `normalize.less` sets `[hidden] { display: none; }` but bootstrap.min.css set `[hidden] { display: none !important; }` so we also need the `!important` here to be able to override the default hidden behavior on the sphinx rendered scikit-learn.org. See: https://github.com/scikit-learn/scikit-learn/issues/21755 */display: inline-block !important;position: relative;}#sk-container-id-1 div.sk-text-repr-fallback {display: none;}</style><div id=\"sk-container-id-1\" class=\"sk-top-container\"><div class=\"sk-text-repr-fallback\"><pre>XGBClassifier(base_score=None, booster=None, callbacks=None,\n",
              "              colsample_bylevel=None, colsample_bynode=None,\n",
              "              colsample_bytree=None, device=None, early_stopping_rounds=None,\n",
              "              enable_categorical=False, eval_metric=None, feature_types=None,\n",
              "              gamma=None, grow_policy=None, importance_type=None,\n",
              "              interaction_constraints=None, learning_rate=None, max_bin=None,\n",
              "              max_cat_threshold=None, max_cat_to_onehot=None,\n",
              "              max_delta_step=None, max_depth=None, max_leaves=None,\n",
              "              min_child_weight=None, missing=nan, monotone_constraints=None,\n",
              "              multi_strategy=None, n_estimators=None, n_jobs=None,\n",
              "              num_parallel_tree=None, random_state=123, ...)</pre><b>In a Jupyter environment, please rerun this cell to show the HTML representation or trust the notebook. <br />On GitHub, the HTML representation is unable to render, please try loading this page with nbviewer.org.</b></div><div class=\"sk-container\" hidden><div class=\"sk-item\"><div class=\"sk-estimator sk-toggleable\"><input class=\"sk-toggleable__control sk-hidden--visually\" id=\"sk-estimator-id-1\" type=\"checkbox\" checked><label for=\"sk-estimator-id-1\" class=\"sk-toggleable__label sk-toggleable__label-arrow\">XGBClassifier</label><div class=\"sk-toggleable__content\"><pre>XGBClassifier(base_score=None, booster=None, callbacks=None,\n",
              "              colsample_bylevel=None, colsample_bynode=None,\n",
              "              colsample_bytree=None, device=None, early_stopping_rounds=None,\n",
              "              enable_categorical=False, eval_metric=None, feature_types=None,\n",
              "              gamma=None, grow_policy=None, importance_type=None,\n",
              "              interaction_constraints=None, learning_rate=None, max_bin=None,\n",
              "              max_cat_threshold=None, max_cat_to_onehot=None,\n",
              "              max_delta_step=None, max_depth=None, max_leaves=None,\n",
              "              min_child_weight=None, missing=nan, monotone_constraints=None,\n",
              "              multi_strategy=None, n_estimators=None, n_jobs=None,\n",
              "              num_parallel_tree=None, random_state=123, ...)</pre></div></div></div></div></div>"
            ]
          },
          "metadata": {},
          "execution_count": 22
        }
      ]
    },
    {
      "cell_type": "code",
      "source": [
        "# 검증 데이터로 예측값 생성\n",
        "y_rf_val = model_rf.predict_proba(x_val)[:, 1]\n",
        "y_xgb_val = model_xgb.predict_proba(x_val)[:, 1]"
      ],
      "metadata": {
        "id": "F1GXw4SIi1yu"
      },
      "execution_count": null,
      "outputs": []
    },
    {
      "cell_type": "code",
      "source": [
        "# 평가지표 구하기\n",
        "from sklearn.metrics import roc_auc_score\n",
        "score_rf = roc_auc_score(y_val, y_rf_val)\n",
        "score_xgb = roc_auc_score(y_val, y_xgb_val)\n",
        "\n",
        "print(\"RANDOM FOREST: \", score_rf)\n",
        "print(\"XGBOOST      : \", score_xgb)"
      ],
      "metadata": {
        "colab": {
          "base_uri": "https://localhost:8080/"
        },
        "id": "jhBtdv0_jOg1",
        "outputId": "4778dbcb-41b6-4350-a651-fc26e82eeb12"
      },
      "execution_count": null,
      "outputs": [
        {
          "output_type": "stream",
          "name": "stdout",
          "text": [
            "RANDOM FOREST:  0.726315577437672\n",
            "XGBOOST      :  0.7288324449024423\n"
          ]
        }
      ]
    },
    {
      "cell_type": "code",
      "source": [
        "pred = model_xgb.predict_proba(x_test[COL_NUM + COL_CAT])[:, 1]\n",
        "result = pd.DataFrame({'ID': x_test.ID, 'pred': pred})\n",
        "print(result.head())"
      ],
      "metadata": {
        "colab": {
          "base_uri": "https://localhost:8080/"
        },
        "id": "veBF1iecjkg6",
        "outputId": "983b3845-fbbb-4d81-c953-8d8e60429173"
      },
      "execution_count": null,
      "outputs": [
        {
          "output_type": "stream",
          "name": "stdout",
          "text": [
            "      ID      pred\n",
            "0   7007  0.442567\n",
            "1   9793  0.314183\n",
            "2   6593  0.559648\n",
            "3  10527  0.213745\n",
            "4   6914  0.326561\n"
          ]
        }
      ]
    },
    {
      "cell_type": "code",
      "source": [
        "result.to_csv('223008_003.csv', index=False)"
      ],
      "metadata": {
        "id": "lr3pMJXrj1Gj"
      },
      "execution_count": null,
      "outputs": []
    },
    {
      "cell_type": "code",
      "source": [],
      "metadata": {
        "id": "QuLhsqFkj6VO"
      },
      "execution_count": null,
      "outputs": []
    }
  ]
}