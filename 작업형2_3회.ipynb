{
  "nbformat": 4,
  "nbformat_minor": 0,
  "metadata": {
    "colab": {
      "provenance": [],
      "authorship_tag": "ABX9TyMSLtsxD2ExiWU/EX9fW/Wc",
      "include_colab_link": true
    },
    "kernelspec": {
      "name": "python3",
      "display_name": "Python 3"
    },
    "language_info": {
      "name": "python"
    }
  },
  "cells": [
    {
      "cell_type": "markdown",
      "metadata": {
        "id": "view-in-github",
        "colab_type": "text"
      },
      "source": [
        "<a href=\"https://colab.research.google.com/github/Adeonthebeat/BigDataCert/blob/main/%EC%9E%91%EC%97%85%ED%98%952_3%ED%9A%8C.ipynb\" target=\"_parent\"><img src=\"https://colab.research.google.com/assets/colab-badge.svg\" alt=\"Open In Colab\"/></a>"
      ]
    },
    {
      "cell_type": "code",
      "execution_count": null,
      "metadata": {
        "colab": {
          "base_uri": "https://localhost:8080/"
        },
        "id": "IacPpcPsMwKi",
        "outputId": "5bb45065-0b8b-4922-cdaa-7c4134d2ed7c"
      },
      "outputs": [
        {
          "output_type": "stream",
          "name": "stdout",
          "text": [
            "fatal: destination path 'yemoonsaBigdata' already exists and is not an empty directory.\n"
          ]
        }
      ],
      "source": [
        "'''\n",
        "다음은 Travel Insurance 데이터 세트다. 주어진 훈련 데이터 세트를 이용하여 고객별 여행보험 가입여부 예측모형을 만들고\n",
        "가장 높은 Accuracy 값을 가지는 최종모델을 도출하시오. 해당 모델을 활용하여 보험가입여부 예측값을 계산하고 결과값은 csv로 제출하시오.\n",
        "'''\n",
        "# ROC_AUC\n",
        "!git clone https://github.com/AnalyticsKnight/yemoonsaBigdata/"
      ]
    },
    {
      "cell_type": "code",
      "source": [
        "import pandas as pd\n",
        "\n",
        "x_test = pd.read_csv('/content/yemoonsaBigdata/datasets/Part3/304_x_test.csv')\n",
        "x_train = pd.read_csv('/content/yemoonsaBigdata/datasets/Part3/304_x_train.csv')\n",
        "y_train = pd.read_csv('/content/yemoonsaBigdata/datasets/Part3/304_y_train.csv')"
      ],
      "metadata": {
        "id": "xUuMLk9OSNuD"
      },
      "execution_count": null,
      "outputs": []
    },
    {
      "cell_type": "code",
      "source": [
        "print(x_test.head())"
      ],
      "metadata": {
        "colab": {
          "base_uri": "https://localhost:8080/"
        },
        "id": "zkIOzmaXSsLh",
        "outputId": "f198a068-f8cc-4961-c5be-d304a50c5c63"
      },
      "execution_count": null,
      "outputs": [
        {
          "output_type": "stream",
          "name": "stdout",
          "text": [
            "     ID  Age               Employment Type GraduateOrNot  AnnualIncome  \\\n",
            "0  1569   27             Government Sector           Yes        500000   \n",
            "1  1344   25  Private Sector/Self Employed           Yes       1700000   \n",
            "2  1429   32             Government Sector           Yes        650000   \n",
            "3   896   33             Government Sector           Yes        600000   \n",
            "4   101   33  Private Sector/Self Employed           Yes       1500000   \n",
            "\n",
            "   FamilyMembers  ChronicDiseases FrequentFlyer EverTravelledAbroad  \n",
            "0              5                0            No                  No  \n",
            "1              3                0           Yes                  No  \n",
            "2              3                0            No                  No  \n",
            "3              4                0            No                  No  \n",
            "4              3                1           Yes                 Yes  \n"
          ]
        }
      ]
    },
    {
      "cell_type": "code",
      "source": [
        "print(y_train.head())"
      ],
      "metadata": {
        "colab": {
          "base_uri": "https://localhost:8080/"
        },
        "id": "hY1dqTFES2oA",
        "outputId": "a89a3fa9-1be4-485c-da49-dd6ad51d7370"
      },
      "execution_count": null,
      "outputs": [
        {
          "output_type": "stream",
          "name": "stdout",
          "text": [
            "     ID  TravelInsurance\n",
            "0  1704                0\n",
            "1   491                1\n",
            "2   414                1\n",
            "3   120                0\n",
            "4  1268                1\n"
          ]
        }
      ]
    },
    {
      "cell_type": "code",
      "source": [
        "print(x_train.head())"
      ],
      "metadata": {
        "colab": {
          "base_uri": "https://localhost:8080/"
        },
        "id": "AFYmJb3CS48Y",
        "outputId": "9b194a50-8737-43a1-e672-09bb0836baa7"
      },
      "execution_count": null,
      "outputs": [
        {
          "output_type": "stream",
          "name": "stdout",
          "text": [
            "     ID  Age               Employment Type GraduateOrNot  AnnualIncome  \\\n",
            "0  1704   26  Private Sector/Self Employed           Yes       1400000   \n",
            "1   491   28  Private Sector/Self Employed           Yes       1100000   \n",
            "2   414   33  Private Sector/Self Employed           Yes       1400000   \n",
            "3   120   28  Private Sector/Self Employed           Yes        800000   \n",
            "4  1268   33             Government Sector           Yes       1000000   \n",
            "\n",
            "   FamilyMembers  ChronicDiseases FrequentFlyer EverTravelledAbroad  \n",
            "0              3                1            No                 Yes  \n",
            "1              4                1            No                  No  \n",
            "2              4                0            No                 Yes  \n",
            "3              3                1            No                  No  \n",
            "4              5                0            No                 Yes  \n"
          ]
        }
      ]
    },
    {
      "cell_type": "code",
      "source": [
        "print(x_train.isnull().sum())"
      ],
      "metadata": {
        "colab": {
          "base_uri": "https://localhost:8080/"
        },
        "id": "a8zfK9DhS6zG",
        "outputId": "ee815ddc-d083-4fb1-8a9e-af0c0c3e139f"
      },
      "execution_count": null,
      "outputs": [
        {
          "output_type": "stream",
          "name": "stdout",
          "text": [
            "ID                     0\n",
            "Age                    0\n",
            "Employment Type        0\n",
            "GraduateOrNot          0\n",
            "AnnualIncome           0\n",
            "FamilyMembers          0\n",
            "ChronicDiseases        0\n",
            "FrequentFlyer          0\n",
            "EverTravelledAbroad    0\n",
            "dtype: int64\n"
          ]
        }
      ]
    },
    {
      "cell_type": "code",
      "source": [
        "print(x_test.isnull().sum())"
      ],
      "metadata": {
        "colab": {
          "base_uri": "https://localhost:8080/"
        },
        "id": "IXWmscVJTyE0",
        "outputId": "327049c6-0382-433f-f72b-cff2943a38cb"
      },
      "execution_count": null,
      "outputs": [
        {
          "output_type": "stream",
          "name": "stdout",
          "text": [
            "ID                     0\n",
            "Age                    0\n",
            "Employment Type        0\n",
            "GraduateOrNot          0\n",
            "AnnualIncome           0\n",
            "FamilyMembers          0\n",
            "ChronicDiseases        0\n",
            "FrequentFlyer          0\n",
            "EverTravelledAbroad    0\n",
            "dtype: int64\n"
          ]
        }
      ]
    },
    {
      "cell_type": "code",
      "source": [
        "print(y_train.isnull().sum())\n",
        "# print(x_test.head(5))"
      ],
      "metadata": {
        "colab": {
          "base_uri": "https://localhost:8080/"
        },
        "id": "OIqI1EunT04j",
        "outputId": "88177a55-658a-48bd-c373-f2dd635c7c9a"
      },
      "execution_count": null,
      "outputs": [
        {
          "output_type": "stream",
          "name": "stdout",
          "text": [
            "ID                 0\n",
            "TravelInsurance    0\n",
            "dtype: int64\n"
          ]
        }
      ]
    },
    {
      "cell_type": "code",
      "source": [
        "# 변수 구분\n",
        "COL_DEL = ['ID']\n",
        "COL_NUM = ['Age', 'AnnualIncome', 'FamilyMembers', 'ChronicDiseases']\n",
        "COL_CAT = ['Employment Type', 'GraduateOrNot', 'FrequentFlyer', 'EverTravelledAbroad']\n",
        "COL_Y = ['TravelInsurance']"
      ],
      "metadata": {
        "id": "a4JaT0jOT3iK"
      },
      "execution_count": null,
      "outputs": []
    },
    {
      "cell_type": "code",
      "source": [
        "from sklearn.model_selection import train_test_split\n",
        "\n",
        "x_tr, x_val, y_tr, y_val = train_test_split(x_train[COL_NUM + COL_CAT]\n",
        "                                          , y_train[COL_Y].values.ravel()\n",
        "                                          , test_size = 0.3\n",
        "                                          , stratify= y_train[COL_Y].values.ravel())\n"
      ],
      "metadata": {
        "id": "ysLa3ym8UcLH"
      },
      "execution_count": null,
      "outputs": []
    },
    {
      "cell_type": "code",
      "source": [
        "print(x_tr.head())"
      ],
      "metadata": {
        "colab": {
          "base_uri": "https://localhost:8080/"
        },
        "id": "eo20aNc4VA8l",
        "outputId": "9a0bbf38-088a-42ee-8dd9-b8390689f3ef"
      },
      "execution_count": null,
      "outputs": [
        {
          "output_type": "stream",
          "name": "stdout",
          "text": [
            "      Age  AnnualIncome  FamilyMembers  ChronicDiseases  \\\n",
            "557    28       1200000              5                0   \n",
            "689    33        650000              9                1   \n",
            "214    34        700000              6                0   \n",
            "1113   35        800000              4                0   \n",
            "308    25       1400000              3                0   \n",
            "\n",
            "                   Employment Type GraduateOrNot FrequentFlyer  \\\n",
            "557   Private Sector/Self Employed           Yes            No   \n",
            "689              Government Sector           Yes            No   \n",
            "214   Private Sector/Self Employed           Yes           Yes   \n",
            "1113  Private Sector/Self Employed            No            No   \n",
            "308   Private Sector/Self Employed           Yes            No   \n",
            "\n",
            "     EverTravelledAbroad  \n",
            "557                   No  \n",
            "689                   No  \n",
            "214                  Yes  \n",
            "1113                  No  \n",
            "308                  Yes  \n"
          ]
        }
      ]
    },
    {
      "cell_type": "code",
      "source": [
        "print(y_tr)"
      ],
      "metadata": {
        "colab": {
          "base_uri": "https://localhost:8080/"
        },
        "id": "4S7hnNqJVG5N",
        "outputId": "5e4c0bdf-811f-4219-db7d-52e4c9273d70"
      },
      "execution_count": null,
      "outputs": [
        {
          "output_type": "stream",
          "name": "stdout",
          "text": [
            "[1 0 1 ... 0 0 1]\n"
          ]
        }
      ]
    },
    {
      "cell_type": "code",
      "source": [
        "from sklearn.preprocessing import StandardScaler\n",
        "scaler = StandardScaler()\n",
        "scaler.fit(x_tr[COL_NUM])\n",
        "\n",
        "x_tr[COL_NUM] = scaler.transform(x_tr[COL_NUM])\n",
        "x_val[COL_NUM] = scaler.transform(x_val[COL_NUM])\n",
        "x_test[COL_NUM] = scaler.transform(x_test[COL_NUM])"
      ],
      "metadata": {
        "id": "4m28ViEwVJZR"
      },
      "execution_count": null,
      "outputs": []
    },
    {
      "cell_type": "code",
      "source": [
        "print(x_tr[COL_NUM].head())"
      ],
      "metadata": {
        "colab": {
          "base_uri": "https://localhost:8080/"
        },
        "id": "EDD0qKpZVg8e",
        "outputId": "68ca5703-dab8-43a4-c3e2-d5a5c0b42a42"
      },
      "execution_count": null,
      "outputs": [
        {
          "output_type": "stream",
          "name": "stdout",
          "text": [
            "           Age  AnnualIncome  FamilyMembers  ChronicDiseases\n",
            "557  -0.580237      0.691529       0.136810        -0.625033\n",
            "689   1.128366     -0.776898       2.586469         1.599915\n",
            "214   1.470086     -0.643405       0.749225        -0.625033\n",
            "1113  1.811807     -0.376418      -0.475605        -0.625033\n",
            "308  -1.605398      1.225503      -1.088020        -0.625033\n"
          ]
        }
      ]
    },
    {
      "cell_type": "code",
      "source": [
        "# 범주형 데이터 인코딩\n",
        "\n",
        "from sklearn.preprocessing import LabelEncoder\n",
        "\n",
        "x = pd.concat([x_train[COL_CAT], x_test[COL_CAT]])\n",
        "\n",
        "for col in COL_CAT:\n",
        "  le = LabelEncoder()\n",
        "  le.fit(x[col])\n",
        "  x_tr[col] = le.transform(x_tr[col])\n",
        "  x_val[col] = le.transform(x_val[col])\n",
        "  x_test[col] = le.transform(x_test[col])\n",
        "\n",
        "  print(col)\n",
        "  print(le.classes_)\n",
        "  print('\\n')\n"
      ],
      "metadata": {
        "colab": {
          "base_uri": "https://localhost:8080/"
        },
        "id": "f_M1YvngVjkV",
        "outputId": "fa0f7a1f-2e7d-47a7-fe93-71fb21f1557c"
      },
      "execution_count": null,
      "outputs": [
        {
          "output_type": "stream",
          "name": "stdout",
          "text": [
            "Employment Type\n",
            "['Government Sector' 'Private Sector/Self Employed']\n",
            "\n",
            "\n",
            "GraduateOrNot\n",
            "['No' 'Yes']\n",
            "\n",
            "\n",
            "FrequentFlyer\n",
            "['No' 'Yes']\n",
            "\n",
            "\n",
            "EverTravelledAbroad\n",
            "['No' 'Yes']\n",
            "\n",
            "\n"
          ]
        }
      ]
    },
    {
      "cell_type": "code",
      "source": [
        "# print(x_tr[COL_CAT].head())\n",
        "print(x_tr.head())"
      ],
      "metadata": {
        "colab": {
          "base_uri": "https://localhost:8080/"
        },
        "id": "amNuqCtGVxGy",
        "outputId": "962f0f5f-b3a0-4046-cd91-164bec9737f8"
      },
      "execution_count": null,
      "outputs": [
        {
          "output_type": "stream",
          "name": "stdout",
          "text": [
            "           Age  AnnualIncome  FamilyMembers  ChronicDiseases  Employment Type  \\\n",
            "557  -0.580237      0.691529       0.136810        -0.625033                1   \n",
            "689   1.128366     -0.776898       2.586469         1.599915                0   \n",
            "214   1.470086     -0.643405       0.749225        -0.625033                1   \n",
            "1113  1.811807     -0.376418      -0.475605        -0.625033                1   \n",
            "308  -1.605398      1.225503      -1.088020        -0.625033                1   \n",
            "\n",
            "      GraduateOrNot  FrequentFlyer  EverTravelledAbroad  \n",
            "557               1              0                    0  \n",
            "689               1              0                    0  \n",
            "214               1              1                    1  \n",
            "1113              0              0                    0  \n",
            "308               1              0                    1  \n"
          ]
        }
      ]
    },
    {
      "cell_type": "code",
      "source": [
        "# 랜덤 포레스트\n",
        "from sklearn.ensemble import RandomForestClassifier\n",
        "model_rf = RandomForestClassifier(random_state=123)\n",
        "model_rf.fit(x_tr, y_tr)\n",
        "\n",
        "\n",
        "# XGBoost\n",
        "from xgboost import XGBClassifier\n",
        "model_xgb = XGBClassifier(random_state = 123)\n",
        "model_xgb.fit(x_tr, y_tr)\n"
      ],
      "metadata": {
        "colab": {
          "base_uri": "https://localhost:8080/",
          "height": 248
        },
        "id": "hPHp5TmCWcbT",
        "outputId": "f8d83368-e570-405c-825c-bc3d8a3e4501"
      },
      "execution_count": null,
      "outputs": [
        {
          "output_type": "execute_result",
          "data": {
            "text/plain": [
              "XGBClassifier(base_score=None, booster=None, callbacks=None,\n",
              "              colsample_bylevel=None, colsample_bynode=None,\n",
              "              colsample_bytree=None, device=None, early_stopping_rounds=None,\n",
              "              enable_categorical=False, eval_metric=None, feature_types=None,\n",
              "              gamma=None, grow_policy=None, importance_type=None,\n",
              "              interaction_constraints=None, learning_rate=None, max_bin=None,\n",
              "              max_cat_threshold=None, max_cat_to_onehot=None,\n",
              "              max_delta_step=None, max_depth=None, max_leaves=None,\n",
              "              min_child_weight=None, missing=nan, monotone_constraints=None,\n",
              "              multi_strategy=None, n_estimators=None, n_jobs=None,\n",
              "              num_parallel_tree=None, random_state=123, ...)"
            ],
            "text/html": [
              "<style>#sk-container-id-2 {color: black;background-color: white;}#sk-container-id-2 pre{padding: 0;}#sk-container-id-2 div.sk-toggleable {background-color: white;}#sk-container-id-2 label.sk-toggleable__label {cursor: pointer;display: block;width: 100%;margin-bottom: 0;padding: 0.3em;box-sizing: border-box;text-align: center;}#sk-container-id-2 label.sk-toggleable__label-arrow:before {content: \"▸\";float: left;margin-right: 0.25em;color: #696969;}#sk-container-id-2 label.sk-toggleable__label-arrow:hover:before {color: black;}#sk-container-id-2 div.sk-estimator:hover label.sk-toggleable__label-arrow:before {color: black;}#sk-container-id-2 div.sk-toggleable__content {max-height: 0;max-width: 0;overflow: hidden;text-align: left;background-color: #f0f8ff;}#sk-container-id-2 div.sk-toggleable__content pre {margin: 0.2em;color: black;border-radius: 0.25em;background-color: #f0f8ff;}#sk-container-id-2 input.sk-toggleable__control:checked~div.sk-toggleable__content {max-height: 200px;max-width: 100%;overflow: auto;}#sk-container-id-2 input.sk-toggleable__control:checked~label.sk-toggleable__label-arrow:before {content: \"▾\";}#sk-container-id-2 div.sk-estimator input.sk-toggleable__control:checked~label.sk-toggleable__label {background-color: #d4ebff;}#sk-container-id-2 div.sk-label input.sk-toggleable__control:checked~label.sk-toggleable__label {background-color: #d4ebff;}#sk-container-id-2 input.sk-hidden--visually {border: 0;clip: rect(1px 1px 1px 1px);clip: rect(1px, 1px, 1px, 1px);height: 1px;margin: -1px;overflow: hidden;padding: 0;position: absolute;width: 1px;}#sk-container-id-2 div.sk-estimator {font-family: monospace;background-color: #f0f8ff;border: 1px dotted black;border-radius: 0.25em;box-sizing: border-box;margin-bottom: 0.5em;}#sk-container-id-2 div.sk-estimator:hover {background-color: #d4ebff;}#sk-container-id-2 div.sk-parallel-item::after {content: \"\";width: 100%;border-bottom: 1px solid gray;flex-grow: 1;}#sk-container-id-2 div.sk-label:hover label.sk-toggleable__label {background-color: #d4ebff;}#sk-container-id-2 div.sk-serial::before {content: \"\";position: absolute;border-left: 1px solid gray;box-sizing: border-box;top: 0;bottom: 0;left: 50%;z-index: 0;}#sk-container-id-2 div.sk-serial {display: flex;flex-direction: column;align-items: center;background-color: white;padding-right: 0.2em;padding-left: 0.2em;position: relative;}#sk-container-id-2 div.sk-item {position: relative;z-index: 1;}#sk-container-id-2 div.sk-parallel {display: flex;align-items: stretch;justify-content: center;background-color: white;position: relative;}#sk-container-id-2 div.sk-item::before, #sk-container-id-2 div.sk-parallel-item::before {content: \"\";position: absolute;border-left: 1px solid gray;box-sizing: border-box;top: 0;bottom: 0;left: 50%;z-index: -1;}#sk-container-id-2 div.sk-parallel-item {display: flex;flex-direction: column;z-index: 1;position: relative;background-color: white;}#sk-container-id-2 div.sk-parallel-item:first-child::after {align-self: flex-end;width: 50%;}#sk-container-id-2 div.sk-parallel-item:last-child::after {align-self: flex-start;width: 50%;}#sk-container-id-2 div.sk-parallel-item:only-child::after {width: 0;}#sk-container-id-2 div.sk-dashed-wrapped {border: 1px dashed gray;margin: 0 0.4em 0.5em 0.4em;box-sizing: border-box;padding-bottom: 0.4em;background-color: white;}#sk-container-id-2 div.sk-label label {font-family: monospace;font-weight: bold;display: inline-block;line-height: 1.2em;}#sk-container-id-2 div.sk-label-container {text-align: center;}#sk-container-id-2 div.sk-container {/* jupyter's `normalize.less` sets `[hidden] { display: none; }` but bootstrap.min.css set `[hidden] { display: none !important; }` so we also need the `!important` here to be able to override the default hidden behavior on the sphinx rendered scikit-learn.org. See: https://github.com/scikit-learn/scikit-learn/issues/21755 */display: inline-block !important;position: relative;}#sk-container-id-2 div.sk-text-repr-fallback {display: none;}</style><div id=\"sk-container-id-2\" class=\"sk-top-container\"><div class=\"sk-text-repr-fallback\"><pre>XGBClassifier(base_score=None, booster=None, callbacks=None,\n",
              "              colsample_bylevel=None, colsample_bynode=None,\n",
              "              colsample_bytree=None, device=None, early_stopping_rounds=None,\n",
              "              enable_categorical=False, eval_metric=None, feature_types=None,\n",
              "              gamma=None, grow_policy=None, importance_type=None,\n",
              "              interaction_constraints=None, learning_rate=None, max_bin=None,\n",
              "              max_cat_threshold=None, max_cat_to_onehot=None,\n",
              "              max_delta_step=None, max_depth=None, max_leaves=None,\n",
              "              min_child_weight=None, missing=nan, monotone_constraints=None,\n",
              "              multi_strategy=None, n_estimators=None, n_jobs=None,\n",
              "              num_parallel_tree=None, random_state=123, ...)</pre><b>In a Jupyter environment, please rerun this cell to show the HTML representation or trust the notebook. <br />On GitHub, the HTML representation is unable to render, please try loading this page with nbviewer.org.</b></div><div class=\"sk-container\" hidden><div class=\"sk-item\"><div class=\"sk-estimator sk-toggleable\"><input class=\"sk-toggleable__control sk-hidden--visually\" id=\"sk-estimator-id-2\" type=\"checkbox\" checked><label for=\"sk-estimator-id-2\" class=\"sk-toggleable__label sk-toggleable__label-arrow\">XGBClassifier</label><div class=\"sk-toggleable__content\"><pre>XGBClassifier(base_score=None, booster=None, callbacks=None,\n",
              "              colsample_bylevel=None, colsample_bynode=None,\n",
              "              colsample_bytree=None, device=None, early_stopping_rounds=None,\n",
              "              enable_categorical=False, eval_metric=None, feature_types=None,\n",
              "              gamma=None, grow_policy=None, importance_type=None,\n",
              "              interaction_constraints=None, learning_rate=None, max_bin=None,\n",
              "              max_cat_threshold=None, max_cat_to_onehot=None,\n",
              "              max_delta_step=None, max_depth=None, max_leaves=None,\n",
              "              min_child_weight=None, missing=nan, monotone_constraints=None,\n",
              "              multi_strategy=None, n_estimators=None, n_jobs=None,\n",
              "              num_parallel_tree=None, random_state=123, ...)</pre></div></div></div></div></div>"
            ]
          },
          "metadata": {},
          "execution_count": 18
        }
      ]
    },
    {
      "cell_type": "code",
      "source": [
        "pred = model_xgb.predict_proba(x_test[COL_NUM+COL_CAT])[:, 1]\n",
        "\n",
        "result = pd.DataFrame({'ID': x_test.ID, 'pred': pred})\n",
        "\n",
        "print(result.head())"
      ],
      "metadata": {
        "colab": {
          "base_uri": "https://localhost:8080/"
        },
        "id": "oRTen_c1XBb4",
        "outputId": "8e99b425-1a41-41fa-c4da-aca483e68027"
      },
      "execution_count": null,
      "outputs": [
        {
          "output_type": "stream",
          "name": "stdout",
          "text": [
            "     ID      pred\n",
            "0  1569  0.164348\n",
            "1  1344  0.996512\n",
            "2  1429  0.004160\n",
            "3   896  0.394241\n",
            "4   101  0.995870\n"
          ]
        }
      ]
    },
    {
      "cell_type": "code",
      "source": [],
      "metadata": {
        "id": "OyAdPMupZCgk"
      },
      "execution_count": null,
      "outputs": []
    }
  ]
}