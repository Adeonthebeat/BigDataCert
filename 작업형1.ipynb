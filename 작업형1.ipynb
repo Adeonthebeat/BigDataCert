{
  "nbformat": 4,
  "nbformat_minor": 0,
  "metadata": {
    "colab": {
      "provenance": [],
      "authorship_tag": "ABX9TyNAv7NkfbuozY/k9glODWd1",
      "include_colab_link": true
    },
    "kernelspec": {
      "name": "python3",
      "display_name": "Python 3"
    },
    "language_info": {
      "name": "python"
    }
  },
  "cells": [
    {
      "cell_type": "markdown",
      "metadata": {
        "id": "view-in-github",
        "colab_type": "text"
      },
      "source": [
        "<a href=\"https://colab.research.google.com/github/Adeonthebeat/BigDataCert/blob/main/%EC%9E%91%EC%97%85%ED%98%951.ipynb\" target=\"_parent\"><img src=\"https://colab.research.google.com/assets/colab-badge.svg\" alt=\"Open In Colab\"/></a>"
      ]
    },
    {
      "cell_type": "code",
      "execution_count": null,
      "metadata": {
        "id": "451-PWi_sr9-"
      },
      "outputs": [],
      "source": [
        "# 5회 작업형 1"
      ]
    },
    {
      "cell_type": "code",
      "source": [
        "!git clone https://github.com/AnalyticsKnight/yemoonsaBigdata/"
      ],
      "metadata": {
        "colab": {
          "base_uri": "https://localhost:8080/"
        },
        "id": "twucsG9tt0Gz",
        "outputId": "470a3a0f-4a70-4608-d6b2-265d0680590e"
      },
      "execution_count": null,
      "outputs": [
        {
          "output_type": "stream",
          "name": "stdout",
          "text": [
            "Cloning into 'yemoonsaBigdata'...\n",
            "remote: Enumerating objects: 637, done.\u001b[K\n",
            "remote: Counting objects: 100% (274/274), done.\u001b[K\n",
            "remote: Compressing objects: 100% (165/165), done.\u001b[K\n",
            "remote: Total 637 (delta 136), reused 184 (delta 109), pack-reused 363\u001b[K\n",
            "Receiving objects: 100% (637/637), 10.76 MiB | 21.91 MiB/s, done.\n",
            "Resolving deltas: 100% (321/321), done.\n"
          ]
        }
      ]
    },
    {
      "cell_type": "code",
      "source": [
        "# 5회 작업형 1-1\n",
        "'''\n",
        "주어진 trash bag 데이터 세트는 지역별 종량제 봉투 가격을 나타낸다.\n",
        "가격 컬럼은 각 행의 조건을 만족하는 해당 요량의 종량제 봉투가 존재하면 가격을 값으로, 존재하지 않으면 0으로 갖는다\n",
        "이 때 용도가 '음식물쓰레기'고 사용대상이 '가정용'인 2L 봉투가격의 평균을 소수점을 버린 후 정수로 출력하시오.\n",
        "'''\n",
        "\n",
        "import pandas as pd\n",
        "\n",
        "trash_test = pd.read_csv('/content/yemoonsaBigdata/datasets/Part3/501_trash_bag.csv', encoding='cp949')\n",
        "\n",
        "# 데이터 바르기\n",
        "test_filter = trash_test[(trash_test['용도'] == '음식물쓰레기') & (trash_test['사용대상'] == '가정용')]\n",
        "test_fit = test_filter[test_filter['2L가격'] != 0]\n",
        "\n",
        "trash_result = int(test_fit['2L가격'].mean())\n",
        "\n",
        "print(trash_result)"
      ],
      "metadata": {
        "colab": {
          "base_uri": "https://localhost:8080/"
        },
        "id": "9uvrQJKYv0_b",
        "outputId": "7efdde95-142c-410a-d69d-eb21823e1e04"
      },
      "execution_count": null,
      "outputs": [
        {
          "output_type": "stream",
          "name": "stdout",
          "text": [
            "119\n"
          ]
        }
      ]
    },
    {
      "cell_type": "code",
      "source": [
        "# 5회 작업형 1-2\n",
        "'''\n",
        "BMI는 몸무게(kg)를 키(m)의 제곱으로 나누어 구하며, BMI 값에 따른 비만도 분류는 다음과 같다.\n",
        "18.5      -> 저체중\n",
        "18.5 ~ 23 -> 정상\n",
        "23 ~ 25   -> 과체중\n",
        "25 ~ 30   -> 경도비만\n",
        "30        -> 중등도비만\n",
        "이 때 주어진 BMI 데이터 세트에서\n",
        "비만도가 정상에 속하는 인원 수와 과체중에 속하는 인원 수의 차이를 정수로 출력하시오.\n",
        "'''\n",
        "\n",
        "bmi_test = pd.read_csv('/content/yemoonsaBigdata/datasets/Part3/502_bmi.csv')\n",
        "\n",
        "bmi_test['Height'] = bmi_test['Height'] / 100\n",
        "bmi_test['BMI'] = bmi_test['Weight'] / (bmi_test['Height'] ** 2)\n",
        "\n",
        "n1 = len(bmi_test[(bmi_test['BMI'] >= 18.5) & (bmi_test['BMI'] < 23)])\n",
        "n2 = len(bmi_test[(bmi_test['BMI'] >= 23) & (bmi_test['BMI'] < 25)])\n",
        "\n",
        "bmi_result = abs(n1 - n2)\n",
        "\n",
        "print(bmi_result)\n"
      ],
      "metadata": {
        "colab": {
          "base_uri": "https://localhost:8080/"
        },
        "id": "o7WzJGmZxDg7",
        "outputId": "b7942997-faa9-4529-db68-616b359be66a"
      },
      "execution_count": null,
      "outputs": [
        {
          "output_type": "stream",
          "name": "stdout",
          "text": [
            "28\n"
          ]
        }
      ]
    },
    {
      "cell_type": "code",
      "source": [
        "# 5회 작업형 1-3 ***\n",
        "'''\n",
        "주어진 students 데이터 세트는 각 학교의 학년별 총 전입학생, 총 전출학생, 전체 학생 수를 나타낸다.\n",
        "순전입학생 순는 총 전입학생 수에서 총 전출학생 수를 빼서 구할 수 있다.\n",
        "순전입학생이 가장 많은 학교의 전체 학생 수를 구하시오.\n",
        "'''\n",
        "\n",
        "\n",
        "student_test = pd.read_csv('/content/yemoonsaBigdata/datasets/Part3/503_students.csv', encoding = 'cp949')\n",
        "\n",
        "student_test['순 전입학생 수'] = student_test['총 전입학생'] - student_test['총 전출학생']\n",
        "st_df = student_test.groupby(['학교'])[['순 전입학생 수', '전체 학생 수']].sum()\n",
        "student_result = st_df.loc[st_df['순 전입학생 수'] == max(st_df['순 전입학생 수']), '전체 학생 수'].values[0]\n",
        "\n",
        "print(student_result)"
      ],
      "metadata": {
        "colab": {
          "base_uri": "https://localhost:8080/"
        },
        "id": "TNnZ7vGVydFU",
        "outputId": "dd5b6c20-8442-4b3b-c42c-7413a3dc0582"
      },
      "execution_count": null,
      "outputs": [
        {
          "output_type": "stream",
          "name": "stdout",
          "text": [
            "566\n"
          ]
        }
      ]
    },
    {
      "cell_type": "code",
      "source": [
        "# 4회 작업형 1-1\n",
        "'''\n",
        "주어진 리스트에 대해 아래 과정을 차례로 수행한 최종 결과값을 출력하시오.\n",
        "list = [2, 3, 3.2, 5, 7.5, 10, 11.8, 12, 23, 25, 31.5, 34]\n",
        "1) 제1사분위수와 제3사분위수를 구하시오.\n",
        "2) 제1사분위수와 제3사분위수의 차이의 절대값을 구하시오.\n",
        "3) 그 값의 소수점을 버린 후, 정수로 출력하시오.\n",
        "'''"
      ],
      "metadata": {
        "colab": {
          "base_uri": "https://localhost:8080/",
          "height": 72
        },
        "id": "FB7ScT0m24D1",
        "outputId": "9af80a59-b27e-40c4-f08d-91e3804b4458"
      },
      "execution_count": null,
      "outputs": [
        {
          "output_type": "execute_result",
          "data": {
            "text/plain": [
              "'\\n주어진 리스트에 대해 아래 과정을 차례로 수행한 최종 결과값을 출력하시오.\\n1) 제1사분위수와 제3사분위수를 구하시오.\\n2) 제1사분위수와 제3사분위수의 차이의 절대값을 구하시오.\\n3) 그 값의 소수점을 버린 후, 정수로 출력하시오.\\n'"
            ],
            "application/vnd.google.colaboratory.intrinsic+json": {
              "type": "string"
            }
          },
          "metadata": {},
          "execution_count": 36
        }
      ]
    },
    {
      "cell_type": "code",
      "source": [
        "import numpy as np\n",
        "\n",
        "list = [2, 3, 3.2, 5, 7.5, 10, 11.8, 12, 23, 25, 31.5, 34]\n",
        "\n",
        "Q1 = np.quantile(list, 0.25)\n",
        "Q3 = np.quantile(list, 0.75)\n",
        "\n",
        "diff = abs(Q3 - Q1)\n",
        "\n",
        "Q_result = int(diff)\n",
        "\n",
        "# 최종값만 출력.\n",
        "print(Q_result)"
      ],
      "metadata": {
        "colab": {
          "base_uri": "https://localhost:8080/"
        },
        "id": "L114-Xg8_6Rj",
        "outputId": "343b7e84-f79a-4e59-cf6c-2c01f2d8ab29"
      },
      "execution_count": null,
      "outputs": [
        {
          "output_type": "stream",
          "name": "stdout",
          "text": [
            "18\n"
          ]
        }
      ]
    },
    {
      "cell_type": "code",
      "source": [
        "# 4회 작업형 1-2\n",
        "'''\n",
        "주어진 facebook 데이터 세트는 페이그스북 라이브에 대한 사용자 반응을 집계한 것이다.\n",
        "이 중 love(num_loves)와 wow(num_wows)을 매우 긍정적인 반응이라고 정의할 때,\n",
        "전체 반응 수(num_reaction) 중 매우 긍정적인 반응이 차지하는 비율을 계산하시오.\n",
        "그리고 그 비율이 0.5보다 작고 0.4보다 크며 유형이 비디오에 해당하는 건수를 정수로 출력하시오.\n",
        "'''\n"
      ],
      "metadata": {
        "colab": {
          "base_uri": "https://localhost:8080/",
          "height": 89
        },
        "id": "r6_Om6wnAbFx",
        "outputId": "ac0cea99-0fec-42c9-f4ed-981446ba2092"
      },
      "execution_count": null,
      "outputs": [
        {
          "output_type": "execute_result",
          "data": {
            "text/plain": [
              "'\\n주어진 facebook 데이터 세트는 페이그스북 라이브에 대한 사용자 반응을 집계한 것이다.\\n이 중 love(num_loves)와 wow(num_wows)을 매우 긍정적인 반응이라고 정의할 때, \\n전체 반응 수(num_reaction) 중 매우 긍정적인 반응이 차지하는 비율을 계산하시오.\\n그리고 그 비율이 0.5보다 작고 0.4보다 크며 유형이 비디오에 해당하는 건수를 정수로 출력하시오.\\n'"
            ],
            "application/vnd.google.colaboratory.intrinsic+json": {
              "type": "string"
            }
          },
          "metadata": {},
          "execution_count": 38
        }
      ]
    },
    {
      "cell_type": "code",
      "source": [
        "import pandas as pd\n",
        "\n",
        "fb_test = pd.read_csv('/content/yemoonsaBigdata/datasets/Part3/402_facebook.csv')\n",
        "\n",
        "fb_test['pos_prop'] = (fb_test['num_loves'] + fb_test['num_wows']) / fb_test['num_reactions']\n",
        "fb_fit = fb_test[(fb_test['pos_prop'] > 0.4) & (fb_test['pos_prop'] < 0.5) & (fb_test['status_type'] == 'video')]\n",
        "fb_result = len(fb_fit)\n",
        "\n",
        "print(fb_result)"
      ],
      "metadata": {
        "colab": {
          "base_uri": "https://localhost:8080/"
        },
        "id": "bYDP8_0ZBGs2",
        "outputId": "3344534a-c8a5-498a-cc48-1d148eede8cc"
      },
      "execution_count": null,
      "outputs": [
        {
          "output_type": "stream",
          "name": "stdout",
          "text": [
            "90\n"
          ]
        }
      ]
    },
    {
      "cell_type": "code",
      "source": [
        "# 4회 작업형 1-3\n",
        "'''\n",
        "주어진 netflex 데이터 세트는 넷플릭스에 등록된 컨텐츠의 메타 데이터다.\n",
        "2018년 1월에 넷플릭스에 등록된 컨텐츠 중에서\n",
        "'United Kingdom'이 단독 제작한 컨텐츠의 수를 정수로 출력하시오.\n",
        "'''\n",
        "\n",
        "import pandas as pd\n",
        "\n",
        "nf_test = pd.read_csv('/content/yemoonsaBigdata/datasets/Part3/403_netflix.csv')\n",
        "\n",
        "nf_df = nf_test[nf_test['date_added'].str.contains('January') & nf_test['date_added'].str.contains('2018')]\n",
        "nf_df = nf_df[nf_df['country'] == 'United Kingdom']\n",
        "\n",
        "result = len(nf_df)\n",
        "\n",
        "print(result)\n"
      ],
      "metadata": {
        "id": "S0qfYii1BZXj",
        "colab": {
          "base_uri": "https://localhost:8080/"
        },
        "outputId": "33dde753-039e-406e-a730-8ebf5e93f4e7"
      },
      "execution_count": null,
      "outputs": [
        {
          "output_type": "stream",
          "name": "stdout",
          "text": [
            "6\n"
          ]
        }
      ]
    },
    {
      "cell_type": "code",
      "source": [
        "# 3회 작업형 1-1\n",
        "'''\n",
        "다음은 Califonia Housing 데이터 세트다. 데이터 중 결측치가 있는 경우 해당 데이터의 행을\n",
        "모두 제거하고 첫 번째 행부터 순서대로 70%까지 훈련 데이터로 추출한 데이터 세트를 구성한다.\n",
        "변수 중 'housing_median_age'의 Q1(제1사분위수) 값을 정수로 계산하시오.\n",
        "'''\n",
        "import pandas as pd\n",
        "\n",
        "house_df = pd.read_csv('/content/yemoonsaBigdata/datasets/Part3/301_housing.csv')\n",
        "\n",
        "# 결측치 존재 여부 확인\n",
        "# print(house_df.isnull().sum())\n",
        "\n",
        "# 결측치 제거\n",
        "house_df_dropna = house_df.dropna().reset_index()\n",
        "\n",
        "# print(\"원본 : {} \", len(house_df))\n",
        "# print(\"조정 : {} \", len(house_df_dropna))\n",
        "\n",
        "# 70%까지 훈련 데이터로 추출\n",
        "house_rs_df = house_df_dropna.iloc[:int(len(house_df_dropna) * 0.7)]\n",
        "# print(\"70% 추출 데이터 건수 : {} \", len(house_rs_df))\n",
        "\n",
        "# 'housing_median_age'의 Q1(제1사분위수) 값\n",
        "house_result = int(house_rs_df['housing_median_age'].quantile(0.25))\n",
        "\n",
        "print(house_result)"
      ],
      "metadata": {
        "colab": {
          "base_uri": "https://localhost:8080/"
        },
        "id": "Uw12EmXpA7Yi",
        "outputId": "adfa9c8e-05cc-428b-a3c4-cbcf2260c955"
      },
      "execution_count": null,
      "outputs": [
        {
          "output_type": "stream",
          "name": "stdout",
          "text": [
            "19\n"
          ]
        }
      ]
    },
    {
      "cell_type": "code",
      "source": [
        "# 3회 작업형 1-2\n",
        "'''\n",
        "다음은 구각별 연도별 인구 10만명 당 결핵 유병률 데이터 세트다.\n",
        "2000년도의 국가별 결핵 유병률 데이터 세트에서\n",
        "2000년도의 평균값보다 더 큰 유병률 값을 가진 국가의 수를 계산하시오.\n",
        "'''\n",
        "import pandas as pd\n",
        "\n",
        "w_test = pd.read_csv('/content/yemoonsaBigdata/datasets/Part3/302_worlddata.csv')\n",
        "\n",
        "# print(w_test.head())\n",
        "\n",
        "# 2000년도 데이터 추출 및 year 데이터 삭제\n",
        "df_2000 = w_test[w_test['year'] == 2000].drop('year', axis = 1)\n",
        "\n",
        "# 행/열 변환 -> T함수를 이용해서 행/열 변환\n",
        "df_2000.index = ['value']\n",
        "df_2000_T = df_2000.T\n",
        "\n",
        "# 값이 평균보다 큰 데이터만 추출하기 위헤 데이터세트[value] > 평균\n",
        "w_df = df_2000_T[df_2000_T['value'] > df_2000_T['value'].mean()]\n",
        "\n",
        "w_result = len(w_df)\n",
        "\n",
        "print(w_result)"
      ],
      "metadata": {
        "colab": {
          "base_uri": "https://localhost:8080/"
        },
        "id": "1bQ7cjyuC6UL",
        "outputId": "f450e3d1-52a7-43e0-ae91-818aa807232c"
      },
      "execution_count": null,
      "outputs": [
        {
          "output_type": "stream",
          "name": "stdout",
          "text": [
            "76\n"
          ]
        }
      ]
    },
    {
      "cell_type": "code",
      "source": [
        "# 3회 작업형 1-3\n",
        "'''\n",
        "다음은 Titanic 데이터 세트다. 주어진 데이터 세트의 컬럼 중 빈 값 또는 결측치를 확인하여\n",
        "결측치 비율이 가장 높은 변수명을 출력하시오.\n",
        "'''\n",
        "import pandas as pd\n",
        "\n",
        "ttn_test = pd.read_csv('/content/yemoonsaBigdata/datasets/Part3/303_titanic.csv')\n",
        "\n",
        "ttn_df = ttn_test.isnull().sum().reset_index()\n",
        "ttn_df.columns = ['var', 'count']\n",
        "\n",
        "ttn_result = ttn_df.loc[ttn_df['count'] == ttn_df['count'].max(), 'var'].values[0]\n",
        "# ttn_result = ttn_df.loc[ttn_df['count'] == ttn_df['count'].max(), 'var']\n",
        "\n",
        "print(ttn_result)\n"
      ],
      "metadata": {
        "colab": {
          "base_uri": "https://localhost:8080/"
        },
        "id": "TDImBaIgpjEl",
        "outputId": "15856790-5137-4922-9e81-18ff53e64f9f"
      },
      "execution_count": null,
      "outputs": [
        {
          "output_type": "stream",
          "name": "stdout",
          "text": [
            "Age\n"
          ]
        }
      ]
    },
    {
      "cell_type": "code",
      "source": [
        "# 2회 작업형 1-1\n",
        "'''\n",
        "다음은 Boston Housing 데이터 세트다. 범죄율 컬럼인 Crim 항목의 상위에서\n",
        "10번째 값(즉, 범죄율을 큰순서로 내림차순 정렬했을 때, 10번째 값)으로\n",
        "상위 10개의 값을 변환한 후, age가 80 이상인 데이터를 추출하여 Crim 평균값을 도출하시오.\n",
        "'''\n",
        "import pandas as pd\n",
        "\n",
        "crim_test = pd.read_csv('/content/yemoonsaBigdata/datasets/Part3/201_boston.csv')\n",
        "\n",
        "# CRIM(범죄율)이 높은 순으로 정렬(ascending=False)\n",
        "crim_df = crim_test.sort_values(by='CRIM', ascending=False)\n",
        "\n",
        "# 상위 10번째 값을 찾기 위해 iloc 함수 활용\n",
        "# iloc[x, y]함수에서 x는 행의 위치, y는 컬럼의 위치\n",
        "# iloc[9, 0] = 10번째 행의 첫번째 컬럼인 CRIM을 의미\n",
        "crim_value = crim_df.iloc[9, 0]\n",
        "\n",
        "# 첫번째헹부터 10번째행까지 데이터 값을 변경하기 위해 iloc을 사용\n",
        "# iloc[a:b, y]는 데이터의 a~b y번 열을 출력\n",
        "# iloc[:10, 0] = 1 ~ 10행의 첫번째 컬럼인 CRIM을 의미\n",
        "# 여기에 crim_value를 지정하면 선택한 데이터가 crim_value로 변환\n",
        "crim_df.iloc[:10, 0] = crim_value\n",
        "\n",
        "# 나이가 80세 이상인 사람을 추출\n",
        "crim_rs = crim_df[crim_df['AGE'] >= 80]\n",
        "\n",
        "# 나이가 80세 이상인 사람을 추출 후, 평균값 도출\n",
        "crim_result = crim_rs['CRIM'].mean()\n",
        "\n",
        "print(crim_result)"
      ],
      "metadata": {
        "colab": {
          "base_uri": "https://localhost:8080/"
        },
        "id": "hbgpRodYrcIk",
        "outputId": "0f69d5b2-43eb-490e-9eeb-911d2c17cea7"
      },
      "execution_count": null,
      "outputs": [
        {
          "output_type": "stream",
          "name": "stdout",
          "text": [
            "5.759386625\n"
          ]
        }
      ]
    },
    {
      "cell_type": "code",
      "source": [
        "# 2회 작업형 1-2 - 스케일링 / 표준편차\n",
        "'''\n",
        "다음은 California Housing 데이터 세트다.\n",
        "주어진 데이터의 첫 번째 행부터 순서대로 80%까지 데이터를 훈련데이터로 추출 후\n",
        "전체 방 개수 컬럼을 의미하는 'total bedrooms' 변수의 결측치를\n",
        "'total bedrooms' 변수의 중앙값으로 대체한 데이터 세트로 구성한다.\n",
        "결측치 대체 전의 'total bedrooms' 변수의 표준편차 값과\n",
        "결측치 대체 후의 'total bedrooms' 변수 표준편차 값과의 차이에 대한 절대값을 계산하시오.\n",
        "'''\n",
        "\n",
        "import pandas as pd\n",
        "\n",
        "cal_test = pd.read_csv('/content/yemoonsaBigdata/datasets/Part3/202_housing.csv')\n",
        "\n",
        "# 80%의 데이터에 해당하는 행 수 계산\n",
        "value = int(len(cal_test) * 0.8)\n",
        "\n",
        "# 변수명으로 데이터 추출 = loc\n",
        "cal_rs = cal_test.loc[:value-1, 'total_bedrooms']\n",
        "# cal_rs = cal_test.iloc[:value]['total_bedrooms']\n",
        "\n",
        "std1 = cal_rs.std()\n",
        "med = cal_rs.median()\n",
        "\n",
        "# 결측값 채우기 및 표준편차 계산\n",
        "cal_rs_fillna = cal_rs.fillna(med)\n",
        "std2 = cal_rs_fillna.std()\n",
        "\n",
        "cal_result = abs(std1 - std2)\n",
        "\n",
        "print(cal_result)"
      ],
      "metadata": {
        "colab": {
          "base_uri": "https://localhost:8080/"
        },
        "id": "z2iAV1RKtXBk",
        "outputId": "38cdd5dd-b631-4717-8d70-78413aeedcc3"
      },
      "execution_count": null,
      "outputs": [
        {
          "output_type": "stream",
          "name": "stdout",
          "text": [
            "1.9751472916456692\n"
          ]
        }
      ]
    },
    {
      "cell_type": "code",
      "source": [
        "# 2회 작업형 1-3 - 이상치\n",
        "'''\n",
        "2번에서 활용한 California Housing 데이터 세트를 그대로 활용한다.\n",
        "인구 컬럼인 population 항목의 이상값의 합계를 계산하시오.\n",
        "(이상값은 평균에서 1.5x 표준편차를 초과하거나 미만인 값의 범위로 정함)\n",
        "'''\n",
        "\n",
        "import pandas as pd\n",
        "\n",
        "cali_test = pd.read_csv('/content/yemoonsaBigdata/datasets/Part3/203_housing.csv')\n",
        "\n",
        "cali_mean = cali_test['population'].mean()\n",
        "cali_std = cali_test['population'].std()\n",
        "\n",
        "# print(\"# 평균      : \", cali_mean)\n",
        "# print(\"# 표준편차   : \", cali_std)\n",
        "\n",
        "# 평균과 표준편차를 활용해서 이상값의 임계치(상한과 하한)를 계산\n",
        "# 상한 = 평균 + (표준편차 * 1.5)\n",
        "# 하한 = 평균 - (표준편차 * 1.5)\n",
        "lower = cali_mean - (cali_std * 1.5)\n",
        "upper = cali_mean + (cali_std * 1.5)\n",
        "\n",
        "# print(\"# 정상범위 최소값 : \", lower)\n",
        "# print(\"# 정상범위 최대값 : \", upper)\n",
        "\n",
        "# 상향/하향 조건을 만족하기 위해 OR 조건 활용. OR = | / AND = &\n",
        "cali_rst = cali_test.loc[(cali_test['population'] < lower) | (cali_test['population'] > upper), 'population']\n",
        "\n",
        "cali_result = cali_rst.sum()\n",
        "print(cali_result)"
      ],
      "metadata": {
        "colab": {
          "base_uri": "https://localhost:8080/"
        },
        "id": "Z6A0lyOx1oLp",
        "outputId": "d1a9d839-fa8b-450f-8e0e-ba0095a21a6d"
      },
      "execution_count": null,
      "outputs": [
        {
          "output_type": "stream",
          "name": "stdout",
          "text": [
            "5607295.0\n"
          ]
        }
      ]
    },
    {
      "cell_type": "code",
      "source": [],
      "metadata": {
        "id": "F8zt7Qlt4AEW"
      },
      "execution_count": null,
      "outputs": []
    },
    {
      "cell_type": "markdown",
      "source": [
        "## T1 이상치를 찾아라(IQR활용)\n",
        "### T데이터에서 IQR을 활용해 Fare컬럼의 이상치를 찾고, 이상치 데이터의 여성 수를 구하시오"
      ],
      "metadata": {
        "id": "1D-OhLpNtHWB"
      }
    },
    {
      "cell_type": "code",
      "source": [
        "# 라이브러리 및 데이터 불러오기\n",
        "import pandas as pd\n",
        "import numpy as np\n",
        "t1_train = pd.read_csv('/content/T1_train.csv')\n",
        "t1_test = pd.read_csv('/content/T1_test.csv')\n"
      ],
      "metadata": {
        "id": "qnpcro4ttKpF"
      },
      "execution_count": null,
      "outputs": []
    },
    {
      "cell_type": "code",
      "source": [
        "# EDA\n",
        "print(t1_train.head())\n",
        "# print(T1_train.shape)\n",
        "print(t1_train.isnull().sum())"
      ],
      "metadata": {
        "colab": {
          "base_uri": "https://localhost:8080/"
        },
        "id": "SL5uUOPFkfIH",
        "outputId": "0d56090b-371e-4699-c239-b5787ed48a52"
      },
      "execution_count": null,
      "outputs": [
        {
          "output_type": "stream",
          "name": "stdout",
          "text": [
            "   PassengerId  Survived  Pclass  \\\n",
            "0            1         0       3   \n",
            "1            2         1       1   \n",
            "2            3         1       3   \n",
            "3            4         1       1   \n",
            "4            5         0       3   \n",
            "\n",
            "                                                Name     Sex   Age  SibSp  \\\n",
            "0                            Braund, Mr. Owen Harris    male  22.0      1   \n",
            "1  Cumings, Mrs. John Bradley (Florence Briggs Th...  female  38.0      1   \n",
            "2                             Heikkinen, Miss. Laina  female  26.0      0   \n",
            "3       Futrelle, Mrs. Jacques Heath (Lily May Peel)  female  35.0      1   \n",
            "4                           Allen, Mr. William Henry    male  35.0      0   \n",
            "\n",
            "   Parch            Ticket     Fare Cabin Embarked  \n",
            "0      0         A/5 21171   7.2500   NaN        S  \n",
            "1      0          PC 17599  71.2833   C85        C  \n",
            "2      0  STON/O2. 3101282   7.9250   NaN        S  \n",
            "3      0            113803  53.1000  C123        S  \n",
            "4      0            373450   8.0500   NaN        S  \n",
            "PassengerId      0\n",
            "Survived         0\n",
            "Pclass           0\n",
            "Name             0\n",
            "Sex              0\n",
            "Age            177\n",
            "SibSp            0\n",
            "Parch            0\n",
            "Ticket           0\n",
            "Fare             0\n",
            "Cabin          687\n",
            "Embarked         2\n",
            "dtype: int64\n"
          ]
        }
      ]
    },
    {
      "cell_type": "code",
      "source": [
        "# IQR 구하기\n",
        "Q1 = t1_train['Fare'].quantile(0.25)\n",
        "Q3 = t1_train['Fare'].quantile(0.75)\n",
        "\n",
        "IQR = Q3-Q1\n",
        "\n",
        "(Q1 - 1.5 * IQR), (Q3 + 1.5 * IQR)"
      ],
      "metadata": {
        "colab": {
          "base_uri": "https://localhost:8080/"
        },
        "id": "aIJ8CXIFkkY2",
        "outputId": "095885d1-f63b-410f-a935-1e0b9db24529"
      },
      "execution_count": null,
      "outputs": [
        {
          "output_type": "execute_result",
          "data": {
            "text/plain": [
              "(-26.724, 65.6344)"
            ]
          },
          "metadata": {},
          "execution_count": 17
        }
      ]
    },
    {
      "cell_type": "code",
      "source": [
        "# 이상치 데이터 구하기\n",
        "out1 = t1_train[t1_train['Fare'] < (Q1 - 1.5 * IQR)]\n",
        "out2 = t1_train[t1_train['Fare'] > (Q3 + 1.5 * IQR)]\n",
        "\n",
        "print(len(out1))\n",
        "print(len(out2))"
      ],
      "metadata": {
        "colab": {
          "base_uri": "https://localhost:8080/"
        },
        "id": "-7dbhpganDq1",
        "outputId": "3c9c4961-28b7-48af-ec15-c9519b404fb1"
      },
      "execution_count": null,
      "outputs": [
        {
          "output_type": "stream",
          "name": "stdout",
          "text": [
            "0\n",
            "116\n"
          ]
        }
      ]
    },
    {
      "cell_type": "code",
      "source": [
        "# 이상치 데이터에서 여성 수 구하기.\n",
        "print(sum(out2['Sex'] == 'female'))"
      ],
      "metadata": {
        "colab": {
          "base_uri": "https://localhost:8080/"
        },
        "id": "hn9-tN2BnbXC",
        "outputId": "a248bcf9-493d-4e5a-8ca6-507ab584502f"
      },
      "execution_count": null,
      "outputs": [
        {
          "output_type": "stream",
          "name": "stdout",
          "text": [
            "70\n"
          ]
        }
      ]
    },
    {
      "cell_type": "markdown",
      "source": [
        "## T1-2. 이상치를 찾아라(소수점 나이)\n",
        "### 이상치를 찾아라(소수점 나이)\n",
        "### 주어진 데이터에서 이상치(소수점 나이)를 찾고 올림, 내림, 버림(절사)했을때 3가지 모두 이상치 'age' 평균을 구한 다음 모두 더하여 출력하시오"
      ],
      "metadata": {
        "id": "s3eXosbfqH8X"
      }
    },
    {
      "cell_type": "code",
      "source": [
        "t2_data = pd.read_csv('/content/T2_data.csv')"
      ],
      "metadata": {
        "id": "cNldmSKhnlGE"
      },
      "execution_count": null,
      "outputs": []
    },
    {
      "cell_type": "code",
      "source": [
        "print(t2_data.head())"
      ],
      "metadata": {
        "colab": {
          "base_uri": "https://localhost:8080/"
        },
        "id": "AgpAr34vqksi",
        "outputId": "a15dbc68-9122-4be0-9c05-5b7dca1b5fc8"
      },
      "execution_count": null,
      "outputs": [
        {
          "output_type": "stream",
          "name": "stdout",
          "text": [
            "     id   age city    f1  f2   f3    f4         f5\n",
            "0  id01   2.0   서울   NaN   0  NaN  ENFJ  91.297791\n",
            "1  id02   9.0   서울  70.0   1  NaN  ENFJ  60.339826\n",
            "2  id03  27.0   서울  61.0   1  NaN  ISTJ  17.252986\n",
            "3  id04  75.0   서울   NaN   2  NaN  INFP  52.667078\n",
            "4  id05  24.0   서울  85.0   2  NaN  ISFJ  29.269869\n"
          ]
        }
      ]
    },
    {
      "cell_type": "code",
      "source": [
        "t2_data = t2_data[t2_data['age'] - np.floor(t2_data['age']) != 0]\n",
        "print(t2_data)"
      ],
      "metadata": {
        "colab": {
          "base_uri": "https://localhost:8080/"
        },
        "id": "qkdZHXBgqmqe",
        "outputId": "c35726c8-d7da-485a-f850-39a370db7eba"
      },
      "execution_count": null,
      "outputs": [
        {
          "output_type": "stream",
          "name": "stdout",
          "text": [
            "      id   age city    f1  f2   f3    f4         f5\n",
            "6   id07  36.3   서울  60.0   1  NaN  ISFJ   9.796378\n",
            "8   id09   3.3   서울  35.0   2  NaN  ESFJ  17.252986\n",
            "21  id22  -6.3   부산  72.0   1  NaN  ENFP  52.667078\n",
            "28  id29 -13.5   부산  47.0   2  NaN  ENTP  67.886373\n",
            "46  id47  34.6   대구  75.0   1  NaN  ESTJ  90.496999\n",
            "64  id65  26.5   경기   NaN   0  NaN  ISFP  91.297791\n",
            "84  id85  83.6   경기  55.0   0  NaN  INFJ  80.138280\n",
            "92  id93  21.8   경기  57.0   0  NaN  ISFP  73.586397\n"
          ]
        }
      ]
    },
    {
      "cell_type": "code",
      "source": [
        "# 이상치를 포함한 데이터 올림 / 내림 / 버림의 평균값\n",
        "\n",
        "# 올림\n",
        "m_ceil = np.ceil(t2_data['age']).mean()\n",
        "\n",
        "# 내림\n",
        "m_floor = np.floor(t2_data['age']).mean()\n",
        "\n",
        "# 버림\n",
        "m_trunc = np.trunc(t2_data['age']).mean()\n",
        "\n",
        "print(\"# m_ceil  : \", m_ceil)\n",
        "print(\"# m_floor : \", m_floor)\n",
        "print(\"# m_trunc : \", m_trunc)"
      ],
      "metadata": {
        "colab": {
          "base_uri": "https://localhost:8080/"
        },
        "id": "Qe-zampQq2lS",
        "outputId": "93c47632-8f33-4a4e-a27a-6cc4484ecff6"
      },
      "execution_count": null,
      "outputs": [
        {
          "output_type": "stream",
          "name": "stdout",
          "text": [
            "# m_ceil  :  23.75\n",
            "# m_floor :  22.75\n",
            "# m_trunc :  23.0\n"
          ]
        }
      ]
    },
    {
      "cell_type": "code",
      "source": [
        "print(m_ceil + m_floor + m_trunc)"
      ],
      "metadata": {
        "colab": {
          "base_uri": "https://localhost:8080/"
        },
        "id": "it_530nmrlc6",
        "outputId": "0866f9a8-833f-447d-9609-b775a5bb6830"
      },
      "execution_count": null,
      "outputs": [
        {
          "output_type": "stream",
          "name": "stdout",
          "text": [
            "69.5\n"
          ]
        }
      ]
    },
    {
      "cell_type": "markdown",
      "source": [
        "## T1-3. 결측치 처리(map 활용)\n",
        "### 주어진 데이터에서 결측치가 80%이상 되는 컬럼은(변수는) 삭제하고, 80% 미만인 결측치가 있는 컬럼은 'city'별 중앙값으로 값을 대체하고 'f1'컬럼의 평균값을 출력하세요!"
      ],
      "metadata": {
        "id": "J_X6Fy-Brw0b"
      }
    },
    {
      "cell_type": "code",
      "source": [
        "t3_data1 = pd.read_csv('/content/T3_data_1.csv')\n",
        "t3_data2 = pd.read_csv('/content/T3_data_2.csv')"
      ],
      "metadata": {
        "id": "yE5M6_Eqrq7s"
      },
      "execution_count": null,
      "outputs": []
    },
    {
      "cell_type": "code",
      "source": [
        "# EDA\n",
        "print(\"t3_data1 : \", t3_data1.isnull().sum())\n",
        "print(\"t3_data2 : \", t3_data2.isnull().sum())\n",
        "print(t3_data1.head())"
      ],
      "metadata": {
        "colab": {
          "base_uri": "https://localhost:8080/"
        },
        "id": "Q6LU1y2TsDwj",
        "outputId": "a1ade4d7-3f2f-421b-fbf7-68d006c0d20e"
      },
      "execution_count": null,
      "outputs": [
        {
          "output_type": "stream",
          "name": "stdout",
          "text": [
            "t3_data1 :  id       0\n",
            "age      0\n",
            "city     0\n",
            "f1      31\n",
            "f2       0\n",
            "f3      95\n",
            "f4       0\n",
            "f5       0\n",
            "dtype: int64\n",
            "t3_data2 :  Date       0\n",
            "Sales      0\n",
            "PV         0\n",
            "UV        46\n",
            "Events     0\n",
            "dtype: int64\n",
            "     id   age city    f1  f2   f3    f4         f5\n",
            "0  id01   2.0   서울   NaN   0  NaN  ENFJ  91.297791\n",
            "1  id02   9.0   서울  70.0   1  NaN  ENFJ  60.339826\n",
            "2  id03  27.0   서울  61.0   1  NaN  ISTJ  17.252986\n",
            "3  id04  75.0   서울   NaN   2  NaN  INFP  52.667078\n",
            "4  id05  24.0   서울  85.0   2  NaN  ISFJ  29.269869\n"
          ]
        }
      ]
    },
    {
      "cell_type": "code",
      "source": [
        "# 결측비율 확인\n",
        "t3_data1.isnull().sum() / t3_data1.shape[0]"
      ],
      "metadata": {
        "colab": {
          "base_uri": "https://localhost:8080/"
        },
        "id": "Am9ey8A_sL_7",
        "outputId": "a6224a92-db89-49a1-9e28-ad635fbfcd95"
      },
      "execution_count": null,
      "outputs": [
        {
          "output_type": "execute_result",
          "data": {
            "text/plain": [
              "id      0.00\n",
              "age     0.00\n",
              "city    0.00\n",
              "f1      0.31\n",
              "f2      0.00\n",
              "f3      0.95\n",
              "f4      0.00\n",
              "f5      0.00\n",
              "dtype: float64"
            ]
          },
          "metadata": {},
          "execution_count": 35
        }
      ]
    },
    {
      "cell_type": "code",
      "source": [
        "# f3 컬럼 삭제.\n",
        "print(\"삭제 전 \", t3_data1.shape)\n",
        "t3_data1 = t3_data1.drop(['f3'], axis = 1)\n",
        "print(\"삭제 후 \", t3_data1.shape)"
      ],
      "metadata": {
        "colab": {
          "base_uri": "https://localhost:8080/"
        },
        "id": "NKaB2EA1sucK",
        "outputId": "6cd44b32-e15b-4b3d-badf-2f11d7d21488"
      },
      "execution_count": null,
      "outputs": [
        {
          "output_type": "stream",
          "name": "stdout",
          "text": [
            "삭제 전  (100, 8)\n",
            "삭제 후  (100, 7)\n"
          ]
        }
      ]
    },
    {
      "cell_type": "code",
      "source": [
        "# 도시 확인\n",
        "t3_data1['city'].unique()"
      ],
      "metadata": {
        "colab": {
          "base_uri": "https://localhost:8080/"
        },
        "id": "2jAU_RhYtACv",
        "outputId": "9220b49e-5498-4238-ba77-bbeec300eb83"
      },
      "execution_count": null,
      "outputs": [
        {
          "output_type": "execute_result",
          "data": {
            "text/plain": [
              "array(['서울', '부산', '대구', '경기'], dtype=object)"
            ]
          },
          "metadata": {},
          "execution_count": 38
        }
      ]
    },
    {
      "cell_type": "code",
      "source": [
        "s = t3_data1[t3_data1['city'] == '서울']['f1'].median()\n",
        "b = t3_data1[t3_data1['city'] == '부산']['f1'].median()\n",
        "d = t3_data1[t3_data1['city'] == '대구']['f1'].median()\n",
        "g = t3_data1[t3_data1['city'] == '경기']['f1'].median()\n",
        "\n",
        "print(\"서울 : \", s)\n",
        "print(\"부산 : \", b)\n",
        "print(\"대구 : \", d)\n",
        "print(\"경기 : \", g)"
      ],
      "metadata": {
        "colab": {
          "base_uri": "https://localhost:8080/"
        },
        "id": "jCsLdlRKtImb",
        "outputId": "e04caa93-0ae6-4e18-cd53-a1a981f39773"
      },
      "execution_count": null,
      "outputs": [
        {
          "output_type": "stream",
          "name": "stdout",
          "text": [
            "서울 :  68.0\n",
            "부산 :  62.0\n",
            "대구 :  75.0\n",
            "경기 :  58.0\n"
          ]
        }
      ]
    },
    {
      "cell_type": "code",
      "source": [
        "t3_data1[18:21]"
      ],
      "metadata": {
        "colab": {
          "base_uri": "https://localhost:8080/",
          "height": 206
        },
        "id": "o7CrkHwAtfab",
        "outputId": "919795b7-6f0d-4d5c-ed7a-f0f81e00633f"
      },
      "execution_count": null,
      "outputs": [
        {
          "output_type": "execute_result",
          "data": {
            "text/plain": [
              "     id   age city    f1  f2    f4         f5\n",
              "0  id01   2.0   서울   NaN   0  ENFJ  91.297791\n",
              "1  id02   9.0   서울  70.0   1  ENFJ  60.339826\n",
              "2  id03  27.0   서울  61.0   1  ISTJ  17.252986\n",
              "3  id04  75.0   서울   NaN   2  INFP  52.667078\n",
              "4  id05  24.0   서울  85.0   2  ISFJ  29.269869"
            ],
            "text/html": [
              "\n",
              "  <div id=\"df-12b429c1-1c28-4d70-8a9c-7bc42649446c\" class=\"colab-df-container\">\n",
              "    <div>\n",
              "<style scoped>\n",
              "    .dataframe tbody tr th:only-of-type {\n",
              "        vertical-align: middle;\n",
              "    }\n",
              "\n",
              "    .dataframe tbody tr th {\n",
              "        vertical-align: top;\n",
              "    }\n",
              "\n",
              "    .dataframe thead th {\n",
              "        text-align: right;\n",
              "    }\n",
              "</style>\n",
              "<table border=\"1\" class=\"dataframe\">\n",
              "  <thead>\n",
              "    <tr style=\"text-align: right;\">\n",
              "      <th></th>\n",
              "      <th>id</th>\n",
              "      <th>age</th>\n",
              "      <th>city</th>\n",
              "      <th>f1</th>\n",
              "      <th>f2</th>\n",
              "      <th>f4</th>\n",
              "      <th>f5</th>\n",
              "    </tr>\n",
              "  </thead>\n",
              "  <tbody>\n",
              "    <tr>\n",
              "      <th>0</th>\n",
              "      <td>id01</td>\n",
              "      <td>2.0</td>\n",
              "      <td>서울</td>\n",
              "      <td>NaN</td>\n",
              "      <td>0</td>\n",
              "      <td>ENFJ</td>\n",
              "      <td>91.297791</td>\n",
              "    </tr>\n",
              "    <tr>\n",
              "      <th>1</th>\n",
              "      <td>id02</td>\n",
              "      <td>9.0</td>\n",
              "      <td>서울</td>\n",
              "      <td>70.0</td>\n",
              "      <td>1</td>\n",
              "      <td>ENFJ</td>\n",
              "      <td>60.339826</td>\n",
              "    </tr>\n",
              "    <tr>\n",
              "      <th>2</th>\n",
              "      <td>id03</td>\n",
              "      <td>27.0</td>\n",
              "      <td>서울</td>\n",
              "      <td>61.0</td>\n",
              "      <td>1</td>\n",
              "      <td>ISTJ</td>\n",
              "      <td>17.252986</td>\n",
              "    </tr>\n",
              "    <tr>\n",
              "      <th>3</th>\n",
              "      <td>id04</td>\n",
              "      <td>75.0</td>\n",
              "      <td>서울</td>\n",
              "      <td>NaN</td>\n",
              "      <td>2</td>\n",
              "      <td>INFP</td>\n",
              "      <td>52.667078</td>\n",
              "    </tr>\n",
              "    <tr>\n",
              "      <th>4</th>\n",
              "      <td>id05</td>\n",
              "      <td>24.0</td>\n",
              "      <td>서울</td>\n",
              "      <td>85.0</td>\n",
              "      <td>2</td>\n",
              "      <td>ISFJ</td>\n",
              "      <td>29.269869</td>\n",
              "    </tr>\n",
              "  </tbody>\n",
              "</table>\n",
              "</div>\n",
              "    <div class=\"colab-df-buttons\">\n",
              "\n",
              "  <div class=\"colab-df-container\">\n",
              "    <button class=\"colab-df-convert\" onclick=\"convertToInteractive('df-12b429c1-1c28-4d70-8a9c-7bc42649446c')\"\n",
              "            title=\"Convert this dataframe to an interactive table.\"\n",
              "            style=\"display:none;\">\n",
              "\n",
              "  <svg xmlns=\"http://www.w3.org/2000/svg\" height=\"24px\" viewBox=\"0 -960 960 960\">\n",
              "    <path d=\"M120-120v-720h720v720H120Zm60-500h600v-160H180v160Zm220 220h160v-160H400v160Zm0 220h160v-160H400v160ZM180-400h160v-160H180v160Zm440 0h160v-160H620v160ZM180-180h160v-160H180v160Zm440 0h160v-160H620v160Z\"/>\n",
              "  </svg>\n",
              "    </button>\n",
              "\n",
              "  <style>\n",
              "    .colab-df-container {\n",
              "      display:flex;\n",
              "      gap: 12px;\n",
              "    }\n",
              "\n",
              "    .colab-df-convert {\n",
              "      background-color: #E8F0FE;\n",
              "      border: none;\n",
              "      border-radius: 50%;\n",
              "      cursor: pointer;\n",
              "      display: none;\n",
              "      fill: #1967D2;\n",
              "      height: 32px;\n",
              "      padding: 0 0 0 0;\n",
              "      width: 32px;\n",
              "    }\n",
              "\n",
              "    .colab-df-convert:hover {\n",
              "      background-color: #E2EBFA;\n",
              "      box-shadow: 0px 1px 2px rgba(60, 64, 67, 0.3), 0px 1px 3px 1px rgba(60, 64, 67, 0.15);\n",
              "      fill: #174EA6;\n",
              "    }\n",
              "\n",
              "    .colab-df-buttons div {\n",
              "      margin-bottom: 4px;\n",
              "    }\n",
              "\n",
              "    [theme=dark] .colab-df-convert {\n",
              "      background-color: #3B4455;\n",
              "      fill: #D2E3FC;\n",
              "    }\n",
              "\n",
              "    [theme=dark] .colab-df-convert:hover {\n",
              "      background-color: #434B5C;\n",
              "      box-shadow: 0px 1px 3px 1px rgba(0, 0, 0, 0.15);\n",
              "      filter: drop-shadow(0px 1px 2px rgba(0, 0, 0, 0.3));\n",
              "      fill: #FFFFFF;\n",
              "    }\n",
              "  </style>\n",
              "\n",
              "    <script>\n",
              "      const buttonEl =\n",
              "        document.querySelector('#df-12b429c1-1c28-4d70-8a9c-7bc42649446c button.colab-df-convert');\n",
              "      buttonEl.style.display =\n",
              "        google.colab.kernel.accessAllowed ? 'block' : 'none';\n",
              "\n",
              "      async function convertToInteractive(key) {\n",
              "        const element = document.querySelector('#df-12b429c1-1c28-4d70-8a9c-7bc42649446c');\n",
              "        const dataTable =\n",
              "          await google.colab.kernel.invokeFunction('convertToInteractive',\n",
              "                                                    [key], {});\n",
              "        if (!dataTable) return;\n",
              "\n",
              "        const docLinkHtml = 'Like what you see? Visit the ' +\n",
              "          '<a target=\"_blank\" href=https://colab.research.google.com/notebooks/data_table.ipynb>data table notebook</a>'\n",
              "          + ' to learn more about interactive tables.';\n",
              "        element.innerHTML = '';\n",
              "        dataTable['output_type'] = 'display_data';\n",
              "        await google.colab.output.renderOutput(dataTable, element);\n",
              "        const docLink = document.createElement('div');\n",
              "        docLink.innerHTML = docLinkHtml;\n",
              "        element.appendChild(docLink);\n",
              "      }\n",
              "    </script>\n",
              "  </div>\n",
              "\n",
              "\n",
              "<div id=\"df-e92f7603-8409-4e7f-93b2-4a1fe96ab5ca\">\n",
              "  <button class=\"colab-df-quickchart\" onclick=\"quickchart('df-e92f7603-8409-4e7f-93b2-4a1fe96ab5ca')\"\n",
              "            title=\"Suggest charts\"\n",
              "            style=\"display:none;\">\n",
              "\n",
              "<svg xmlns=\"http://www.w3.org/2000/svg\" height=\"24px\"viewBox=\"0 0 24 24\"\n",
              "     width=\"24px\">\n",
              "    <g>\n",
              "        <path d=\"M19 3H5c-1.1 0-2 .9-2 2v14c0 1.1.9 2 2 2h14c1.1 0 2-.9 2-2V5c0-1.1-.9-2-2-2zM9 17H7v-7h2v7zm4 0h-2V7h2v10zm4 0h-2v-4h2v4z\"/>\n",
              "    </g>\n",
              "</svg>\n",
              "  </button>\n",
              "\n",
              "<style>\n",
              "  .colab-df-quickchart {\n",
              "      --bg-color: #E8F0FE;\n",
              "      --fill-color: #1967D2;\n",
              "      --hover-bg-color: #E2EBFA;\n",
              "      --hover-fill-color: #174EA6;\n",
              "      --disabled-fill-color: #AAA;\n",
              "      --disabled-bg-color: #DDD;\n",
              "  }\n",
              "\n",
              "  [theme=dark] .colab-df-quickchart {\n",
              "      --bg-color: #3B4455;\n",
              "      --fill-color: #D2E3FC;\n",
              "      --hover-bg-color: #434B5C;\n",
              "      --hover-fill-color: #FFFFFF;\n",
              "      --disabled-bg-color: #3B4455;\n",
              "      --disabled-fill-color: #666;\n",
              "  }\n",
              "\n",
              "  .colab-df-quickchart {\n",
              "    background-color: var(--bg-color);\n",
              "    border: none;\n",
              "    border-radius: 50%;\n",
              "    cursor: pointer;\n",
              "    display: none;\n",
              "    fill: var(--fill-color);\n",
              "    height: 32px;\n",
              "    padding: 0;\n",
              "    width: 32px;\n",
              "  }\n",
              "\n",
              "  .colab-df-quickchart:hover {\n",
              "    background-color: var(--hover-bg-color);\n",
              "    box-shadow: 0 1px 2px rgba(60, 64, 67, 0.3), 0 1px 3px 1px rgba(60, 64, 67, 0.15);\n",
              "    fill: var(--button-hover-fill-color);\n",
              "  }\n",
              "\n",
              "  .colab-df-quickchart-complete:disabled,\n",
              "  .colab-df-quickchart-complete:disabled:hover {\n",
              "    background-color: var(--disabled-bg-color);\n",
              "    fill: var(--disabled-fill-color);\n",
              "    box-shadow: none;\n",
              "  }\n",
              "\n",
              "  .colab-df-spinner {\n",
              "    border: 2px solid var(--fill-color);\n",
              "    border-color: transparent;\n",
              "    border-bottom-color: var(--fill-color);\n",
              "    animation:\n",
              "      spin 1s steps(1) infinite;\n",
              "  }\n",
              "\n",
              "  @keyframes spin {\n",
              "    0% {\n",
              "      border-color: transparent;\n",
              "      border-bottom-color: var(--fill-color);\n",
              "      border-left-color: var(--fill-color);\n",
              "    }\n",
              "    20% {\n",
              "      border-color: transparent;\n",
              "      border-left-color: var(--fill-color);\n",
              "      border-top-color: var(--fill-color);\n",
              "    }\n",
              "    30% {\n",
              "      border-color: transparent;\n",
              "      border-left-color: var(--fill-color);\n",
              "      border-top-color: var(--fill-color);\n",
              "      border-right-color: var(--fill-color);\n",
              "    }\n",
              "    40% {\n",
              "      border-color: transparent;\n",
              "      border-right-color: var(--fill-color);\n",
              "      border-top-color: var(--fill-color);\n",
              "    }\n",
              "    60% {\n",
              "      border-color: transparent;\n",
              "      border-right-color: var(--fill-color);\n",
              "    }\n",
              "    80% {\n",
              "      border-color: transparent;\n",
              "      border-right-color: var(--fill-color);\n",
              "      border-bottom-color: var(--fill-color);\n",
              "    }\n",
              "    90% {\n",
              "      border-color: transparent;\n",
              "      border-bottom-color: var(--fill-color);\n",
              "    }\n",
              "  }\n",
              "</style>\n",
              "\n",
              "  <script>\n",
              "    async function quickchart(key) {\n",
              "      const quickchartButtonEl =\n",
              "        document.querySelector('#' + key + ' button');\n",
              "      quickchartButtonEl.disabled = true;  // To prevent multiple clicks.\n",
              "      quickchartButtonEl.classList.add('colab-df-spinner');\n",
              "      try {\n",
              "        const charts = await google.colab.kernel.invokeFunction(\n",
              "            'suggestCharts', [key], {});\n",
              "      } catch (error) {\n",
              "        console.error('Error during call to suggestCharts:', error);\n",
              "      }\n",
              "      quickchartButtonEl.classList.remove('colab-df-spinner');\n",
              "      quickchartButtonEl.classList.add('colab-df-quickchart-complete');\n",
              "    }\n",
              "    (() => {\n",
              "      let quickchartButtonEl =\n",
              "        document.querySelector('#df-e92f7603-8409-4e7f-93b2-4a1fe96ab5ca button');\n",
              "      quickchartButtonEl.style.display =\n",
              "        google.colab.kernel.accessAllowed ? 'block' : 'none';\n",
              "    })();\n",
              "  </script>\n",
              "</div>\n",
              "    </div>\n",
              "  </div>\n"
            ]
          },
          "metadata": {},
          "execution_count": 43
        }
      ]
    },
    {
      "cell_type": "code",
      "source": [
        "t3_data1['f1'] = t3_data1['f1'].fillna(t3_data1['city'].map({'서울' : s, '부산': b, '대구' : d, '경기': g}))\n",
        "\n",
        "print(t3_data1.head())"
      ],
      "metadata": {
        "colab": {
          "base_uri": "https://localhost:8080/"
        },
        "id": "OLlD_6RRuAH3",
        "outputId": "a992b3cb-669f-401e-eb5b-13d4e6a3db16"
      },
      "execution_count": null,
      "outputs": [
        {
          "output_type": "stream",
          "name": "stdout",
          "text": [
            "     id   age city    f1  f2    f4         f5\n",
            "0  id01   2.0   서울  68.0   0  ENFJ  91.297791\n",
            "1  id02   9.0   서울  70.0   1  ENFJ  60.339826\n",
            "2  id03  27.0   서울  61.0   1  ISTJ  17.252986\n",
            "3  id04  75.0   서울  68.0   2  INFP  52.667078\n",
            "4  id05  24.0   서울  85.0   2  ISFJ  29.269869\n"
          ]
        }
      ]
    },
    {
      "cell_type": "code",
      "source": [
        "print(t3_data1['f1'].mean())"
      ],
      "metadata": {
        "colab": {
          "base_uri": "https://localhost:8080/"
        },
        "id": "_dfp0i-puppp",
        "outputId": "69f491b1-b8d1-4979-adb8-d1a4108b1ecc"
      },
      "execution_count": null,
      "outputs": [
        {
          "output_type": "stream",
          "name": "stdout",
          "text": [
            "65.52\n"
          ]
        }
      ]
    },
    {
      "cell_type": "markdown",
      "source": [
        "## T1-5. 조건에 맞는 데이터 표준편차 구하기\n",
        "### 주어진 데이터 중 basic1.csv에서 'f4'컬럼 값이 'ENFJ'와 'INFP'인 'f1'의 표준편차 차이를 절대값으로 구하시오\n"
      ],
      "metadata": {
        "id": "3dNSjR40u5rJ"
      }
    },
    {
      "cell_type": "code",
      "source": [
        "t5_data = pd.read_csv('/content/T5_data.csv')\n",
        "print(t5_data.head())"
      ],
      "metadata": {
        "colab": {
          "base_uri": "https://localhost:8080/"
        },
        "id": "Uz0gIvGFuuXq",
        "outputId": "8fe1de2a-aa69-4303-85e7-05f370f54ffb"
      },
      "execution_count": null,
      "outputs": [
        {
          "output_type": "stream",
          "name": "stdout",
          "text": [
            "     id   age city    f1  f2   f3    f4         f5\n",
            "0  id01   2.0   서울   NaN   0  NaN  ENFJ  91.297791\n",
            "1  id02   9.0   서울  70.0   1  NaN  ENFJ  60.339826\n",
            "2  id03  27.0   서울  61.0   1  NaN  ISTJ  17.252986\n",
            "3  id04  75.0   서울   NaN   2  NaN  INFP  52.667078\n",
            "4  id05  24.0   서울  85.0   2  NaN  ISFJ  29.269869\n"
          ]
        }
      ]
    },
    {
      "cell_type": "code",
      "source": [
        "# 'ENFJ'와 'INFP'인 'f1'의 표준편차 차이를 절대값으로 구하시오\n",
        "\n",
        "ENFJ = t5_data[t5_data['f4'] == 'ENFJ']\n",
        "INFP = t5_data[t5_data['f4'] == 'INFP']\n",
        "\n",
        "print('# ENFJ : ', ENFJ)\n",
        "print('# INFP : ', INFP)"
      ],
      "metadata": {
        "colab": {
          "base_uri": "https://localhost:8080/"
        },
        "id": "LxWfvZdJvIRV",
        "outputId": "aa030dea-26b6-473a-9dd3-1ce4fd83dcca"
      },
      "execution_count": null,
      "outputs": [
        {
          "output_type": "stream",
          "name": "stdout",
          "text": [
            "# ENFJ :        id   age city    f1  f2   f3    f4         f5\n",
            "0   id01   2.0   서울   NaN   0  NaN  ENFJ  91.297791\n",
            "1   id02   9.0   서울  70.0   1  NaN  ENFJ  60.339826\n",
            "32  id33  47.0   부산  94.0   0  NaN  ENFJ  17.252986\n",
            "40  id41  81.0   대구  55.0   0  NaN  ENFJ  37.113739\n",
            "44  id45  97.0   대구  88.0   0  NaN  ENFJ  13.049921\n",
            "53  id54  53.0   대구   NaN   1  NaN  ENFJ  69.730313\n",
            "# INFP :        id    age city    f1  f2   f3    f4         f5\n",
            "3   id04   75.0   서울   NaN   2  NaN  INFP  52.667078\n",
            "33  id34   65.0   부산   NaN   1  NaN  INFP  48.431184\n",
            "76  id77   77.0   경기  31.0   0  NaN  INFP  98.429899\n",
            "91  id92   97.0   경기  78.0   1  NaN  INFP  97.381034\n",
            "96  id97  100.0   경기   NaN   0  NaN  INFP  67.886373\n",
            "97  id98   39.0   경기  58.0   2  NaN  INFP  98.429899\n"
          ]
        }
      ]
    },
    {
      "cell_type": "code",
      "source": [
        "ENFJ_STD = ENFJ['f1'].std()\n",
        "INFP_STD = INFP['f1'].std()\n",
        "\n",
        "print('ENFJ_STD : ', ENFJ_STD)\n",
        "print('INFP_STD : ', INFP_STD)"
      ],
      "metadata": {
        "colab": {
          "base_uri": "https://localhost:8080/"
        },
        "id": "F9ljQSjRvffR",
        "outputId": "092f1aa4-2656-485f-9445-47f07dff9fb0"
      },
      "execution_count": null,
      "outputs": [
        {
          "output_type": "stream",
          "name": "stdout",
          "text": [
            "ENFJ_STD :  17.727097901235837\n",
            "INFP_STD :  23.586719427112648\n"
          ]
        }
      ]
    },
    {
      "cell_type": "code",
      "source": [
        "print(abs(ENFJ_STD - INFP_STD))"
      ],
      "metadata": {
        "colab": {
          "base_uri": "https://localhost:8080/"
        },
        "id": "AzFXEDf-vwtE",
        "outputId": "83537cd1-9e51-4e44-98ab-6eb28b15557d"
      },
      "execution_count": null,
      "outputs": [
        {
          "output_type": "stream",
          "name": "stdout",
          "text": [
            "5.859621525876811\n"
          ]
        }
      ]
    },
    {
      "cell_type": "markdown",
      "source": [
        "## T1-6. 결측치 제거 및 그룹 합계\n",
        "### 주어진 데이터 중 basic1.csv에서 'f1'컬럼 결측 데이터를 제거하고, 'city'와 'f2'을 기준으로 묶어 합계를 구하고, 'city가 경기이면서 f2가 0'인 조건에 만족하는 f1 값을 구하시오"
      ],
      "metadata": {
        "id": "AGQ-h6vIwx8l"
      }
    },
    {
      "cell_type": "code",
      "source": [
        "t6_data = pd.read_csv('/content/T6_data.csv')\n",
        "print(t6_data.head())"
      ],
      "metadata": {
        "colab": {
          "base_uri": "https://localhost:8080/"
        },
        "id": "i-XNYiPvv09G",
        "outputId": "1c8eb8ae-591c-4238-88fb-864c149bcbbd"
      },
      "execution_count": null,
      "outputs": [
        {
          "output_type": "stream",
          "name": "stdout",
          "text": [
            "     id   age city    f1  f2   f3    f4         f5\n",
            "0  id01   2.0   서울   NaN   0  NaN  ENFJ  91.297791\n",
            "1  id02   9.0   서울  70.0   1  NaN  ENFJ  60.339826\n",
            "2  id03  27.0   서울  61.0   1  NaN  ISTJ  17.252986\n",
            "3  id04  75.0   서울   NaN   2  NaN  INFP  52.667078\n",
            "4  id05  24.0   서울  85.0   2  NaN  ISFJ  29.269869\n"
          ]
        }
      ]
    },
    {
      "cell_type": "code",
      "source": [
        "# f1컬럼 결측치 제거\n",
        "t6_data = t6_data[~t6_data['f1'].isnull()]\n",
        "print(t6_data.head())"
      ],
      "metadata": {
        "colab": {
          "base_uri": "https://localhost:8080/"
        },
        "id": "lHXp3MHDzu0G",
        "outputId": "2d7cfd09-c39d-436e-b489-b52cae92876b"
      },
      "execution_count": null,
      "outputs": [
        {
          "output_type": "stream",
          "name": "stdout",
          "text": [
            "     id   age city    f1  f2   f3    f4         f5\n",
            "1  id02   9.0   서울  70.0   1  NaN  ENFJ  60.339826\n",
            "2  id03  27.0   서울  61.0   1  NaN  ISTJ  17.252986\n",
            "4  id05  24.0   서울  85.0   2  NaN  ISFJ  29.269869\n",
            "5  id06  22.0   서울  57.0   0  vip  INTP  20.129444\n",
            "6  id07  36.3   서울  60.0   1  NaN  ISFJ   9.796378\n"
          ]
        }
      ]
    },
    {
      "cell_type": "code",
      "source": [
        "# 그룹 / 합계 계산\n",
        "t6_groupBySum = t6_data.groupby(['city', 'f2']).sum()\n",
        "print(t6_groupBySum)"
      ],
      "metadata": {
        "colab": {
          "base_uri": "https://localhost:8080/"
        },
        "id": "2CRfwMqCz6Xh",
        "outputId": "0cc625e7-3b8e-4e67-b6c9-60c1f6225382"
      },
      "execution_count": null,
      "outputs": [
        {
          "output_type": "stream",
          "name": "stdout",
          "text": [
            "           age     f1          f5\n",
            "city f2                          \n",
            "경기   0   720.4  833.0  943.944823\n",
            "     1   696.0  670.0  657.241212\n",
            "     2   239.0  311.0  362.300060\n",
            "대구   0   387.0  527.0  183.199568\n",
            "     1   217.6  235.0  241.333824\n",
            "     2   140.0  211.0   79.667919\n",
            "부산   0   331.0  389.0  284.371097\n",
            "     1   188.7  315.0  299.270973\n",
            "     2   -13.5   47.0   67.886373\n",
            "서울   0   145.0  278.0  218.528577\n",
            "     1   315.3  534.0  438.485010\n",
            "     2    68.3  207.0  126.661135\n"
          ]
        },
        {
          "output_type": "stream",
          "name": "stderr",
          "text": [
            "<ipython-input-53-15e1c9ab154f>:2: FutureWarning: The default value of numeric_only in DataFrameGroupBy.sum is deprecated. In a future version, numeric_only will default to False. Either specify numeric_only or select only columns which should be valid for the function.\n",
            "  t6_groupBySum = t6_data.groupby(['city', 'f2']).sum()\n"
          ]
        }
      ]
    },
    {
      "cell_type": "code",
      "source": [
        "# 값 출력\n",
        "# print(t6_groupBySum.loc['경기']['f1'][0])\n",
        "print(t6_groupBySum.iloc[0]['f1'])"
      ],
      "metadata": {
        "colab": {
          "base_uri": "https://localhost:8080/"
        },
        "id": "ZJbaP1oo0OFX",
        "outputId": "9e8e449a-a470-4c65-a21f-9e946f72485c"
      },
      "execution_count": null,
      "outputs": [
        {
          "output_type": "stream",
          "name": "stdout",
          "text": [
            "833.0\n"
          ]
        }
      ]
    },
    {
      "cell_type": "markdown",
      "source": [
        "## T1-7. 값 변경 및 2개 이상의 조건\n",
        "### 'f4'컬럼의 값이 'ESFJ'인 데이터를 'ISFJ'로 대체하고, 'city'가 '경기'이면서 'f4'가 'ISFJ'인 데이터 중 'age'컬럼의 최대값을 출력하시오!"
      ],
      "metadata": {
        "id": "M3E-tOIH04en"
      }
    },
    {
      "cell_type": "code",
      "source": [
        "t7_data = pd.read_csv('/content/T7_data.csv')\n",
        "print(t7_data.head())"
      ],
      "metadata": {
        "colab": {
          "base_uri": "https://localhost:8080/"
        },
        "id": "1MU2tmVL0VPZ",
        "outputId": "f4dcb3ec-9d62-4bad-a48a-0f546cdacf3e"
      },
      "execution_count": null,
      "outputs": [
        {
          "output_type": "stream",
          "name": "stdout",
          "text": [
            "     id   age city    f1  f2   f3    f4         f5\n",
            "0  id01   2.0   서울   NaN   0  NaN  ENFJ  91.297791\n",
            "1  id02   9.0   서울  70.0   1  NaN  ENFJ  60.339826\n",
            "2  id03  27.0   서울  61.0   1  NaN  ISTJ  17.252986\n",
            "3  id04  75.0   서울   NaN   2  NaN  INFP  52.667078\n",
            "4  id05  24.0   서울  85.0   2  NaN  ISFJ  29.269869\n"
          ]
        }
      ]
    },
    {
      "cell_type": "code",
      "source": [
        "# 데이터 확인\n",
        "print(t7_data[t7_data['f4'] == 'ESFJ'])"
      ],
      "metadata": {
        "colab": {
          "base_uri": "https://localhost:8080/"
        },
        "id": "LVALLBOQ1AGH",
        "outputId": "b06664b3-fbd8-4111-ae85-22338d283444"
      },
      "execution_count": null,
      "outputs": [
        {
          "output_type": "stream",
          "name": "stdout",
          "text": [
            "      id   age city    f1  f2   f3    f4         f5\n",
            "8   id09   3.3   서울  35.0   2  NaN  ESFJ  17.252986\n",
            "12  id13  15.0   서울  68.0   0  NaN  ESFJ  83.685380\n",
            "30  id31  86.0   부산  77.0   0  NaN  ESFJ  73.586397\n",
            "58  id59  64.0   대구   NaN   1  NaN  ESFJ  20.129444\n",
            "98  id99   1.0   경기  47.0   0  NaN  ESFJ  97.381034\n"
          ]
        }
      ]
    },
    {
      "cell_type": "code",
      "source": [
        "# 값 변경하기\n",
        "t7_data['f4']= t7_data['f4'].replace('ESFJ', 'ISFJ')\n",
        "# print(t7_data[t7_data['f4']=='ESFJ'])"
      ],
      "metadata": {
        "colab": {
          "base_uri": "https://localhost:8080/"
        },
        "id": "SN--4d8V1Oak",
        "outputId": "231d1d49-b27f-4913-cbbf-2d1fca45a5d0"
      },
      "execution_count": null,
      "outputs": [
        {
          "output_type": "stream",
          "name": "stdout",
          "text": [
            "Empty DataFrame\n",
            "Columns: [id, age, city, f1, f2, f3, f4, f5]\n",
            "Index: []\n"
          ]
        }
      ]
    },
    {
      "cell_type": "code",
      "source": [
        "t7_result = t7_data[(t7_data['city'] ==  '경기') & (t7_data['f4'] == 'ISFJ')]['age'].max()\n",
        "print(t7_result)"
      ],
      "metadata": {
        "colab": {
          "base_uri": "https://localhost:8080/"
        },
        "id": "o0JQ-3OG1mdH",
        "outputId": "e73b1eb4-4084-481c-879f-6cddcd2c2e47"
      },
      "execution_count": null,
      "outputs": [
        {
          "output_type": "stream",
          "name": "stdout",
          "text": [
            "90.0\n"
          ]
        }
      ]
    },
    {
      "cell_type": "markdown",
      "source": [
        "## T1-8. 누적합 그리고 보간(결측치 처리)\n",
        "### 주어진 데이터 셋에서 'f2' 컬럼이 1인 조건에 해당하는 데이터의 'f1'컬럼 누적합을 계산한다. 이때 발생하는 누적합 결측치는 바로 뒤의 값을 채우고, 누적합의 평균값을 출력한다. (단, 결측치 바로 뒤의 값이 없으면 다음에 나오는 값을 채워넣는다)"
      ],
      "metadata": {
        "id": "XQGLdPnf2ThD"
      }
    },
    {
      "cell_type": "code",
      "source": [
        "t8_data = pd.read_csv('/content/T8_data.csv')\n",
        "print(t8_data.head())"
      ],
      "metadata": {
        "colab": {
          "base_uri": "https://localhost:8080/"
        },
        "id": "O-oElQPq148D",
        "outputId": "6ef0d86c-3734-4cd0-8a56-6c1cacc20788"
      },
      "execution_count": null,
      "outputs": [
        {
          "output_type": "stream",
          "name": "stdout",
          "text": [
            "     id   age city    f1  f2   f3    f4         f5\n",
            "0  id01   2.0   서울   NaN   0  NaN  ENFJ  91.297791\n",
            "1  id02   9.0   서울  70.0   1  NaN  ENFJ  60.339826\n",
            "2  id03  27.0   서울  61.0   1  NaN  ISTJ  17.252986\n",
            "3  id04  75.0   서울   NaN   2  NaN  INFP  52.667078\n",
            "4  id05  24.0   서울  85.0   2  NaN  ISFJ  29.269869\n"
          ]
        }
      ]
    },
    {
      "cell_type": "code",
      "source": [
        "t8_cumsum = t8_data[t8_data['f2'] == 1]['f1'].cumsum()\n",
        "print(t8_cumsum)"
      ],
      "metadata": {
        "colab": {
          "base_uri": "https://localhost:8080/"
        },
        "id": "8jdDoQtB2hZR",
        "outputId": "aa5e5c10-7ed2-4b0d-da2a-8b7d6c05b249"
      },
      "execution_count": null,
      "outputs": [
        {
          "output_type": "stream",
          "name": "stdout",
          "text": [
            "1       70.0\n",
            "2      131.0\n",
            "6      191.0\n",
            "7      292.0\n",
            "9      366.0\n",
            "13     416.0\n",
            "14     483.0\n",
            "16       NaN\n",
            "19     534.0\n",
            "20       NaN\n",
            "21     606.0\n",
            "22     681.0\n",
            "25     738.0\n",
            "27     772.0\n",
            "33       NaN\n",
            "35     849.0\n",
            "37       NaN\n",
            "46     924.0\n",
            "49    1002.0\n",
            "51    1084.0\n",
            "53       NaN\n",
            "55       NaN\n",
            "58       NaN\n",
            "62    1170.0\n",
            "65       NaN\n",
            "66    1222.0\n",
            "69    1318.0\n",
            "72       NaN\n",
            "77    1414.0\n",
            "80    1464.0\n",
            "82    1514.0\n",
            "86       NaN\n",
            "88    1580.0\n",
            "91    1658.0\n",
            "93       NaN\n",
            "94    1701.0\n",
            "95    1754.0\n",
            "Name: f1, dtype: float64\n"
          ]
        }
      ]
    },
    {
      "cell_type": "code",
      "source": [
        "# 결측값 바로 뒤의 값으로 채움.\n",
        "t8_cumsum = t8_cumsum.fillna(method = 'bfill')\n",
        "print(t8_cumsum)"
      ],
      "metadata": {
        "colab": {
          "base_uri": "https://localhost:8080/"
        },
        "id": "KlvZ0cp22v6y",
        "outputId": "810e7813-4aa8-4b0a-8d16-2ab41875da64"
      },
      "execution_count": null,
      "outputs": [
        {
          "output_type": "stream",
          "name": "stdout",
          "text": [
            "1       70.0\n",
            "2      131.0\n",
            "6      191.0\n",
            "7      292.0\n",
            "9      366.0\n",
            "13     416.0\n",
            "14     483.0\n",
            "16     534.0\n",
            "19     534.0\n",
            "20     606.0\n",
            "21     606.0\n",
            "22     681.0\n",
            "25     738.0\n",
            "27     772.0\n",
            "33     849.0\n",
            "35     849.0\n",
            "37     924.0\n",
            "46     924.0\n",
            "49    1002.0\n",
            "51    1084.0\n",
            "53    1170.0\n",
            "55    1170.0\n",
            "58    1170.0\n",
            "62    1170.0\n",
            "65    1222.0\n",
            "66    1222.0\n",
            "69    1318.0\n",
            "72    1414.0\n",
            "77    1414.0\n",
            "80    1464.0\n",
            "82    1514.0\n",
            "86    1580.0\n",
            "88    1580.0\n",
            "91    1658.0\n",
            "93    1701.0\n",
            "94    1701.0\n",
            "95    1754.0\n",
            "Name: f1, dtype: float64\n"
          ]
        }
      ]
    },
    {
      "cell_type": "code",
      "source": [
        "t8_result = t8_cumsum.mean()\n",
        "print(t8_result)"
      ],
      "metadata": {
        "colab": {
          "base_uri": "https://localhost:8080/"
        },
        "id": "qK29Z73726tf",
        "outputId": "e3ab492d-a30b-4224-cfc8-d5f7600637b2"
      },
      "execution_count": null,
      "outputs": [
        {
          "output_type": "stream",
          "name": "stdout",
          "text": [
            "980.3783783783783\n"
          ]
        }
      ]
    },
    {
      "cell_type": "markdown",
      "source": [
        "## T1-9. 수치형 변수 표준화\n",
        "### 주어진 데이터에서 'f5'컬럼을 표준화(Standardization (Z-score Normalization))하고 그 중앙값을 구하시오"
      ],
      "metadata": {
        "id": "80lKcT3w3GPx"
      }
    },
    {
      "cell_type": "code",
      "source": [
        "t9_data = pd.read_csv('/content/T9_data.csv')\n",
        "print(t9_data.head())"
      ],
      "metadata": {
        "colab": {
          "base_uri": "https://localhost:8080/"
        },
        "id": "sUZaf4AW3BTP",
        "outputId": "284ae1b3-1e80-44a3-b354-06004be086a4"
      },
      "execution_count": null,
      "outputs": [
        {
          "output_type": "stream",
          "name": "stdout",
          "text": [
            "     id   age city    f1  f2   f3    f4         f5\n",
            "0  id01   2.0   서울   NaN   0  NaN  ENFJ  91.297791\n",
            "1  id02   9.0   서울  70.0   1  NaN  ENFJ  60.339826\n",
            "2  id03  27.0   서울  61.0   1  NaN  ISTJ  17.252986\n",
            "3  id04  75.0   서울   NaN   2  NaN  INFP  52.667078\n",
            "4  id05  24.0   서울  85.0   2  NaN  ISFJ  29.269869\n"
          ]
        }
      ]
    },
    {
      "cell_type": "code",
      "source": [
        "# 표준화\n",
        "from sklearn.preprocessing import StandardScaler\n",
        "scaler = StandardScaler()\n",
        "t9_data['f5'] = scaler.fit_transform(t9_data[['f5']])\n",
        "print(t9_data.head())"
      ],
      "metadata": {
        "colab": {
          "base_uri": "https://localhost:8080/"
        },
        "id": "FyXWks6B3Wvc",
        "outputId": "927b640e-4341-45bd-cfec-dfbcabeddfaf"
      },
      "execution_count": null,
      "outputs": [
        {
          "output_type": "stream",
          "name": "stdout",
          "text": [
            "     id   age city    f1  f2   f3    f4        f5\n",
            "0  id01   2.0   서울   NaN   0  NaN  ENFJ  1.220815\n",
            "1  id02   9.0   서울  70.0   1  NaN  ENFJ  0.127343\n",
            "2  id03  27.0   서울  61.0   1  NaN  ISTJ -1.394535\n",
            "3  id04  75.0   서울   NaN   2  NaN  INFP -0.143667\n",
            "4  id05  24.0   서울  85.0   2  NaN  ISFJ -0.970085\n"
          ]
        }
      ]
    },
    {
      "cell_type": "code",
      "source": [
        "# 중앙값 출력\n",
        "print(t9_data['f5'].median())"
      ],
      "metadata": {
        "colab": {
          "base_uri": "https://localhost:8080/"
        },
        "id": "b91F4ZCs3xri",
        "outputId": "8eee11da-d4e7-4f99-9c7a-7cacd31010c6"
      },
      "execution_count": null,
      "outputs": [
        {
          "output_type": "stream",
          "name": "stdout",
          "text": [
            "0.26061962955901474\n"
          ]
        }
      ]
    },
    {
      "cell_type": "markdown",
      "source": [
        "## T1-10. 여-존슨과 박스-칵스 변환\n",
        "### 주어진 데이터에서 20세 이상인 데이터를 추출하고 'f1'컬럼을 결측치를 최빈값으로 채운 후, f1 컬럼의 여-존슨과 박스콕스 변환 값을 구하고, 두 값의 차이를 절대값으로 구한다음 모두 더해 소수점 둘째 자리까지 출력(반올림)하시오"
      ],
      "metadata": {
        "id": "ujWJEveu4n5B"
      }
    },
    {
      "cell_type": "code",
      "source": [
        "t10_data = pd.read_csv('/content/T10_data.csv')\n",
        "print(t10_data.head())"
      ],
      "metadata": {
        "colab": {
          "base_uri": "https://localhost:8080/"
        },
        "id": "wiIuldsh36k3",
        "outputId": "0c945d4e-eb57-4ac7-f5cb-9b690476d72c"
      },
      "execution_count": null,
      "outputs": [
        {
          "output_type": "stream",
          "name": "stdout",
          "text": [
            "     id   age city    f1  f2   f3    f4         f5\n",
            "0  id01   2.0   서울   NaN   0  NaN  ENFJ  91.297791\n",
            "1  id02   9.0   서울  70.0   1  NaN  ENFJ  60.339826\n",
            "2  id03  27.0   서울  61.0   1  NaN  ISTJ  17.252986\n",
            "3  id04  75.0   서울   NaN   2  NaN  INFP  52.667078\n",
            "4  id05  24.0   서울  85.0   2  NaN  ISFJ  29.269869\n"
          ]
        }
      ]
    },
    {
      "cell_type": "code",
      "source": [
        "t10_age = t10_data[t10_data['age'] >= 20]\n",
        "print('t10_data : ', t10_data.shape)\n",
        "print('t10_age : ', t10_age.shape)"
      ],
      "metadata": {
        "colab": {
          "base_uri": "https://localhost:8080/"
        },
        "id": "RTAVT5_G4uw2",
        "outputId": "909002e1-8c73-49ff-aae8-47230d0c4d4d"
      },
      "execution_count": null,
      "outputs": [
        {
          "output_type": "stream",
          "name": "stdout",
          "text": [
            "t10_data :  (100, 8)\n",
            "t10_age :  (83, 8)\n"
          ]
        }
      ]
    },
    {
      "cell_type": "code",
      "source": [
        "# 최빈값으로 'f1' 컬럼 결측치 대체\n",
        "print('결측치 처리 전   : ', t10_data.isnull().sum())\n",
        "print('최빈값         : ', t10_data['f1'].mode()[0])\n",
        "t10_data['f1'] = t10_data['f1'].fillna(t10_data['f1'].mode()[0])\n",
        "print('결측치 처리 후   : ', t10_data.isnull().sum())"
      ],
      "metadata": {
        "colab": {
          "base_uri": "https://localhost:8080/"
        },
        "id": "qiU_WYuS4-iA",
        "outputId": "31634dd4-7d2c-499b-a6fe-f3d68d7004bf"
      },
      "execution_count": null,
      "outputs": [
        {
          "output_type": "stream",
          "name": "stdout",
          "text": [
            "결측치 처리 전   :  id       0\n",
            "age      0\n",
            "city     0\n",
            "f1      31\n",
            "f2       0\n",
            "f3      95\n",
            "f4       0\n",
            "f5       0\n",
            "dtype: int64\n",
            "최빈값         :  50.0\n",
            "결측치 처리 후   :  id       0\n",
            "age      0\n",
            "city     0\n",
            "f1       0\n",
            "f2       0\n",
            "f3      95\n",
            "f4       0\n",
            "f5       0\n",
            "dtype: int64\n"
          ]
        }
      ]
    },
    {
      "cell_type": "code",
      "source": [
        "# 'f1' 데이터 여-존슨 값 구하기.\n",
        "from sklearn.preprocessing import power_transform\n",
        "t10_data['y'] = power_transform(t10_data[['f1']]) # method 디폴트 값 = 여-존슨\n",
        "print(t10_data['y'].head())"
      ],
      "metadata": {
        "colab": {
          "base_uri": "https://localhost:8080/"
        },
        "id": "sAGPm2Qn5TdQ",
        "outputId": "737c86e0-dd89-411d-f9ca-29ac9aeb636e"
      },
      "execution_count": null,
      "outputs": [
        {
          "output_type": "stream",
          "name": "stdout",
          "text": [
            "0   -0.587095\n",
            "1    0.564070\n",
            "2    0.070360\n",
            "3   -0.587095\n",
            "4    1.319089\n",
            "Name: y, dtype: float64\n"
          ]
        }
      ]
    },
    {
      "cell_type": "code",
      "source": [
        "t10_data['y'] = power_transform(t10_data[['f1']], standardize=False)\n",
        "print(t10_data['y'].head())"
      ],
      "metadata": {
        "colab": {
          "base_uri": "https://localhost:8080/"
        },
        "id": "AxaBrCpl9Hte",
        "outputId": "5e9e1b6d-7d21-4793-adbb-ab715ae1978c"
      },
      "execution_count": null,
      "outputs": [
        {
          "output_type": "stream",
          "name": "stdout",
          "text": [
            "0    11.603160\n",
            "1    13.948618\n",
            "2    12.942701\n",
            "3    11.603160\n",
            "4    15.486942\n",
            "Name: y, dtype: float64\n"
          ]
        }
      ]
    },
    {
      "cell_type": "code",
      "source": [
        "# f1'데이터 박스-콕스 box-cox 값 구하기\n",
        "t10_data['b'] = power_transform(t10_data[['f1']], method='box-cox', standardize = False)\n",
        "print(t10_data['b'].head())"
      ],
      "metadata": {
        "colab": {
          "base_uri": "https://localhost:8080/"
        },
        "id": "mLQmTa5r9t6w",
        "outputId": "35d1315d-8dd6-4697-aee4-bda8facd7094"
      },
      "execution_count": null,
      "outputs": [
        {
          "output_type": "stream",
          "name": "stdout",
          "text": [
            "0    11.958190\n",
            "1    14.486739\n",
            "2    13.401504\n",
            "3    11.958190\n",
            "4    16.148861\n",
            "Name: b, dtype: float64\n"
          ]
        }
      ]
    },
    {
      "cell_type": "code",
      "source": [
        "print(sum(np.abs(t10_data['y'] - t10_data['b'])), 2)"
      ],
      "metadata": {
        "colab": {
          "base_uri": "https://localhost:8080/"
        },
        "id": "VPitHT4X999x",
        "outputId": "b64982de-6507-4f52-e877-74aa87b6a391"
      },
      "execution_count": null,
      "outputs": [
        {
          "output_type": "stream",
          "name": "stdout",
          "text": [
            "45.28146270873602 2\n"
          ]
        }
      ]
    },
    {
      "cell_type": "markdown",
      "source": [
        "## T1-11. min-max 기준 상하위 5%값\n",
        "### 주어진 데이터에서 'f5'컬럼을 min-max 스케일 변환한 후, 상위 5%와 하위 5% 값의 합을 구하시오\n"
      ],
      "metadata": {
        "id": "DeEIDFOu-46p"
      }
    },
    {
      "cell_type": "code",
      "source": [
        "import pandas as pd\n",
        "import numpy as np\n",
        "\n",
        "t11_data = pd.read_csv('/content/T11_data.csv')\n",
        "\n",
        "# print(t11_data.head())\n",
        "# print(t11_data.isnull().sum())\n",
        "\n",
        "# MIN-MAX SCALER\n",
        "from sklearn.preprocessing import MinMaxScaler\n",
        "scaler = MinMaxScaler()\n",
        "t11_data['f5_1'] = scaler.fit_transform(t11_data[['f5']])\n",
        "\n",
        "lower = t11_data['f5_1'].quantile(0.05)\n",
        "\n",
        "print(lower)\n",
        "\n",
        "higher = t11_data['f5_1'].quantile(0.95)\n",
        "\n",
        "print(higher)\n",
        "\n",
        "print(lower + higher)"
      ],
      "metadata": {
        "colab": {
          "base_uri": "https://localhost:8080/"
        },
        "id": "_4S_CXJP-Lxt",
        "outputId": "da0f5f8e-71ad-4fac-d75f-7a4024d2023e"
      },
      "execution_count": null,
      "outputs": [
        {
          "output_type": "stream",
          "name": "stdout",
          "text": [
            "0.03670782406038746\n",
            "0.9881662742993513\n",
            "1.0248740983597389\n"
          ]
        }
      ]
    },
    {
      "cell_type": "markdown",
      "source": [
        "## T1-12. 상위 10개, 하위 10개 차이\n",
        "### 주어진 데이터에서 상위 10개 국가의 접종률 평균과 하위 10개 국가의 접종률 평균을 구하고, 그 차이를 구해보세요"
      ],
      "metadata": {
        "id": "RXnLZsMXBKUl"
      }
    },
    {
      "cell_type": "code",
      "source": [
        "t12_data = pd.read_csv('/content/T12_data.csv')\n",
        "\n",
        "# print(t12_data.head())\n",
        "\n",
        "t12 = t12_data.groupby('country').max() # 시간에 따라 접종률이 올라감.\n",
        "t12 = t12.sort_values(by='ratio', ascending= False)\n",
        "\n",
        "# 100%가 넘는 접종률 제거\n",
        "cond = t12['ratio'] <= 100\n",
        "t12 = t12[cond]\n",
        "\n",
        "top = t12['ratio'].head(10).mean()\n",
        "bottom = t12['ratio'].tail(10).mean()\n",
        "\n",
        "print(round(top - bottom, 1))"
      ],
      "metadata": {
        "colab": {
          "base_uri": "https://localhost:8080/"
        },
        "id": "nlstU03N_NmG",
        "outputId": "0c4a3196-5d76-4730-cf77-0169d6e41a9c"
      },
      "execution_count": null,
      "outputs": [
        {
          "output_type": "stream",
          "name": "stdout",
          "text": [
            "88.4\n"
          ]
        }
      ]
    },
    {
      "cell_type": "markdown",
      "source": [
        "## T1-13. 상관관계 구하기.\n",
        "### 주어진 데이터에서 상관관계를 구하고, quality와의 상관관계가 가장 큰 값과, 가장 작은 값을 구한 다음 더하시오! 단, quality와 quality 상관관계 제외, 소수점 둘째 자리까지 출력"
      ],
      "metadata": {
        "id": "Ski2YfLwDYjQ"
      }
    },
    {
      "cell_type": "code",
      "source": [
        "t13_data = pd.read_csv('/content/T13._data.csv')\n",
        "\n",
        "# print(t13_data.head())\n",
        "\n",
        "# 상관관계 구하기\n",
        "t13_corr = t13_data.corr()\n",
        "t13_corr = t13_corr[:-1]\n",
        "\n",
        "# 상관관계가 가장 큰 값과 가장 작은 값(절대값)\n",
        "max_corr = abs(t13_data.corr()['quality'][:-1]).max()\n",
        "min_corr = abs(t13_data.corr()['quality'][:-1]).min()\n",
        "\n",
        "if max_corr not in t13_data.corr()[['quality']][:-1].values:\n",
        "  max_corr =- max_corr\n",
        "\n",
        "if min_corr not in t13_data.corr()[['quality']][:-1].values:\n",
        "  min_corr =- min_corr\n",
        "\n",
        "t13_result = round(max_corr + min_corr, 2)\n",
        "print(t13_result)"
      ],
      "metadata": {
        "colab": {
          "base_uri": "https://localhost:8080/"
        },
        "id": "BsqIU948BeC6",
        "outputId": "e7f2e059-795f-4a0e-a04a-2284d30d994c"
      },
      "execution_count": null,
      "outputs": [
        {
          "output_type": "stream",
          "name": "stdout",
          "text": [
            "0.47616632400113656 0.013731637340065779\n",
            "0.47616632400113656 0.013731637340065779\n",
            "0.49\n"
          ]
        }
      ]
    },
    {
      "cell_type": "markdown",
      "source": [
        "## T1-14. 2개 조건에 따른 상위 값\n",
        "### city와 f4를 기준으로 f5의 평균값을 구한 다음, f5를 기준으로 상위 7개 값을 모두 더해 출력하시오 (소수점 둘째자리까지 출력)"
      ],
      "metadata": {
        "id": "AZbswhmvE_SW"
      }
    },
    {
      "cell_type": "code",
      "source": [
        "t14_data = pd.read_csv('/content/T14_data.csv')\n",
        "\n",
        "# print(t14_data.head())\n",
        "\n",
        "# city와 f4 기준으로 f5값 평균 값\n",
        "t14_data = t14_data.groupby(['city', 'f4'])[['f5']].mean()\n",
        "\n",
        "# DataFrame 전환 후, 상위 7개 출력 (중요)\n",
        "t14_data = t14_data.reset_index().sort_values('f5', ascending=False).head(7)\n",
        "\n",
        "# f5의 합계(소수점 둘째자리)\n",
        "print(round(t14_data['f5'].sum(), 2))"
      ],
      "metadata": {
        "colab": {
          "base_uri": "https://localhost:8080/"
        },
        "id": "mqt5ZdNyCpD1",
        "outputId": "7233b42c-4acd-4477-88ac-c3bc91be51d5"
      },
      "execution_count": null,
      "outputs": [
        {
          "output_type": "stream",
          "name": "stdout",
          "text": [
            "643.68\n"
          ]
        }
      ]
    },
    {
      "cell_type": "markdown",
      "source": [
        "## T1-15. 슬라이싱 & 조건\n",
        "### 주어진 데이터 셋에서 age컬럼 상위 20개의 데이터를 구한 다음 f1의 결측치를 중앙값으로 채운다. 그리고 f4가 ISFJ와 f5가 20 이상인 f1의 평균값을 출력하시오!"
      ],
      "metadata": {
        "id": "d3sRz5GoPcB1"
      }
    },
    {
      "cell_type": "code",
      "source": [
        "import pandas as pd\n",
        "import numpy as np\n",
        "\n",
        "t15_data = pd.read_csv('/content/T15_data.csv')\n",
        "\n",
        "t15 = t15_data.sort_values('age', ascending=False).reset_index(drop=True)\n",
        "\n",
        "# print(t15.head())\n",
        "\n",
        "t15 = t15[:20]\n",
        "\n",
        "# 결측값 채우기(중앙값)\n",
        "t15['f1'] = t15['f1'].fillna(t15['f1'].median())\n",
        "\n",
        "# f4 = ISFJ && f5 >= 20\n",
        "cond = (t15['f4'] == 'ISFJ') & (t15['f5'] >= 20)\n",
        "\n",
        "print(t15[cond]['f1'].mean())\n"
      ],
      "metadata": {
        "colab": {
          "base_uri": "https://localhost:8080/"
        },
        "id": "gl3yyejUFONW",
        "outputId": "820378ac-3776-493c-8b44-af329d469f6b"
      },
      "execution_count": null,
      "outputs": [
        {
          "output_type": "stream",
          "name": "stdout",
          "text": [
            "73.875\n"
          ]
        }
      ]
    },
    {
      "cell_type": "markdown",
      "source": [
        "## T1-16. 분산\n",
        "### 주어진 데이터 셋에서 f2가 0값인 데이터를 age를 기준으로 오름차순 정렬하고 앞에서 부터 20개의 데이터를 추출한 후 f1 결측치(최소값)를 채우기 전과 후의 분산 차이를 계산하시오 (소수점 둘째 자리까지)"
      ],
      "metadata": {
        "id": "BFp4ovLJQ6c6"
      }
    },
    {
      "cell_type": "code",
      "source": [
        "t16 = pd.read_csv('/content/T16_data.csv')\n",
        "\n",
        "# 조건 'f2' == 0 && sortBy 'age' ascending\n",
        "t16 = t16[t16['f2'] == 0].sort_values('age', ascending = True).reset_index(drop = True)\n",
        "\n",
        "# 20개 데이터\n",
        "t16 = t16[:20]\n",
        "\n",
        "# f1 결측치(최소값)를 채우기 전과 후의 분산\n",
        "t16_var1 = t16['f1'].var()\n",
        "t16['f1'] = t16['f1'].fillna(t16['f1'].min())\n",
        "t16_var2 = t16['f1'].var()\n",
        "\n",
        "print(round(t16_var2 - t16_var1, 2))"
      ],
      "metadata": {
        "colab": {
          "base_uri": "https://localhost:8080/"
        },
        "id": "gMfISwluPwID",
        "outputId": "2ad1495b-8a20-464d-e516-9809a2163d1a"
      },
      "execution_count": null,
      "outputs": [
        {
          "output_type": "stream",
          "name": "stdout",
          "text": [
            "-38.44\n"
          ]
        }
      ]
    },
    {
      "cell_type": "markdown",
      "source": [
        "## T1-17. 시계열 데이터1\n",
        "### 2022년 5월 sales의 중앙값을 구하시오"
      ],
      "metadata": {
        "id": "LtvYhPNZSfZA"
      }
    },
    {
      "cell_type": "code",
      "source": [
        "t17 = pd.read_csv('/content/T17_data.csv')\n",
        "\n",
        "\n",
        "# datetime으로 type 변경\n",
        "t17['Date'] = pd.to_datetime(t17['Date'])\n",
        "\n",
        "t17['year'] = t17['Date'].dt.year\n",
        "t17['month'] = t17['Date'].dt.month\n",
        "t17['day'] = t17['Date'].dt.day\n",
        "\n",
        "# print(t17.head())\n",
        "\n",
        "cond = (t17['year'] == 2022) & (t17['month'] == 5)\n",
        "\n",
        "print(t17[cond]['Sales'].median())"
      ],
      "metadata": {
        "colab": {
          "base_uri": "https://localhost:8080/"
        },
        "id": "sEz5ClqtRiDr",
        "outputId": "0a0232ef-748d-4499-c222-63a0730dda10"
      },
      "execution_count": null,
      "outputs": [
        {
          "output_type": "stream",
          "name": "stdout",
          "text": [
            "1477685.0\n"
          ]
        }
      ]
    },
    {
      "cell_type": "markdown",
      "source": [
        "## T1-18. 시계열 데이터2\n",
        "### 주어진 데이터에서 2022년 5월 주말과 평일의 sales컬럼 평균값 차이를 구하시오 (소수점 둘째자리까지 출력, 반올림)"
      ],
      "metadata": {
        "id": "cInkEZ_jT5xh"
      }
    },
    {
      "cell_type": "code",
      "source": [
        "t18 = pd.read_csv('/content/T18_data.csv', parse_dates = ['Date'])\n",
        "\n",
        "# print(t18.info())\n",
        "\n",
        "t18['year'] = t18['Date'].dt.year\n",
        "t18['month'] = t18['Date'].dt.month\n",
        "t18['day'] = t18['Date'].dt.day\n",
        "t18['dayofweek'] = t18['Date'].dt.dayofweek\n",
        "\n",
        "t18['weekend'] = t18['dayofweek'].apply(lambda x : x >= 5)\n",
        "\n",
        "# 2022년 5월 주말\n",
        "weekend = (t18['year'] == 2022) & (t18['month'] == 5) & (t18['weekend'])\n",
        "\n",
        "# 2022년 5월 평일\n",
        "weekday = (t18['year'] == 2022) & (t18['month'] == 5) & (~t18['weekend'])\n",
        "\n",
        "# SALES\n",
        "weekend_sales = t18[weekend]['Sales'].mean()\n",
        "weekday_sales = t18[weekday]['Sales'].mean()\n",
        "\n",
        "print(round(weekend_sales - weekday_sales, 1))\n",
        "\n"
      ],
      "metadata": {
        "colab": {
          "base_uri": "https://localhost:8080/"
        },
        "id": "YZJL-HKySqvt",
        "outputId": "4a35a049-ceb8-4f2d-f220-0fc64876ab6f"
      },
      "execution_count": null,
      "outputs": [
        {
          "output_type": "stream",
          "name": "stdout",
          "text": [
            "3010339.1\n"
          ]
        }
      ]
    },
    {
      "cell_type": "markdown",
      "source": [
        "## T1-19. 시계열 데이터3\n",
        "### 주어진 데이터에서 2022년 월별 Sales 합계 중 가장 큰 금액과 2023년 월별 Sales 합계 중 가장 큰 금액의 차이를 절대값으로 구하시오. 단 Events컬럼이 '1'인경우 80%의 Salse값만 반영함. (최종값은 소수점 반올림 후 정수 출력)\n"
      ],
      "metadata": {
        "id": "8FSzYIpaVlMK"
      }
    },
    {
      "cell_type": "code",
      "source": [
        "t19 = pd.read_csv('/content/T19_data.csv', parse_dates = ['Date'])\n",
        "\n",
        "t19['year'] = t19['Date'].dt.year\n",
        "t19['month'] = t19['Date'].dt.month\n",
        "t19['day'] = t19['Date'].dt.day\n",
        "t19['dayofweek'] = t19['Date'].dt.dayofweek\n",
        "\n",
        "def event_sales(x) :\n",
        "  if x['Events'] == 1:\n",
        "    x['Sales2'] = x['Sales'] * 0.8\n",
        "  else:\n",
        "    x['Sales2'] = x['Sales']\n",
        "  return x\n",
        "\n",
        "\n",
        "# 1인 경우, row || 0인 경우 column\n",
        "t19 = t19.apply(lambda x : event_sales(x), axis = 1)\n",
        "\n",
        "# 2022년 월별 합계 중 가장 큰 값\n",
        "t19_2022 = t19[t19['year'] == 2022]\n",
        "sale_2022 = t19_2022.groupby('month')['Sales2'].sum().max()\n",
        "\n",
        "\n",
        "t19_2023 = t19[t19['year'] == 2023]\n",
        "sale_2023 = t19_2023.groupby('month')['Sales2'].sum().max()\n",
        "\n",
        "print(int(round(abs(sale_2022 - sale_2023), 0)))"
      ],
      "metadata": {
        "colab": {
          "base_uri": "https://localhost:8080/"
        },
        "id": "afJiqP6VUDjX",
        "outputId": "a031e45c-7482-40df-d6be-380ab007f500"
      },
      "execution_count": null,
      "outputs": [
        {
          "output_type": "stream",
          "name": "stdout",
          "text": [
            "42473436\n"
          ]
        }
      ]
    },
    {
      "cell_type": "markdown",
      "source": [
        "## T1-20. 데이터 병합\n",
        "### 고객과 잘 맞는 타입 추천 :) basic1 데이터와 basic3 데이터를 'f4'값을 기준으로 병합하고,병합한 데이터에서 r2결측치를 제거한다음, 앞에서 부터 20개 데이터를 선택하고 'f2'컬럼 합을 구하시오"
      ],
      "metadata": {
        "id": "zyz3ydl3ZpKo"
      }
    },
    {
      "cell_type": "code",
      "source": [
        "t201 = pd.read_csv('/content/T20_data_1.csv') # 고객 데이터\n",
        "t202 = pd.read_csv('/content/T20_data_2.csv') # 잘 어울리는 관계 데이터(추천1: r1 / 추천2 : r2)\n",
        "\n",
        "# print(t201.head())\n",
        "# print(t202.head())\n",
        "\n",
        "# 데이터 결합(t201 기준으로 결합)\n",
        "t20 = pd.merge(left = t201, right = t202, how='left', on = 'f4')\n",
        "\n",
        "# print(t20.isnull().sum())\n",
        "\n",
        "t20 = t20.dropna(subset= ['r2'])\n",
        "\n",
        "t20 = t20.reset_index()\n",
        "\n",
        "print(t20.iloc[:20]['f2'].sum())"
      ],
      "metadata": {
        "colab": {
          "base_uri": "https://localhost:8080/"
        },
        "id": "ye5SiA5JWOUd",
        "outputId": "adb61313-295f-44cc-aed4-437ee35f59fc"
      },
      "execution_count": null,
      "outputs": [
        {
          "output_type": "stream",
          "name": "stdout",
          "text": [
            "15\n"
          ]
        }
      ]
    },
    {
      "cell_type": "markdown",
      "source": [
        "## T1-21. 구간 분할\n",
        "### 나이 구간 나누기basic1 데이터 중 'age'컬럼 이상치를 제거하고, 동일한 개수로 나이 순으로 3그룹으로 나눈 뒤 각 그룹의 중앙값을 더하시오(이상치는 음수(0포함), 소수점 값)"
      ],
      "metadata": {
        "id": "jFa3ak1IbAGF"
      }
    },
    {
      "cell_type": "code",
      "source": [
        "t21 = pd.read_csv('/content/T21_data.csv')\n",
        "\n",
        "# print(t21.isnull().sum())\n",
        "\n",
        "t21 = t21[~(t21['age'] <= 0)]\n",
        "\n",
        "t21 = t21[t21['age'] == round(t21['age'], 0)]\n",
        "\n",
        "# 기준 확인\n",
        "# pd.qcut(t21['age'], q=3)\n",
        "\n",
        "# 구간 분할\n",
        "t21['range'] = pd.qcut(t21['age'], q=3, labels = ['group1', 'group2' ,'group3'])\n",
        "\n",
        "# 수량 비교\n",
        "# t21['range'].value_counts()\n",
        "\n",
        "# 중간 이상 - 중간 이하\n",
        "g1_med = t21[t21['range'] == 'group1']['age'].median()\n",
        "g2_med = t21[t21['range'] == 'group2']['age'].median()\n",
        "g3_med = t21[t21['range'] == 'group3']['age'].median()\n",
        "\n",
        "print(g1_med + g2_med + g3_med)"
      ],
      "metadata": {
        "colab": {
          "base_uri": "https://localhost:8080/"
        },
        "id": "3vr2-6yHaKNd",
        "outputId": "88e94eef-fc7b-4834-b05c-cd57f72e93fc"
      },
      "execution_count": null,
      "outputs": [
        {
          "output_type": "stream",
          "name": "stdout",
          "text": [
            "165.0\n"
          ]
        }
      ]
    },
    {
      "cell_type": "markdown",
      "source": [
        "## T1-22.Time-Series4 (Weekly data)\n",
        "### 주어진 데이터(basic2.csv)에서 주 단위 Sales의 합계를 구하고, 가장 큰 값을 가진 주와 작은 값을 가진 주의 차이를 구하시오(절대값)"
      ],
      "metadata": {
        "id": "b-mVj7NA8yMP"
      }
    },
    {
      "cell_type": "code",
      "source": [
        "import pandas as pd\n",
        "import numpy as np\n",
        "\n",
        "t22 = pd.read_csv('/content/T22_data.csv', parse_dates = ['Date'], index_col = 0)\n",
        "\n",
        "# print(t22.head())\n",
        "\n",
        "# 단위 변환\n",
        "t22_week = t22.resample('W').sum()\n",
        "\n",
        "# print(t22_week.head())\n",
        "\n",
        "t22_max = t22_week['Sales'].max()\n",
        "t22_min = t22_week['Sales'].min()\n",
        "\n",
        "print(t22_max - t22_min)"
      ],
      "metadata": {
        "colab": {
          "base_uri": "https://localhost:8080/"
        },
        "id": "bpaX8WOdbMbn",
        "outputId": "5fb0bf85-7eb2-4182-e9b1-41685f87afdd"
      },
      "execution_count": null,
      "outputs": [
        {
          "output_type": "stream",
          "name": "stdout",
          "text": [
            "91639050\n"
          ]
        }
      ]
    },
    {
      "cell_type": "markdown",
      "source": [
        "## T1-23. 중복 데이터 제거\n",
        "### f1의 결측치를 채운 후 age 컬럼의 중복 제거 전과 후의 'f1' 중앙값 차이를 구하시오"
      ],
      "metadata": {
        "id": "bVWufW_Z-Q-v"
      }
    },
    {
      "cell_type": "code",
      "source": [
        "t23 = pd.read_csv('/content/T23_data.csv')\n",
        "\n",
        "# t23.tail()\n",
        "\n",
        "# f1 데이터에서 10번째 큰 값으로 결측치 채움\n",
        "\n",
        "top10 = t23['f1'].sort_values(ascending=False).iloc[9]\n",
        "\n",
        "t23['f1'] = t23['f1'].fillna(top10)\n",
        "\n",
        "# 중복 제거 전 중앙값\n",
        "t23_result = t23['f1'].median()\n",
        "\n",
        "t23 = t23.drop_duplicates(subset=['age'])\n",
        "\n",
        "t23_ret = t23['f1'].median()\n",
        "\n",
        "print(abs(t23_result - t23_ret))"
      ],
      "metadata": {
        "colab": {
          "base_uri": "https://localhost:8080/"
        },
        "id": "OphITjiW9igF",
        "outputId": "96cf070a-6598-4179-bb7f-1f9f15cd94d1"
      },
      "execution_count": null,
      "outputs": [
        {
          "output_type": "stream",
          "name": "stdout",
          "text": [
            "0.5\n"
          ]
        }
      ]
    },
    {
      "cell_type": "markdown",
      "source": [
        "## T1-24. Time-Series5 (Lagged Feature) 시차 데이터 생성\n",
        "### 주어진 데이터(basic2.csv)에서 \"pv\"컬럼으로 1일 시차(lag)가 있는 새로운 컬럼을 만들고(예: 1월 2일에는 1월 1일 pv데이터를 넣고, 1월 3일에는 1월 2일 pv데이터를 넣음),새로운 컬럼의 1월 1일은 다음날(1월 2일)데이터로 결측치를 채운 다음, Events가 1이면서 Sales가 1000000이하인 조건에 맞는 새로운 컬럼 합을 구하시오"
      ],
      "metadata": {
        "id": "L7FgGeYA_-sf"
      }
    },
    {
      "cell_type": "code",
      "source": [
        "t24 = pd.read_csv('/content/T24_data.csv')\n",
        "\n",
        "\n",
        "t24['previous_PV'] = t24['PV'].shift(1)\n",
        "\n",
        "t24['previous_PV'] = t24['previous_PV'].fillna(method='bfill')\n",
        "\n",
        "cond = (t24['Sales'] <= 1000000) & (t24['Events'] == 1)\n",
        "\n",
        "print(t24[cond]['previous_PV'].sum())"
      ],
      "metadata": {
        "colab": {
          "base_uri": "https://localhost:8080/"
        },
        "id": "jrPK6dPf-cuR",
        "outputId": "54ce5270-ffb8-4c9f-ef03-45e02ddf2332"
      },
      "execution_count": null,
      "outputs": [
        {
          "output_type": "stream",
          "name": "stdout",
          "text": [
            "1894876.0\n"
          ]
        }
      ]
    },
    {
      "cell_type": "code",
      "source": [],
      "metadata": {
        "id": "euX7BRpgAJ9g"
      },
      "execution_count": null,
      "outputs": []
    }
  ]
}