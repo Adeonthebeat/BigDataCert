{
  "nbformat": 4,
  "nbformat_minor": 0,
  "metadata": {
    "colab": {
      "provenance": [],
      "authorship_tag": "ABX9TyPAlYhU3aw2f7LP5wsIf14k",
      "include_colab_link": true
    },
    "kernelspec": {
      "name": "python3",
      "display_name": "Python 3"
    },
    "language_info": {
      "name": "python"
    }
  },
  "cells": [
    {
      "cell_type": "markdown",
      "metadata": {
        "id": "view-in-github",
        "colab_type": "text"
      },
      "source": [
        "<a href=\"https://colab.research.google.com/github/Adeonthebeat/BigDataCert/blob/main/%EC%9E%91%EC%97%85%ED%98%952_4%ED%9A%8C.ipynb\" target=\"_parent\"><img src=\"https://colab.research.google.com/assets/colab-badge.svg\" alt=\"Open In Colab\"/></a>"
      ]
    },
    {
      "cell_type": "code",
      "execution_count": null,
      "metadata": {
        "colab": {
          "base_uri": "https://localhost:8080/"
        },
        "id": "rdAJY4hY7JyB",
        "outputId": "50e8d1a9-ea7f-47df-cc3d-b3892bc71f29"
      },
      "outputs": [
        {
          "output_type": "stream",
          "name": "stdout",
          "text": [
            "fatal: destination path 'yemoonsaBigdata' already exists and is not an empty directory.\n"
          ]
        }
      ],
      "source": [
        "'''\n",
        "다음은 Customer Segmentation 데이터 세트다.\n",
        "주어진 훈련 데이터 세트를 활용하여 고객이 속한 세그먼트(Segment)를 예측하고 해당 예측 결과를 csv 파일로 제출하시오.\n",
        "'''\n",
        "# macro_f1\n",
        "!git clone https://github.com/AnalyticsKnight/yemoonsaBigdata/"
      ]
    },
    {
      "cell_type": "code",
      "source": [
        "import pandas as pd\n",
        "\n",
        "# 데이터 파일 읽기\n",
        "x_test = pd.read_csv('/content/yemoonsaBigdata/datasets/Part3/404_x_test.csv')\n",
        "x_train = pd.read_csv('/content/yemoonsaBigdata/datasets/Part3/404_x_train.csv')\n",
        "y_train = pd.read_csv('/content/yemoonsaBigdata/datasets/Part3/404_y_train.csv')"
      ],
      "metadata": {
        "id": "Mmt9dWy_AHxy"
      },
      "execution_count": null,
      "outputs": []
    },
    {
      "cell_type": "code",
      "source": [
        "print(x_test.head())"
      ],
      "metadata": {
        "colab": {
          "base_uri": "https://localhost:8080/"
        },
        "id": "1PuEnDBDAiJI",
        "outputId": "2bfb5341-6258-4d3b-9fd4-08938c7e10a6"
      },
      "execution_count": null,
      "outputs": [
        {
          "output_type": "stream",
          "name": "stdout",
          "text": [
            "       ID  Gender Ever_Married  Age Graduated  Profession  Work_Experience  \\\n",
            "0  458989  Female          Yes   36       Yes    Engineer              0.0   \n",
            "1  458994    Male          Yes   37       Yes  Healthcare              8.0   \n",
            "2  459000    Male          Yes   59        No   Executive             11.0   \n",
            "3  459003    Male          Yes   47       Yes      Doctor              0.0   \n",
            "4  459005    Male          Yes   61       Yes      Doctor              5.0   \n",
            "\n",
            "  Spending_Score  Family_Size  \n",
            "0            Low          1.0  \n",
            "1        Average          4.0  \n",
            "2           High          2.0  \n",
            "3           High          5.0  \n",
            "4            Low          3.0  \n"
          ]
        }
      ]
    },
    {
      "cell_type": "code",
      "source": [
        "print(x_train.head())"
      ],
      "metadata": {
        "colab": {
          "base_uri": "https://localhost:8080/"
        },
        "id": "ywHNX_usAnJR",
        "outputId": "ec0d1e5b-de6c-4ccd-c490-98d8a12b56a7"
      },
      "execution_count": null,
      "outputs": [
        {
          "output_type": "stream",
          "name": "stdout",
          "text": [
            "       ID  Gender Ever_Married  Age Graduated  Profession  Work_Experience  \\\n",
            "0  462809    Male           No   22        No  Healthcare              1.0   \n",
            "1  466315  Female          Yes   67       Yes    Engineer              1.0   \n",
            "2  461735    Male          Yes   67       Yes      Lawyer              0.0   \n",
            "3  461319    Male          Yes   56        No      Artist              0.0   \n",
            "4  460156    Male           No   32       Yes  Healthcare              1.0   \n",
            "\n",
            "  Spending_Score  Family_Size  \n",
            "0            Low          4.0  \n",
            "1            Low          1.0  \n",
            "2           High          2.0  \n",
            "3        Average          2.0  \n",
            "4            Low          3.0  \n"
          ]
        }
      ]
    },
    {
      "cell_type": "code",
      "source": [
        "print(y_train.head())"
      ],
      "metadata": {
        "colab": {
          "base_uri": "https://localhost:8080/"
        },
        "id": "PpiD0_OfApDu",
        "outputId": "f9afeaec-064f-431b-b857-c920ee70f68a"
      },
      "execution_count": null,
      "outputs": [
        {
          "output_type": "stream",
          "name": "stdout",
          "text": [
            "       ID Segmentation\n",
            "0  462809            D\n",
            "1  466315            B\n",
            "2  461735            B\n",
            "3  461319            C\n",
            "4  460156            C\n"
          ]
        }
      ]
    },
    {
      "cell_type": "code",
      "source": [
        "print(x_train.info())"
      ],
      "metadata": {
        "colab": {
          "base_uri": "https://localhost:8080/"
        },
        "id": "O1nkNaysAsBG",
        "outputId": "9cbaf035-f9d9-4aa0-e153-944df90a5e56"
      },
      "execution_count": null,
      "outputs": [
        {
          "output_type": "stream",
          "name": "stdout",
          "text": [
            "<class 'pandas.core.frame.DataFrame'>\n",
            "RangeIndex: 6718 entries, 0 to 6717\n",
            "Data columns (total 9 columns):\n",
            " #   Column           Non-Null Count  Dtype  \n",
            "---  ------           --------------  -----  \n",
            " 0   ID               6718 non-null   int64  \n",
            " 1   Gender           6718 non-null   object \n",
            " 2   Ever_Married     6718 non-null   object \n",
            " 3   Age              6718 non-null   int64  \n",
            " 4   Graduated        6718 non-null   object \n",
            " 5   Profession       6718 non-null   object \n",
            " 6   Work_Experience  6718 non-null   float64\n",
            " 7   Spending_Score   6718 non-null   object \n",
            " 8   Family_Size      6718 non-null   float64\n",
            "dtypes: float64(2), int64(2), object(5)\n",
            "memory usage: 472.5+ KB\n",
            "None\n"
          ]
        }
      ]
    },
    {
      "cell_type": "code",
      "source": [
        "print(y_train.head())"
      ],
      "metadata": {
        "colab": {
          "base_uri": "https://localhost:8080/"
        },
        "id": "0iqwKTAzAuw9",
        "outputId": "b8ca0ce3-df27-4d50-e159-cb629c197677"
      },
      "execution_count": null,
      "outputs": [
        {
          "output_type": "stream",
          "name": "stdout",
          "text": [
            "       ID Segmentation\n",
            "0  462809            D\n",
            "1  466315            B\n",
            "2  461735            B\n",
            "3  461319            C\n",
            "4  460156            C\n"
          ]
        }
      ]
    },
    {
      "cell_type": "code",
      "source": [
        "print(x_test.info())"
      ],
      "metadata": {
        "colab": {
          "base_uri": "https://localhost:8080/"
        },
        "id": "Uv1zkTDuAxse",
        "outputId": "25045af7-fedd-4578-94eb-275714579452"
      },
      "execution_count": null,
      "outputs": [
        {
          "output_type": "stream",
          "name": "stdout",
          "text": [
            "<class 'pandas.core.frame.DataFrame'>\n",
            "RangeIndex: 2178 entries, 0 to 2177\n",
            "Data columns (total 9 columns):\n",
            " #   Column           Non-Null Count  Dtype  \n",
            "---  ------           --------------  -----  \n",
            " 0   ID               2178 non-null   int64  \n",
            " 1   Gender           2178 non-null   object \n",
            " 2   Ever_Married     2178 non-null   object \n",
            " 3   Age              2178 non-null   int64  \n",
            " 4   Graduated        2178 non-null   object \n",
            " 5   Profession       2178 non-null   object \n",
            " 6   Work_Experience  2178 non-null   float64\n",
            " 7   Spending_Score   2178 non-null   object \n",
            " 8   Family_Size      2178 non-null   float64\n",
            "dtypes: float64(2), int64(2), object(5)\n",
            "memory usage: 153.3+ KB\n",
            "None\n"
          ]
        }
      ]
    },
    {
      "cell_type": "code",
      "source": [
        "print(x_train.isnull().sum())"
      ],
      "metadata": {
        "colab": {
          "base_uri": "https://localhost:8080/"
        },
        "id": "bbqZHcAZA1HB",
        "outputId": "62612046-daf9-4ea0-e139-988bdeaf9f02"
      },
      "execution_count": null,
      "outputs": [
        {
          "output_type": "stream",
          "name": "stdout",
          "text": [
            "ID                 0\n",
            "Gender             0\n",
            "Ever_Married       0\n",
            "Age                0\n",
            "Graduated          0\n",
            "Profession         0\n",
            "Work_Experience    0\n",
            "Spending_Score     0\n",
            "Family_Size        0\n",
            "dtype: int64\n"
          ]
        }
      ]
    },
    {
      "cell_type": "code",
      "source": [
        "print(x_test.isnull().sum())"
      ],
      "metadata": {
        "colab": {
          "base_uri": "https://localhost:8080/"
        },
        "id": "Ayqcj_qsA43W",
        "outputId": "8e9850f6-feec-4c82-f93b-5b0846b4ea87"
      },
      "execution_count": null,
      "outputs": [
        {
          "output_type": "stream",
          "name": "stdout",
          "text": [
            "ID                 0\n",
            "Gender             0\n",
            "Ever_Married       0\n",
            "Age                0\n",
            "Graduated          0\n",
            "Profession         0\n",
            "Work_Experience    0\n",
            "Spending_Score     0\n",
            "Family_Size        0\n",
            "dtype: int64\n"
          ]
        }
      ]
    },
    {
      "cell_type": "code",
      "source": [
        "# print(y_train.isnull().sum())\n",
        "print(x_test.head())"
      ],
      "metadata": {
        "colab": {
          "base_uri": "https://localhost:8080/"
        },
        "id": "Jn18xVrHA6zF",
        "outputId": "a116991f-f59e-4b00-f815-86c152bdf5b7"
      },
      "execution_count": null,
      "outputs": [
        {
          "output_type": "stream",
          "name": "stdout",
          "text": [
            "       ID  Gender  Ever_Married       Age  Graduated  Profession  \\\n",
            "0  458989       0             1 -0.457046          1           2   \n",
            "1  458994       1             1 -0.396351          1           5   \n",
            "2  459000       1             1  0.938941          0           4   \n",
            "3  459003       1             1  0.210600          1           1   \n",
            "4  459005       1             1  1.060332          1           1   \n",
            "\n",
            "   Work_Experience  Spending_Score  Family_Size  \n",
            "0        -0.769246               2    -1.214766  \n",
            "1         1.587678               0     0.746714  \n",
            "2         2.471525               1    -0.560940  \n",
            "3        -0.769246               1     1.400541  \n",
            "4         0.703832               2     0.092887  \n"
          ]
        }
      ]
    },
    {
      "cell_type": "code",
      "source": [
        "# 데이터 분리\n",
        "# 불필요 변수 : ID\n",
        "# 범주형 변수 : Gender Ever_Married  Age Graduated  Profession Spending_Score\n",
        "# 수치형 변수 : Age Work_Experience Family_Size\n",
        "# 예측형 변수 : Segmentation\n",
        "\n",
        "COL_DEL = ['ID']\n",
        "COL_CAT = ['Gender', 'Ever_Married',  'Graduated',  'Profession', 'Spending_Score']\n",
        "COL_NUM = ['Age', 'Work_Experience', 'Family_Size']\n",
        "COL_Y = ['Segmentation']\n"
      ],
      "metadata": {
        "id": "-aGoxri0A8u_"
      },
      "execution_count": null,
      "outputs": []
    },
    {
      "cell_type": "code",
      "source": [
        "from sklearn.model_selection import train_test_split\n",
        "\n",
        "x_tr, x_val, y_tr, y_val = train_test_split(x_train[COL_CAT + COL_NUM]\n",
        "                                          , y_train[COL_Y].values.ravel()\n",
        "                                          , test_size = 0.3\n",
        "                                          , stratify= y_train[COL_Y].values.ravel())"
      ],
      "metadata": {
        "id": "vo88b9ojEfSr"
      },
      "execution_count": null,
      "outputs": []
    },
    {
      "cell_type": "code",
      "source": [
        "print(x_tr.head())"
      ],
      "metadata": {
        "colab": {
          "base_uri": "https://localhost:8080/"
        },
        "id": "oCaSAeAgFBZa",
        "outputId": "03fa1081-bdcc-4821-df8d-024b0b9c3d3e"
      },
      "execution_count": null,
      "outputs": [
        {
          "output_type": "stream",
          "name": "stdout",
          "text": [
            "      Gender Ever_Married Graduated     Profession Spending_Score  Age  \\\n",
            "4409    Male          Yes       Yes         Artist            Low   73   \n",
            "5491    Male           No       Yes         Artist            Low   40   \n",
            "3227    Male          Yes       Yes  Entertainment        Average   55   \n",
            "4974  Female           No       Yes         Artist            Low   51   \n",
            "3095    Male           No       Yes         Artist            Low   35   \n",
            "\n",
            "      Work_Experience  Family_Size  \n",
            "4409              1.0          2.0  \n",
            "5491              2.0          1.0  \n",
            "3227              1.0          3.0  \n",
            "4974              0.0          1.0  \n",
            "3095              0.0          1.0  \n"
          ]
        }
      ]
    },
    {
      "cell_type": "code",
      "source": [
        "print(y_tr)"
      ],
      "metadata": {
        "colab": {
          "base_uri": "https://localhost:8080/"
        },
        "id": "pRSVQHwZFRUd",
        "outputId": "523e8cde-a65e-4de8-a048-61e28158d462"
      },
      "execution_count": null,
      "outputs": [
        {
          "output_type": "stream",
          "name": "stdout",
          "text": [
            "['B' 'B' 'B' ... 'D' 'A' 'C']\n"
          ]
        }
      ]
    },
    {
      "cell_type": "code",
      "source": [
        "from sklearn.preprocessing import StandardScaler\n",
        "\n",
        "# 스케일링\n",
        "scaler = StandardScaler()\n",
        "scaler.fit(x_tr[COL_NUM])\n",
        "\n",
        "# 필수 모든 데이터 스케일링 필요\n",
        "x_tr[COL_NUM] = scaler.transform(x_tr[COL_NUM])\n",
        "x_val[COL_NUM] = scaler.transform(x_val[COL_NUM])\n",
        "x_test[COL_NUM] = scaler.transform(x_test[COL_NUM])\n",
        "\n",
        "print(x_tr[COL_NUM].head())"
      ],
      "metadata": {
        "colab": {
          "base_uri": "https://localhost:8080/"
        },
        "id": "E4b8SsrTFkB4",
        "outputId": "75689119-08f6-4813-dabd-57bd045437db"
      },
      "execution_count": null,
      "outputs": [
        {
          "output_type": "stream",
          "name": "stdout",
          "text": [
            "           Age  Work_Experience  Family_Size\n",
            "4409  1.788673        -0.474631    -0.560940\n",
            "5491 -0.214266        -0.180015    -1.214766\n",
            "3227  0.696161        -0.474631     0.092887\n",
            "4974  0.453380        -0.769246    -1.214766\n",
            "3095 -0.517742        -0.769246    -1.214766\n"
          ]
        }
      ]
    },
    {
      "cell_type": "code",
      "source": [
        "from sklearn.preprocessing import LabelEncoder\n",
        "\n",
        "x = pd.concat([x_train[COL_CAT], x_test[COL_CAT]])\n",
        "\n",
        "for col in COL_CAT:\n",
        "  le = LabelEncoder()\n",
        "  le.fit(x[col])\n",
        "  x_tr[col] = le.transform(x_tr[col])\n",
        "  x_val[col] = le.transform(x_val[col])\n",
        "  x_test[col] = le.transform(x_test[col])\n",
        "\n",
        "  print(col)\n",
        "  print(le.classes_)\n",
        "  print('\\n')"
      ],
      "metadata": {
        "colab": {
          "base_uri": "https://localhost:8080/"
        },
        "id": "MYM7qZvFF_cM",
        "outputId": "cdbae962-bde6-49bd-f700-781c1309864e"
      },
      "execution_count": null,
      "outputs": [
        {
          "output_type": "stream",
          "name": "stdout",
          "text": [
            "Gender\n",
            "['Female' 'Male']\n",
            "\n",
            "\n",
            "Ever_Married\n",
            "['No' 'Yes']\n",
            "\n",
            "\n",
            "Graduated\n",
            "['No' 'Yes']\n",
            "\n",
            "\n",
            "Profession\n",
            "['Artist' 'Doctor' 'Engineer' 'Entertainment' 'Executive' 'Healthcare'\n",
            " 'Homemaker' 'Lawyer' 'Marketing']\n",
            "\n",
            "\n",
            "Spending_Score\n",
            "['Average' 'High' 'Low']\n",
            "\n",
            "\n"
          ]
        }
      ]
    },
    {
      "cell_type": "code",
      "source": [
        "print(x_tr[COL_CAT].head())"
      ],
      "metadata": {
        "colab": {
          "base_uri": "https://localhost:8080/"
        },
        "id": "tt-2zzolGQow",
        "outputId": "653f5a15-8b93-40a0-b5b2-b9e4ede7da0c"
      },
      "execution_count": null,
      "outputs": [
        {
          "output_type": "stream",
          "name": "stdout",
          "text": [
            "      Gender  Ever_Married  Graduated  Profession  Spending_Score\n",
            "4409       1             1          1           0               2\n",
            "5491       1             0          1           0               2\n",
            "3227       1             1          1           3               0\n",
            "4974       0             0          1           0               2\n",
            "3095       1             0          1           0               2\n"
          ]
        }
      ]
    },
    {
      "cell_type": "code",
      "source": [
        "# XGBoost 최신 버전에서 발생하는 y 데이터의 Label오류 해결을 위한 추가 코드\n",
        "y_le = LabelEncoder()\n",
        "y_le.fit(y_train[COL_Y])\n",
        "\n",
        "y_tr = y_le.transform(y_tr)\n",
        "y_val = y_le.transform(y_val)"
      ],
      "metadata": {
        "colab": {
          "base_uri": "https://localhost:8080/"
        },
        "id": "M_tBgvvLIHGa",
        "outputId": "e217adba-2b55-42d6-bdaa-abfdedc01ce1"
      },
      "execution_count": null,
      "outputs": [
        {
          "output_type": "stream",
          "name": "stderr",
          "text": [
            "/usr/local/lib/python3.10/dist-packages/sklearn/preprocessing/_label.py:99: DataConversionWarning: A column-vector y was passed when a 1d array was expected. Please change the shape of y to (n_samples, ), for example using ravel().\n",
            "  y = column_or_1d(y, warn=True)\n"
          ]
        }
      ]
    },
    {
      "cell_type": "code",
      "source": [
        "# 랜덤 포레스트\n",
        "from sklearn.ensemble import RandomForestClassifier\n",
        "model_rf = RandomForestClassifier(random_state = 123)\n",
        "model_rf.fit(x_tr, y_tr)\n",
        "\n",
        "# XGBoost\n",
        "from xgboost import XGBClassifier\n",
        "model_xgb = XGBClassifier(random_state = 123)\n",
        "model_xgb.fit(x_tr, y_tr)"
      ],
      "metadata": {
        "colab": {
          "base_uri": "https://localhost:8080/",
          "height": 248
        },
        "id": "csZHO8V1GnG6",
        "outputId": "c49cc897-4e5e-4c47-8c14-4b24d4f357fb"
      },
      "execution_count": null,
      "outputs": [
        {
          "output_type": "execute_result",
          "data": {
            "text/plain": [
              "XGBClassifier(base_score=None, booster=None, callbacks=None,\n",
              "              colsample_bylevel=None, colsample_bynode=None,\n",
              "              colsample_bytree=None, device=None, early_stopping_rounds=None,\n",
              "              enable_categorical=False, eval_metric=None, feature_types=None,\n",
              "              gamma=None, grow_policy=None, importance_type=None,\n",
              "              interaction_constraints=None, learning_rate=None, max_bin=None,\n",
              "              max_cat_threshold=None, max_cat_to_onehot=None,\n",
              "              max_delta_step=None, max_depth=None, max_leaves=None,\n",
              "              min_child_weight=None, missing=nan, monotone_constraints=None,\n",
              "              multi_strategy=None, n_estimators=None, n_jobs=None,\n",
              "              num_parallel_tree=None, objective='multi:softprob', ...)"
            ],
            "text/html": [
              "<style>#sk-container-id-2 {color: black;background-color: white;}#sk-container-id-2 pre{padding: 0;}#sk-container-id-2 div.sk-toggleable {background-color: white;}#sk-container-id-2 label.sk-toggleable__label {cursor: pointer;display: block;width: 100%;margin-bottom: 0;padding: 0.3em;box-sizing: border-box;text-align: center;}#sk-container-id-2 label.sk-toggleable__label-arrow:before {content: \"▸\";float: left;margin-right: 0.25em;color: #696969;}#sk-container-id-2 label.sk-toggleable__label-arrow:hover:before {color: black;}#sk-container-id-2 div.sk-estimator:hover label.sk-toggleable__label-arrow:before {color: black;}#sk-container-id-2 div.sk-toggleable__content {max-height: 0;max-width: 0;overflow: hidden;text-align: left;background-color: #f0f8ff;}#sk-container-id-2 div.sk-toggleable__content pre {margin: 0.2em;color: black;border-radius: 0.25em;background-color: #f0f8ff;}#sk-container-id-2 input.sk-toggleable__control:checked~div.sk-toggleable__content {max-height: 200px;max-width: 100%;overflow: auto;}#sk-container-id-2 input.sk-toggleable__control:checked~label.sk-toggleable__label-arrow:before {content: \"▾\";}#sk-container-id-2 div.sk-estimator input.sk-toggleable__control:checked~label.sk-toggleable__label {background-color: #d4ebff;}#sk-container-id-2 div.sk-label input.sk-toggleable__control:checked~label.sk-toggleable__label {background-color: #d4ebff;}#sk-container-id-2 input.sk-hidden--visually {border: 0;clip: rect(1px 1px 1px 1px);clip: rect(1px, 1px, 1px, 1px);height: 1px;margin: -1px;overflow: hidden;padding: 0;position: absolute;width: 1px;}#sk-container-id-2 div.sk-estimator {font-family: monospace;background-color: #f0f8ff;border: 1px dotted black;border-radius: 0.25em;box-sizing: border-box;margin-bottom: 0.5em;}#sk-container-id-2 div.sk-estimator:hover {background-color: #d4ebff;}#sk-container-id-2 div.sk-parallel-item::after {content: \"\";width: 100%;border-bottom: 1px solid gray;flex-grow: 1;}#sk-container-id-2 div.sk-label:hover label.sk-toggleable__label {background-color: #d4ebff;}#sk-container-id-2 div.sk-serial::before {content: \"\";position: absolute;border-left: 1px solid gray;box-sizing: border-box;top: 0;bottom: 0;left: 50%;z-index: 0;}#sk-container-id-2 div.sk-serial {display: flex;flex-direction: column;align-items: center;background-color: white;padding-right: 0.2em;padding-left: 0.2em;position: relative;}#sk-container-id-2 div.sk-item {position: relative;z-index: 1;}#sk-container-id-2 div.sk-parallel {display: flex;align-items: stretch;justify-content: center;background-color: white;position: relative;}#sk-container-id-2 div.sk-item::before, #sk-container-id-2 div.sk-parallel-item::before {content: \"\";position: absolute;border-left: 1px solid gray;box-sizing: border-box;top: 0;bottom: 0;left: 50%;z-index: -1;}#sk-container-id-2 div.sk-parallel-item {display: flex;flex-direction: column;z-index: 1;position: relative;background-color: white;}#sk-container-id-2 div.sk-parallel-item:first-child::after {align-self: flex-end;width: 50%;}#sk-container-id-2 div.sk-parallel-item:last-child::after {align-self: flex-start;width: 50%;}#sk-container-id-2 div.sk-parallel-item:only-child::after {width: 0;}#sk-container-id-2 div.sk-dashed-wrapped {border: 1px dashed gray;margin: 0 0.4em 0.5em 0.4em;box-sizing: border-box;padding-bottom: 0.4em;background-color: white;}#sk-container-id-2 div.sk-label label {font-family: monospace;font-weight: bold;display: inline-block;line-height: 1.2em;}#sk-container-id-2 div.sk-label-container {text-align: center;}#sk-container-id-2 div.sk-container {/* jupyter's `normalize.less` sets `[hidden] { display: none; }` but bootstrap.min.css set `[hidden] { display: none !important; }` so we also need the `!important` here to be able to override the default hidden behavior on the sphinx rendered scikit-learn.org. See: https://github.com/scikit-learn/scikit-learn/issues/21755 */display: inline-block !important;position: relative;}#sk-container-id-2 div.sk-text-repr-fallback {display: none;}</style><div id=\"sk-container-id-2\" class=\"sk-top-container\"><div class=\"sk-text-repr-fallback\"><pre>XGBClassifier(base_score=None, booster=None, callbacks=None,\n",
              "              colsample_bylevel=None, colsample_bynode=None,\n",
              "              colsample_bytree=None, device=None, early_stopping_rounds=None,\n",
              "              enable_categorical=False, eval_metric=None, feature_types=None,\n",
              "              gamma=None, grow_policy=None, importance_type=None,\n",
              "              interaction_constraints=None, learning_rate=None, max_bin=None,\n",
              "              max_cat_threshold=None, max_cat_to_onehot=None,\n",
              "              max_delta_step=None, max_depth=None, max_leaves=None,\n",
              "              min_child_weight=None, missing=nan, monotone_constraints=None,\n",
              "              multi_strategy=None, n_estimators=None, n_jobs=None,\n",
              "              num_parallel_tree=None, objective=&#x27;multi:softprob&#x27;, ...)</pre><b>In a Jupyter environment, please rerun this cell to show the HTML representation or trust the notebook. <br />On GitHub, the HTML representation is unable to render, please try loading this page with nbviewer.org.</b></div><div class=\"sk-container\" hidden><div class=\"sk-item\"><div class=\"sk-estimator sk-toggleable\"><input class=\"sk-toggleable__control sk-hidden--visually\" id=\"sk-estimator-id-2\" type=\"checkbox\" checked><label for=\"sk-estimator-id-2\" class=\"sk-toggleable__label sk-toggleable__label-arrow\">XGBClassifier</label><div class=\"sk-toggleable__content\"><pre>XGBClassifier(base_score=None, booster=None, callbacks=None,\n",
              "              colsample_bylevel=None, colsample_bynode=None,\n",
              "              colsample_bytree=None, device=None, early_stopping_rounds=None,\n",
              "              enable_categorical=False, eval_metric=None, feature_types=None,\n",
              "              gamma=None, grow_policy=None, importance_type=None,\n",
              "              interaction_constraints=None, learning_rate=None, max_bin=None,\n",
              "              max_cat_threshold=None, max_cat_to_onehot=None,\n",
              "              max_delta_step=None, max_depth=None, max_leaves=None,\n",
              "              min_child_weight=None, missing=nan, monotone_constraints=None,\n",
              "              multi_strategy=None, n_estimators=None, n_jobs=None,\n",
              "              num_parallel_tree=None, objective=&#x27;multi:softprob&#x27;, ...)</pre></div></div></div></div></div>"
            ]
          },
          "metadata": {},
          "execution_count": 31
        }
      ]
    },
    {
      "cell_type": "code",
      "source": [
        "# 데이터 모형평가\n",
        "\n",
        "# 검증데이터로 예측값 생성\n",
        "y_rf_pred = model_rf.predict(x_val)\n",
        "y_xgb_pred = model_xgb.predict(x_val)"
      ],
      "metadata": {
        "id": "wu1MxT8cHLdh"
      },
      "execution_count": null,
      "outputs": []
    },
    {
      "cell_type": "code",
      "source": [
        "from sklearn.metrics import f1_score\n",
        "\n",
        "score_rf = f1_score(y_val, y_rf_pred, average='macro')\n",
        "score_xgb = f1_score(y_val, y_xgb_pred, average='macro')\n",
        "\n",
        "print(\"RANDOM FOREST: \", score_rf)\n",
        "print(\"XGBOOST      : \", score_xgb)"
      ],
      "metadata": {
        "colab": {
          "base_uri": "https://localhost:8080/"
        },
        "id": "BmL5w-RbIw6X",
        "outputId": "a7bbebd3-43b2-428f-91b6-59121b6211bd"
      },
      "execution_count": null,
      "outputs": [
        {
          "output_type": "stream",
          "name": "stdout",
          "text": [
            "RANDOM FOREST:  0.48791779146349795\n",
            "XGBOOST      :  0.5062015777817022\n"
          ]
        }
      ]
    },
    {
      "cell_type": "code",
      "source": [
        "import sklearn.metrics\n",
        "\n",
        "# print(help(sklearn.metrics))"
      ],
      "metadata": {
        "id": "hrjG0TaqJKAS"
      },
      "execution_count": null,
      "outputs": []
    },
    {
      "cell_type": "code",
      "source": [
        "pred = model_xgb.predict(x_test[COL_CAT+COL_NUM])\n",
        "\n",
        "pred = y_le.inverse_transform(pred)\n",
        "\n",
        "result = pd.DataFrame({'ID' : x_test.ID, 'Segmentation': pred})\n",
        "\n",
        "print(result.head())"
      ],
      "metadata": {
        "colab": {
          "base_uri": "https://localhost:8080/"
        },
        "id": "FKdIWBh4JQyV",
        "outputId": "d3e19467-bee4-489d-ddc3-53f04b459e44"
      },
      "execution_count": null,
      "outputs": [
        {
          "output_type": "stream",
          "name": "stdout",
          "text": [
            "       ID Segmentation\n",
            "0  458989            B\n",
            "1  458994            C\n",
            "2  459000            C\n",
            "3  459003            C\n",
            "4  459005            B\n"
          ]
        }
      ]
    },
    {
      "cell_type": "code",
      "source": [
        "result.to_csv('223008_002', index=False)"
      ],
      "metadata": {
        "id": "AV1ww1C4MbLS"
      },
      "execution_count": null,
      "outputs": []
    },
    {
      "cell_type": "code",
      "source": [],
      "metadata": {
        "id": "eald-ufQMsLH"
      },
      "execution_count": null,
      "outputs": []
    }
  ]
}